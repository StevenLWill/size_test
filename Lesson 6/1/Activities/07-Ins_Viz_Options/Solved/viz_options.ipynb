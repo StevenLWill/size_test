{
 "cells": [
  {
   "cell_type": "code",
   "execution_count": 8,
   "metadata": {},
   "outputs": [],
   "source": [
    "from pathlib import Path\n",
    "import pandas as pd\n",
    "import hvplot.pandas"
   ]
  },
  {
   "cell_type": "markdown",
   "metadata": {},
   "source": [
    "  ### Prep Data"
   ]
  },
  {
   "cell_type": "code",
   "execution_count": 11,
   "metadata": {},
   "outputs": [
    {
     "data": {
      "text/html": [
       "<div>\n",
       "<style scoped>\n",
       "    .dataframe tbody tr th:only-of-type {\n",
       "        vertical-align: middle;\n",
       "    }\n",
       "\n",
       "    .dataframe tbody tr th {\n",
       "        vertical-align: top;\n",
       "    }\n",
       "\n",
       "    .dataframe thead th {\n",
       "        text-align: right;\n",
       "    }\n",
       "</style>\n",
       "<table border=\"1\" class=\"dataframe\">\n",
       "  <thead>\n",
       "    <tr style=\"text-align: right;\">\n",
       "      <th></th>\n",
       "      <th>saleAmt</th>\n",
       "    </tr>\n",
       "    <tr>\n",
       "      <th>saleDate</th>\n",
       "      <th></th>\n",
       "    </tr>\n",
       "  </thead>\n",
       "  <tbody>\n",
       "    <tr>\n",
       "      <th>2019-06-03</th>\n",
       "      <td>3.064560e+05</td>\n",
       "    </tr>\n",
       "    <tr>\n",
       "      <th>2019-06-05</th>\n",
       "      <td>2.800000e+05</td>\n",
       "    </tr>\n",
       "    <tr>\n",
       "      <th>2019-06-07</th>\n",
       "      <td>6.523823e+05</td>\n",
       "    </tr>\n",
       "    <tr>\n",
       "      <th>2019-06-10</th>\n",
       "      <td>7.229993e+05</td>\n",
       "    </tr>\n",
       "    <tr>\n",
       "      <th>2019-06-12</th>\n",
       "      <td>1.870000e+05</td>\n",
       "    </tr>\n",
       "    <tr>\n",
       "      <th>2019-06-13</th>\n",
       "      <td>4.150000e+05</td>\n",
       "    </tr>\n",
       "    <tr>\n",
       "      <th>2019-06-14</th>\n",
       "      <td>5.100000e+05</td>\n",
       "    </tr>\n",
       "    <tr>\n",
       "      <th>2019-06-16</th>\n",
       "      <td>1.531210e+06</td>\n",
       "    </tr>\n",
       "    <tr>\n",
       "      <th>2019-06-17</th>\n",
       "      <td>8.320000e+05</td>\n",
       "    </tr>\n",
       "    <tr>\n",
       "      <th>2019-06-20</th>\n",
       "      <td>1.684500e+05</td>\n",
       "    </tr>\n",
       "    <tr>\n",
       "      <th>2019-06-21</th>\n",
       "      <td>5.650000e+05</td>\n",
       "    </tr>\n",
       "    <tr>\n",
       "      <th>2019-06-24</th>\n",
       "      <td>2.750000e+05</td>\n",
       "    </tr>\n",
       "  </tbody>\n",
       "</table>\n",
       "</div>"
      ],
      "text/plain": [
       "                 saleAmt\n",
       "saleDate                \n",
       "2019-06-03  3.064560e+05\n",
       "2019-06-05  2.800000e+05\n",
       "2019-06-07  6.523823e+05\n",
       "2019-06-10  7.229993e+05\n",
       "2019-06-12  1.870000e+05\n",
       "2019-06-13  4.150000e+05\n",
       "2019-06-14  5.100000e+05\n",
       "2019-06-16  1.531210e+06\n",
       "2019-06-17  8.320000e+05\n",
       "2019-06-20  1.684500e+05\n",
       "2019-06-21  5.650000e+05\n",
       "2019-06-24  2.750000e+05"
      ]
     },
     "execution_count": 11,
     "metadata": {},
     "output_type": "execute_result"
    }
   ],
   "source": [
    "# Read in data, filter, and slice\n",
    "home_sale_prices = pd.read_csv(\n",
    "    Path(\"../Resources/housing_sale_data.csv\"), index_col=\"salesHistoryKey\"\n",
    ")\n",
    "home_sale_prices = home_sale_prices.loc[\n",
    "    (home_sale_prices[\"saleDate\"] > \"2019-06-01\")\n",
    "    & (home_sale_prices[\"saleDate\"] < \"2019-06-31\")\n",
    "]\n",
    "\n",
    "# Slice data\n",
    "sale_prices_by_year = (\n",
    "    home_sale_prices[[\"saleAmt\", \"saleDate\"]]\n",
    "    .groupby(\"saleDate\")\n",
    "    .mean()\n",
    "    .sort_values(\"saleDate\")\n",
    ")\n",
    "\n",
    "sale_prices_by_year.head(28)"
   ]
  },
  {
   "cell_type": "markdown",
   "metadata": {},
   "source": [
    "  ### Plot data"
   ]
  },
  {
   "cell_type": "code",
   "execution_count": 14,
   "metadata": {},
   "outputs": [
    {
     "data": {},
     "metadata": {},
     "output_type": "display_data"
    },
    {
     "data": {
      "application/vnd.holoviews_exec.v0+json": "",
      "text/html": [
       "<div id='1837'>\n",
       "\n",
       "\n",
       "\n",
       "\n",
       "\n",
       "  <div class=\"bk-root\" id=\"ec5c81d5-133f-431f-8106-2e82c2948b54\" data-root-id=\"1837\"></div>\n",
       "</div>\n",
       "<script type=\"application/javascript\">(function(root) {\n",
       "  function embed_document(root) {\n",
       "    var docs_json = {\"4cf94388-9df0-46c6-84ce-4a0e26877088\":{\"defs\":[{\"extends\":null,\"module\":null,\"name\":\"ReactiveHTML1\",\"overrides\":[],\"properties\":[]},{\"extends\":null,\"module\":null,\"name\":\"FlexBox1\",\"overrides\":[],\"properties\":[{\"default\":\"flex-start\",\"kind\":null,\"name\":\"align_content\"},{\"default\":\"flex-start\",\"kind\":null,\"name\":\"align_items\"},{\"default\":\"row\",\"kind\":null,\"name\":\"flex_direction\"},{\"default\":\"wrap\",\"kind\":null,\"name\":\"flex_wrap\"},{\"default\":\"flex-start\",\"kind\":null,\"name\":\"justify_content\"}]},{\"extends\":null,\"module\":null,\"name\":\"TemplateActions1\",\"overrides\":[],\"properties\":[{\"default\":0,\"kind\":null,\"name\":\"open_modal\"},{\"default\":0,\"kind\":null,\"name\":\"close_modal\"}]},{\"extends\":null,\"module\":null,\"name\":\"MaterialTemplateActions1\",\"overrides\":[],\"properties\":[{\"default\":0,\"kind\":null,\"name\":\"open_modal\"},{\"default\":0,\"kind\":null,\"name\":\"close_modal\"}]}],\"roots\":{\"references\":[{\"attributes\":{\"axis_label\":\"saleDate\",\"coordinates\":null,\"formatter\":{\"id\":\"1881\"},\"group\":null,\"major_label_orientation\":0.7853981633974483,\"major_label_policy\":{\"id\":\"1882\"},\"ticker\":{\"id\":\"1852\"}},\"id\":\"1851\",\"type\":\"CategoricalAxis\"},{\"attributes\":{\"axis\":{\"id\":\"1851\"},\"coordinates\":null,\"grid_line_color\":null,\"group\":null,\"ticker\":null},\"id\":\"1853\",\"type\":\"Grid\"},{\"attributes\":{},\"id\":\"1847\",\"type\":\"CategoricalScale\"},{\"attributes\":{\"margin\":[5,5,5,5],\"name\":\"HSpacer02805\",\"sizing_mode\":\"stretch_width\"},\"id\":\"1838\",\"type\":\"Spacer\"},{\"attributes\":{},\"id\":\"1862\",\"type\":\"ResetTool\"},{\"attributes\":{},\"id\":\"1893\",\"type\":\"UnionRenderers\"},{\"attributes\":{\"bottom\":{\"value\":0},\"fill_alpha\":{\"value\":1.0},\"fill_color\":{\"value\":\"#30a2da\"},\"hatch_alpha\":{\"value\":1.0},\"hatch_color\":{\"value\":\"#30a2da\"},\"hatch_scale\":{\"value\":12.0},\"hatch_weight\":{\"value\":1.0},\"line_alpha\":{\"value\":1.0},\"line_cap\":{\"value\":\"butt\"},\"line_color\":{\"value\":\"black\"},\"line_dash\":{\"value\":[]},\"line_dash_offset\":{\"value\":0},\"line_join\":{\"value\":\"bevel\"},\"line_width\":{\"value\":1},\"top\":{\"field\":\"saleAmt\"},\"width\":{\"value\":0.8},\"x\":{\"field\":\"saleDate\"}},\"id\":\"1879\",\"type\":\"VBar\"},{\"attributes\":{},\"id\":\"1849\",\"type\":\"LinearScale\"},{\"attributes\":{},\"id\":\"1855\",\"type\":\"BasicTicker\"},{\"attributes\":{\"children\":[{\"id\":\"1838\"},{\"id\":\"1842\"},{\"id\":\"1906\"}],\"margin\":[0,0,0,0],\"name\":\"Row02801\",\"tags\":[\"embedded\"]},\"id\":\"1837\",\"type\":\"Row\"},{\"attributes\":{\"callback\":null,\"renderers\":[{\"id\":\"1877\"}],\"tags\":[\"hv_created\"],\"tooltips\":[[\"saleDate\",\"@{saleDate}\"],[\"saleAmt\",\"@{saleAmt}\"]]},\"id\":\"1841\",\"type\":\"HoverTool\"},{\"attributes\":{},\"id\":\"1852\",\"type\":\"CategoricalTicker\"},{\"attributes\":{},\"id\":\"1885\",\"type\":\"AllLabels\"},{\"attributes\":{\"end\":1667486.0,\"reset_end\":1667486.0,\"reset_start\":0.0,\"tags\":[[[\"saleAmt\",\"saleAmt\",null]]]},\"id\":\"1840\",\"type\":\"Range1d\"},{\"attributes\":{\"axis_label\":\"saleAmt\",\"coordinates\":null,\"formatter\":{\"id\":\"1884\"},\"group\":null,\"major_label_policy\":{\"id\":\"1885\"},\"ticker\":{\"id\":\"1855\"}},\"id\":\"1854\",\"type\":\"LinearAxis\"},{\"attributes\":{\"bottom_units\":\"screen\",\"coordinates\":null,\"fill_alpha\":0.5,\"fill_color\":\"lightgrey\",\"group\":null,\"left_units\":\"screen\",\"level\":\"overlay\",\"line_alpha\":1.0,\"line_color\":\"black\",\"line_dash\":[4,4],\"line_width\":2,\"right_units\":\"screen\",\"syncable\":false,\"top_units\":\"screen\"},\"id\":\"1863\",\"type\":\"BoxAnnotation\"},{\"attributes\":{\"axis\":{\"id\":\"1854\"},\"coordinates\":null,\"dimension\":1,\"grid_line_color\":null,\"group\":null,\"ticker\":null},\"id\":\"1857\",\"type\":\"Grid\"},{\"attributes\":{},\"id\":\"1872\",\"type\":\"Selection\"},{\"attributes\":{},\"id\":\"1884\",\"type\":\"BasicTickFormatter\"},{\"attributes\":{\"margin\":[5,5,5,5],\"name\":\"HSpacer02806\",\"sizing_mode\":\"stretch_width\"},\"id\":\"1906\",\"type\":\"Spacer\"},{\"attributes\":{\"tools\":[{\"id\":\"1841\"},{\"id\":\"1858\"},{\"id\":\"1859\"},{\"id\":\"1860\"},{\"id\":\"1861\"},{\"id\":\"1862\"}]},\"id\":\"1864\",\"type\":\"Toolbar\"},{\"attributes\":{\"fill_color\":{\"value\":\"#30a2da\"},\"hatch_color\":{\"value\":\"#30a2da\"},\"top\":{\"field\":\"saleAmt\"},\"width\":{\"value\":0.8},\"x\":{\"field\":\"saleDate\"}},\"id\":\"1874\",\"type\":\"VBar\"},{\"attributes\":{\"below\":[{\"id\":\"1851\"}],\"center\":[{\"id\":\"1853\"},{\"id\":\"1857\"}],\"height\":300,\"left\":[{\"id\":\"1854\"}],\"margin\":[5,5,5,5],\"min_border_bottom\":10,\"min_border_left\":10,\"min_border_right\":10,\"min_border_top\":10,\"renderers\":[{\"id\":\"1877\"}],\"sizing_mode\":\"fixed\",\"title\":{\"id\":\"1843\"},\"toolbar\":{\"id\":\"1864\"},\"width\":700,\"x_range\":{\"id\":\"1839\"},\"x_scale\":{\"id\":\"1847\"},\"y_range\":{\"id\":\"1840\"},\"y_scale\":{\"id\":\"1849\"}},\"id\":\"1842\",\"subtype\":\"Figure\",\"type\":\"Plot\"},{\"attributes\":{},\"id\":\"1858\",\"type\":\"SaveTool\"},{\"attributes\":{},\"id\":\"1882\",\"type\":\"AllLabels\"},{\"attributes\":{},\"id\":\"1859\",\"type\":\"PanTool\"},{\"attributes\":{\"coordinates\":null,\"group\":null,\"text_color\":\"black\",\"text_font_size\":\"12pt\"},\"id\":\"1843\",\"type\":\"Title\"},{\"attributes\":{\"fill_alpha\":{\"value\":0.1},\"fill_color\":{\"value\":\"#30a2da\"},\"hatch_alpha\":{\"value\":0.1},\"hatch_color\":{\"value\":\"#30a2da\"},\"line_alpha\":{\"value\":0.1},\"top\":{\"field\":\"saleAmt\"},\"width\":{\"value\":0.8},\"x\":{\"field\":\"saleDate\"}},\"id\":\"1875\",\"type\":\"VBar\"},{\"attributes\":{},\"id\":\"1860\",\"type\":\"WheelZoomTool\"},{\"attributes\":{},\"id\":\"1881\",\"type\":\"CategoricalTickFormatter\"},{\"attributes\":{\"factors\":[\"2019-06-03\",\"2019-06-05\",\"2019-06-07\",\"2019-06-10\",\"2019-06-12\",\"2019-06-13\",\"2019-06-14\",\"2019-06-16\",\"2019-06-17\",\"2019-06-20\",\"2019-06-21\",\"2019-06-24\"],\"tags\":[[[\"saleDate\",\"saleDate\",null]]]},\"id\":\"1839\",\"type\":\"FactorRange\"},{\"attributes\":{\"data\":{\"saleAmt\":{\"__ndarray__\":\"AAAAAGC0EkEAAAAAABcRQauqqqq86CNBq6qqqm4QJkEAAAAAwNMGQQAAAABgVBlBAAAAAMAgH0EAAAAASl03QQAAAAAAZClBAAAAABCQBEEAAAAAED4hQQAAAADgyBBB\",\"dtype\":\"float64\",\"order\":\"little\",\"shape\":[12]},\"saleDate\":[\"2019-06-03\",\"2019-06-05\",\"2019-06-07\",\"2019-06-10\",\"2019-06-12\",\"2019-06-13\",\"2019-06-14\",\"2019-06-16\",\"2019-06-17\",\"2019-06-20\",\"2019-06-21\",\"2019-06-24\"]},\"selected\":{\"id\":\"1872\"},\"selection_policy\":{\"id\":\"1893\"}},\"id\":\"1871\",\"type\":\"ColumnDataSource\"},{\"attributes\":{\"fill_alpha\":{\"value\":0.2},\"fill_color\":{\"value\":\"#30a2da\"},\"hatch_alpha\":{\"value\":0.2},\"hatch_color\":{\"value\":\"#30a2da\"},\"line_alpha\":{\"value\":0.2},\"top\":{\"field\":\"saleAmt\"},\"width\":{\"value\":0.8},\"x\":{\"field\":\"saleDate\"}},\"id\":\"1876\",\"type\":\"VBar\"},{\"attributes\":{\"overlay\":{\"id\":\"1863\"}},\"id\":\"1861\",\"type\":\"BoxZoomTool\"},{\"attributes\":{\"source\":{\"id\":\"1871\"}},\"id\":\"1878\",\"type\":\"CDSView\"},{\"attributes\":{\"coordinates\":null,\"data_source\":{\"id\":\"1871\"},\"glyph\":{\"id\":\"1874\"},\"group\":null,\"hover_glyph\":null,\"muted_glyph\":{\"id\":\"1876\"},\"nonselection_glyph\":{\"id\":\"1875\"},\"selection_glyph\":{\"id\":\"1879\"},\"view\":{\"id\":\"1878\"}},\"id\":\"1877\",\"type\":\"GlyphRenderer\"}],\"root_ids\":[\"1837\"]},\"title\":\"Bokeh Application\",\"version\":\"2.4.2\"}};\n",
       "    var render_items = [{\"docid\":\"4cf94388-9df0-46c6-84ce-4a0e26877088\",\"root_ids\":[\"1837\"],\"roots\":{\"1837\":\"ec5c81d5-133f-431f-8106-2e82c2948b54\"}}];\n",
       "    root.Bokeh.embed.embed_items_notebook(docs_json, render_items);\n",
       "  }\n",
       "  if (root.Bokeh !== undefined && root.Bokeh.Panel !== undefined) {\n",
       "    embed_document(root);\n",
       "  } else {\n",
       "    var attempts = 0;\n",
       "    var timer = setInterval(function(root) {\n",
       "      if (root.Bokeh !== undefined && root.Bokeh.Panel !== undefined) {\n",
       "        clearInterval(timer);\n",
       "        embed_document(root);\n",
       "      } else if (document.readyState == \"complete\") {\n",
       "        attempts++;\n",
       "        if (attempts > 200) {\n",
       "          clearInterval(timer);\n",
       "          console.log(\"Bokeh: ERROR: Unable to run BokehJS code because BokehJS library is missing\");\n",
       "        }\n",
       "      }\n",
       "    }, 25, root)\n",
       "  }\n",
       "})(window);</script>"
      ],
      "text/plain": [
       ":Bars   [saleDate]   (saleAmt)"
      ]
     },
     "execution_count": 14,
     "metadata": {
      "application/vnd.holoviews_exec.v0+json": {
       "id": "1837"
      }
     },
     "output_type": "execute_result"
    }
   ],
   "source": [
    "# Plot data without rotation\n",
    "sale_prices_by_year.hvplot.bar(x='saleDate', y='saleAmt', rot=45)"
   ]
  },
  {
   "cell_type": "markdown",
   "metadata": {},
   "source": [
    "  ### Rotate x axis labels"
   ]
  },
  {
   "cell_type": "code",
   "execution_count": 15,
   "metadata": {},
   "outputs": [
    {
     "data": {},
     "metadata": {},
     "output_type": "display_data"
    },
    {
     "data": {
      "application/vnd.holoviews_exec.v0+json": "",
      "text/html": [
       "<div id='1958'>\n",
       "\n",
       "\n",
       "\n",
       "\n",
       "\n",
       "  <div class=\"bk-root\" id=\"48cf68c2-a073-4240-91aa-6b6668a025f1\" data-root-id=\"1958\"></div>\n",
       "</div>\n",
       "<script type=\"application/javascript\">(function(root) {\n",
       "  function embed_document(root) {\n",
       "    var docs_json = {\"fce69163-a88b-4f9f-a3dc-0c52a56c2def\":{\"defs\":[{\"extends\":null,\"module\":null,\"name\":\"ReactiveHTML1\",\"overrides\":[],\"properties\":[]},{\"extends\":null,\"module\":null,\"name\":\"FlexBox1\",\"overrides\":[],\"properties\":[{\"default\":\"flex-start\",\"kind\":null,\"name\":\"align_content\"},{\"default\":\"flex-start\",\"kind\":null,\"name\":\"align_items\"},{\"default\":\"row\",\"kind\":null,\"name\":\"flex_direction\"},{\"default\":\"wrap\",\"kind\":null,\"name\":\"flex_wrap\"},{\"default\":\"flex-start\",\"kind\":null,\"name\":\"justify_content\"}]},{\"extends\":null,\"module\":null,\"name\":\"TemplateActions1\",\"overrides\":[],\"properties\":[{\"default\":0,\"kind\":null,\"name\":\"open_modal\"},{\"default\":0,\"kind\":null,\"name\":\"close_modal\"}]},{\"extends\":null,\"module\":null,\"name\":\"MaterialTemplateActions1\",\"overrides\":[],\"properties\":[{\"default\":0,\"kind\":null,\"name\":\"open_modal\"},{\"default\":0,\"kind\":null,\"name\":\"close_modal\"}]}],\"roots\":{\"references\":[{\"attributes\":{},\"id\":\"2003\",\"type\":\"AllLabels\"},{\"attributes\":{\"children\":[{\"id\":\"1959\"},{\"id\":\"1963\"},{\"id\":\"2027\"}],\"margin\":[0,0,0,0],\"name\":\"Row02950\",\"tags\":[\"embedded\"]},\"id\":\"1958\",\"type\":\"Row\"},{\"attributes\":{\"factors\":[\"2019-06-03\",\"2019-06-05\",\"2019-06-07\",\"2019-06-10\",\"2019-06-12\",\"2019-06-13\",\"2019-06-14\",\"2019-06-16\",\"2019-06-17\",\"2019-06-20\",\"2019-06-21\",\"2019-06-24\"],\"tags\":[[[\"saleDate\",\"saleDate\",null]]]},\"id\":\"1960\",\"type\":\"FactorRange\"},{\"attributes\":{\"end\":1667486.0,\"reset_end\":1667486.0,\"reset_start\":0.0,\"tags\":[[[\"saleAmt\",\"saleAmt\",null]]]},\"id\":\"1961\",\"type\":\"Range1d\"},{\"attributes\":{},\"id\":\"1973\",\"type\":\"CategoricalTicker\"},{\"attributes\":{\"axis\":{\"id\":\"1972\"},\"coordinates\":null,\"grid_line_color\":null,\"group\":null,\"ticker\":null},\"id\":\"1974\",\"type\":\"Grid\"},{\"attributes\":{\"callback\":null,\"renderers\":[{\"id\":\"1998\"}],\"tags\":[\"hv_created\"],\"tooltips\":[[\"saleDate\",\"@{saleDate}\"],[\"saleAmt\",\"@{saleAmt}\"]]},\"id\":\"1962\",\"type\":\"HoverTool\"},{\"attributes\":{},\"id\":\"1976\",\"type\":\"BasicTicker\"},{\"attributes\":{},\"id\":\"2006\",\"type\":\"AllLabels\"},{\"attributes\":{\"axis_label\":\"saleAmt\",\"coordinates\":null,\"formatter\":{\"id\":\"2005\"},\"group\":null,\"major_label_policy\":{\"id\":\"2006\"},\"ticker\":{\"id\":\"1976\"}},\"id\":\"1975\",\"type\":\"LinearAxis\"},{\"attributes\":{},\"id\":\"2014\",\"type\":\"UnionRenderers\"},{\"attributes\":{\"data\":{\"saleAmt\":{\"__ndarray__\":\"AAAAAGC0EkEAAAAAABcRQauqqqq86CNBq6qqqm4QJkEAAAAAwNMGQQAAAABgVBlBAAAAAMAgH0EAAAAASl03QQAAAAAAZClBAAAAABCQBEEAAAAAED4hQQAAAADgyBBB\",\"dtype\":\"float64\",\"order\":\"little\",\"shape\":[12]},\"saleDate\":[\"2019-06-03\",\"2019-06-05\",\"2019-06-07\",\"2019-06-10\",\"2019-06-12\",\"2019-06-13\",\"2019-06-14\",\"2019-06-16\",\"2019-06-17\",\"2019-06-20\",\"2019-06-21\",\"2019-06-24\"]},\"selected\":{\"id\":\"1993\"},\"selection_policy\":{\"id\":\"2014\"}},\"id\":\"1992\",\"type\":\"ColumnDataSource\"},{\"attributes\":{\"axis\":{\"id\":\"1975\"},\"coordinates\":null,\"dimension\":1,\"grid_line_color\":null,\"group\":null,\"ticker\":null},\"id\":\"1978\",\"type\":\"Grid\"},{\"attributes\":{},\"id\":\"1993\",\"type\":\"Selection\"},{\"attributes\":{},\"id\":\"2002\",\"type\":\"CategoricalTickFormatter\"},{\"attributes\":{\"fill_alpha\":{\"value\":0.1},\"fill_color\":{\"value\":\"#30a2da\"},\"hatch_alpha\":{\"value\":0.1},\"hatch_color\":{\"value\":\"#30a2da\"},\"line_alpha\":{\"value\":0.1},\"top\":{\"field\":\"saleAmt\"},\"width\":{\"value\":0.8},\"x\":{\"field\":\"saleDate\"}},\"id\":\"1996\",\"type\":\"VBar\"},{\"attributes\":{\"fill_color\":{\"value\":\"#30a2da\"},\"hatch_color\":{\"value\":\"#30a2da\"},\"top\":{\"field\":\"saleAmt\"},\"width\":{\"value\":0.8},\"x\":{\"field\":\"saleDate\"}},\"id\":\"1995\",\"type\":\"VBar\"},{\"attributes\":{\"below\":[{\"id\":\"1972\"}],\"center\":[{\"id\":\"1974\"},{\"id\":\"1978\"}],\"height\":300,\"left\":[{\"id\":\"1975\"}],\"margin\":[5,5,5,5],\"min_border_bottom\":10,\"min_border_left\":10,\"min_border_right\":10,\"min_border_top\":10,\"renderers\":[{\"id\":\"1998\"}],\"sizing_mode\":\"fixed\",\"title\":{\"id\":\"1964\"},\"toolbar\":{\"id\":\"1985\"},\"width\":700,\"x_range\":{\"id\":\"1960\"},\"x_scale\":{\"id\":\"1968\"},\"y_range\":{\"id\":\"1961\"},\"y_scale\":{\"id\":\"1970\"}},\"id\":\"1963\",\"subtype\":\"Figure\",\"type\":\"Plot\"},{\"attributes\":{\"tools\":[{\"id\":\"1962\"},{\"id\":\"1979\"},{\"id\":\"1980\"},{\"id\":\"1981\"},{\"id\":\"1982\"},{\"id\":\"1983\"}]},\"id\":\"1985\",\"type\":\"Toolbar\"},{\"attributes\":{},\"id\":\"2005\",\"type\":\"BasicTickFormatter\"},{\"attributes\":{\"bottom_units\":\"screen\",\"coordinates\":null,\"fill_alpha\":0.5,\"fill_color\":\"lightgrey\",\"group\":null,\"left_units\":\"screen\",\"level\":\"overlay\",\"line_alpha\":1.0,\"line_color\":\"black\",\"line_dash\":[4,4],\"line_width\":2,\"right_units\":\"screen\",\"syncable\":false,\"top_units\":\"screen\"},\"id\":\"1984\",\"type\":\"BoxAnnotation\"},{\"attributes\":{},\"id\":\"1979\",\"type\":\"SaveTool\"},{\"attributes\":{},\"id\":\"1980\",\"type\":\"PanTool\"},{\"attributes\":{\"margin\":[5,5,5,5],\"name\":\"HSpacer02955\",\"sizing_mode\":\"stretch_width\"},\"id\":\"2027\",\"type\":\"Spacer\"},{\"attributes\":{\"coordinates\":null,\"group\":null,\"text_color\":\"black\",\"text_font_size\":\"12pt\"},\"id\":\"1964\",\"type\":\"Title\"},{\"attributes\":{},\"id\":\"1983\",\"type\":\"ResetTool\"},{\"attributes\":{},\"id\":\"1981\",\"type\":\"WheelZoomTool\"},{\"attributes\":{\"coordinates\":null,\"data_source\":{\"id\":\"1992\"},\"glyph\":{\"id\":\"1995\"},\"group\":null,\"hover_glyph\":null,\"muted_glyph\":{\"id\":\"1997\"},\"nonselection_glyph\":{\"id\":\"1996\"},\"selection_glyph\":{\"id\":\"2000\"},\"view\":{\"id\":\"1999\"}},\"id\":\"1998\",\"type\":\"GlyphRenderer\"},{\"attributes\":{\"overlay\":{\"id\":\"1984\"}},\"id\":\"1982\",\"type\":\"BoxZoomTool\"},{\"attributes\":{\"fill_alpha\":{\"value\":0.2},\"fill_color\":{\"value\":\"#30a2da\"},\"hatch_alpha\":{\"value\":0.2},\"hatch_color\":{\"value\":\"#30a2da\"},\"line_alpha\":{\"value\":0.2},\"top\":{\"field\":\"saleAmt\"},\"width\":{\"value\":0.8},\"x\":{\"field\":\"saleDate\"}},\"id\":\"1997\",\"type\":\"VBar\"},{\"attributes\":{\"margin\":[5,5,5,5],\"name\":\"HSpacer02954\",\"sizing_mode\":\"stretch_width\"},\"id\":\"1959\",\"type\":\"Spacer\"},{\"attributes\":{},\"id\":\"1970\",\"type\":\"LinearScale\"},{\"attributes\":{\"source\":{\"id\":\"1992\"}},\"id\":\"1999\",\"type\":\"CDSView\"},{\"attributes\":{},\"id\":\"1968\",\"type\":\"CategoricalScale\"},{\"attributes\":{\"axis_label\":\"saleDate\",\"coordinates\":null,\"formatter\":{\"id\":\"2002\"},\"group\":null,\"major_label_orientation\":1.5707963267948966,\"major_label_policy\":{\"id\":\"2003\"},\"ticker\":{\"id\":\"1973\"}},\"id\":\"1972\",\"type\":\"CategoricalAxis\"},{\"attributes\":{\"bottom\":{\"value\":0},\"fill_alpha\":{\"value\":1.0},\"fill_color\":{\"value\":\"#30a2da\"},\"hatch_alpha\":{\"value\":1.0},\"hatch_color\":{\"value\":\"#30a2da\"},\"hatch_scale\":{\"value\":12.0},\"hatch_weight\":{\"value\":1.0},\"line_alpha\":{\"value\":1.0},\"line_cap\":{\"value\":\"butt\"},\"line_color\":{\"value\":\"black\"},\"line_dash\":{\"value\":[]},\"line_dash_offset\":{\"value\":0},\"line_join\":{\"value\":\"bevel\"},\"line_width\":{\"value\":1},\"top\":{\"field\":\"saleAmt\"},\"width\":{\"value\":0.8},\"x\":{\"field\":\"saleDate\"}},\"id\":\"2000\",\"type\":\"VBar\"}],\"root_ids\":[\"1958\"]},\"title\":\"Bokeh Application\",\"version\":\"2.4.2\"}};\n",
       "    var render_items = [{\"docid\":\"fce69163-a88b-4f9f-a3dc-0c52a56c2def\",\"root_ids\":[\"1958\"],\"roots\":{\"1958\":\"48cf68c2-a073-4240-91aa-6b6668a025f1\"}}];\n",
       "    root.Bokeh.embed.embed_items_notebook(docs_json, render_items);\n",
       "  }\n",
       "  if (root.Bokeh !== undefined && root.Bokeh.Panel !== undefined) {\n",
       "    embed_document(root);\n",
       "  } else {\n",
       "    var attempts = 0;\n",
       "    var timer = setInterval(function(root) {\n",
       "      if (root.Bokeh !== undefined && root.Bokeh.Panel !== undefined) {\n",
       "        clearInterval(timer);\n",
       "        embed_document(root);\n",
       "      } else if (document.readyState == \"complete\") {\n",
       "        attempts++;\n",
       "        if (attempts > 200) {\n",
       "          clearInterval(timer);\n",
       "          console.log(\"Bokeh: ERROR: Unable to run BokehJS code because BokehJS library is missing\");\n",
       "        }\n",
       "      }\n",
       "    }, 25, root)\n",
       "  }\n",
       "})(window);</script>"
      ],
      "text/plain": [
       ":Bars   [saleDate]   (saleAmt)"
      ]
     },
     "execution_count": 15,
     "metadata": {
      "application/vnd.holoviews_exec.v0+json": {
       "id": "1958"
      }
     },
     "output_type": "execute_result"
    }
   ],
   "source": [
    "# Plot data with rotation\n",
    "sale_prices_by_year.hvplot.bar(x='saleDate', y='saleAmt', rot=90)"
   ]
  },
  {
   "cell_type": "markdown",
   "metadata": {},
   "source": [
    "  ### Format axis labels"
   ]
  },
  {
   "cell_type": "code",
   "execution_count": 16,
   "metadata": {},
   "outputs": [
    {
     "data": {},
     "metadata": {},
     "output_type": "display_data"
    },
    {
     "data": {
      "application/vnd.holoviews_exec.v0+json": "",
      "text/html": [
       "<div id='2079'>\n",
       "\n",
       "\n",
       "\n",
       "\n",
       "\n",
       "  <div class=\"bk-root\" id=\"c8595bf1-e948-40bb-9949-d051d09d6c67\" data-root-id=\"2079\"></div>\n",
       "</div>\n",
       "<script type=\"application/javascript\">(function(root) {\n",
       "  function embed_document(root) {\n",
       "    var docs_json = {\"afac9cbc-f1b5-4409-abc2-a267e06c87ea\":{\"defs\":[{\"extends\":null,\"module\":null,\"name\":\"ReactiveHTML1\",\"overrides\":[],\"properties\":[]},{\"extends\":null,\"module\":null,\"name\":\"FlexBox1\",\"overrides\":[],\"properties\":[{\"default\":\"flex-start\",\"kind\":null,\"name\":\"align_content\"},{\"default\":\"flex-start\",\"kind\":null,\"name\":\"align_items\"},{\"default\":\"row\",\"kind\":null,\"name\":\"flex_direction\"},{\"default\":\"wrap\",\"kind\":null,\"name\":\"flex_wrap\"},{\"default\":\"flex-start\",\"kind\":null,\"name\":\"justify_content\"}]},{\"extends\":null,\"module\":null,\"name\":\"TemplateActions1\",\"overrides\":[],\"properties\":[{\"default\":0,\"kind\":null,\"name\":\"open_modal\"},{\"default\":0,\"kind\":null,\"name\":\"close_modal\"}]},{\"extends\":null,\"module\":null,\"name\":\"MaterialTemplateActions1\",\"overrides\":[],\"properties\":[{\"default\":0,\"kind\":null,\"name\":\"open_modal\"},{\"default\":0,\"kind\":null,\"name\":\"close_modal\"}]}],\"roots\":{\"references\":[{\"attributes\":{\"overlay\":{\"id\":\"2105\"}},\"id\":\"2103\",\"type\":\"BoxZoomTool\"},{\"attributes\":{},\"id\":\"2125\",\"type\":\"AllLabels\"},{\"attributes\":{\"coordinates\":null,\"group\":null,\"text_color\":\"black\",\"text_font_size\":\"12pt\"},\"id\":\"2085\",\"type\":\"Title\"},{\"attributes\":{\"axis\":{\"id\":\"2093\"},\"coordinates\":null,\"grid_line_color\":null,\"group\":null,\"ticker\":null},\"id\":\"2095\",\"type\":\"Grid\"},{\"attributes\":{\"axis_label\":\"saleDate\",\"coordinates\":null,\"formatter\":{\"id\":\"2124\"},\"group\":null,\"major_label_orientation\":1.5707963267948966,\"major_label_policy\":{\"id\":\"2125\"},\"ticker\":{\"id\":\"2094\"}},\"id\":\"2093\",\"type\":\"CategoricalAxis\"},{\"attributes\":{},\"id\":\"2089\",\"type\":\"CategoricalScale\"},{\"attributes\":{\"source\":{\"id\":\"2113\"}},\"id\":\"2120\",\"type\":\"CDSView\"},{\"attributes\":{\"fill_alpha\":{\"value\":0.1},\"fill_color\":{\"value\":\"#30a2da\"},\"hatch_alpha\":{\"value\":0.1},\"hatch_color\":{\"value\":\"#30a2da\"},\"line_alpha\":{\"value\":0.1},\"top\":{\"field\":\"saleAmt\"},\"width\":{\"value\":0.8},\"x\":{\"field\":\"saleDate\"}},\"id\":\"2117\",\"type\":\"VBar\"},{\"attributes\":{\"end\":1667486.0,\"reset_end\":1667486.0,\"reset_start\":0.0,\"tags\":[[[\"saleAmt\",\"saleAmt\",null]]]},\"id\":\"2082\",\"type\":\"Range1d\"},{\"attributes\":{\"bottom\":{\"value\":0},\"fill_alpha\":{\"value\":1.0},\"fill_color\":{\"value\":\"#30a2da\"},\"hatch_alpha\":{\"value\":1.0},\"hatch_color\":{\"value\":\"#30a2da\"},\"hatch_scale\":{\"value\":12.0},\"hatch_weight\":{\"value\":1.0},\"line_alpha\":{\"value\":1.0},\"line_cap\":{\"value\":\"butt\"},\"line_color\":{\"value\":\"black\"},\"line_dash\":{\"value\":[]},\"line_dash_offset\":{\"value\":0},\"line_join\":{\"value\":\"bevel\"},\"line_width\":{\"value\":1},\"top\":{\"field\":\"saleAmt\"},\"width\":{\"value\":0.8},\"x\":{\"field\":\"saleDate\"}},\"id\":\"2121\",\"type\":\"VBar\"},{\"attributes\":{},\"id\":\"2091\",\"type\":\"LinearScale\"},{\"attributes\":{\"callback\":null,\"renderers\":[{\"id\":\"2119\"}],\"tags\":[\"hv_created\"],\"tooltips\":[[\"saleDate\",\"@{saleDate}\"],[\"saleAmt\",\"@{saleAmt}\"]]},\"id\":\"2083\",\"type\":\"HoverTool\"},{\"attributes\":{},\"id\":\"2097\",\"type\":\"BasicTicker\"},{\"attributes\":{},\"id\":\"2128\",\"type\":\"AllLabels\"},{\"attributes\":{},\"id\":\"2094\",\"type\":\"CategoricalTicker\"},{\"attributes\":{\"axis_label\":\"saleAmt\",\"coordinates\":null,\"formatter\":{\"id\":\"2122\"},\"group\":null,\"major_label_policy\":{\"id\":\"2128\"},\"ticker\":{\"id\":\"2097\"}},\"id\":\"2096\",\"type\":\"LinearAxis\"},{\"attributes\":{\"margin\":[5,5,5,5],\"name\":\"HSpacer03148\",\"sizing_mode\":\"stretch_width\"},\"id\":\"2149\",\"type\":\"Spacer\"},{\"attributes\":{\"coordinates\":null,\"data_source\":{\"id\":\"2113\"},\"glyph\":{\"id\":\"2116\"},\"group\":null,\"hover_glyph\":null,\"muted_glyph\":{\"id\":\"2118\"},\"nonselection_glyph\":{\"id\":\"2117\"},\"selection_glyph\":{\"id\":\"2121\"},\"view\":{\"id\":\"2120\"}},\"id\":\"2119\",\"type\":\"GlyphRenderer\"},{\"attributes\":{\"data\":{\"saleAmt\":{\"__ndarray__\":\"AAAAAGC0EkEAAAAAABcRQauqqqq86CNBq6qqqm4QJkEAAAAAwNMGQQAAAABgVBlBAAAAAMAgH0EAAAAASl03QQAAAAAAZClBAAAAABCQBEEAAAAAED4hQQAAAADgyBBB\",\"dtype\":\"float64\",\"order\":\"little\",\"shape\":[12]},\"saleDate\":[\"2019-06-03\",\"2019-06-05\",\"2019-06-07\",\"2019-06-10\",\"2019-06-12\",\"2019-06-13\",\"2019-06-14\",\"2019-06-16\",\"2019-06-17\",\"2019-06-20\",\"2019-06-21\",\"2019-06-24\"]},\"selected\":{\"id\":\"2114\"},\"selection_policy\":{\"id\":\"2137\"}},\"id\":\"2113\",\"type\":\"ColumnDataSource\"},{\"attributes\":{\"axis\":{\"id\":\"2096\"},\"coordinates\":null,\"dimension\":1,\"grid_line_color\":null,\"group\":null,\"ticker\":null},\"id\":\"2099\",\"type\":\"Grid\"},{\"attributes\":{\"margin\":[5,5,5,5],\"name\":\"HSpacer03147\",\"sizing_mode\":\"stretch_width\"},\"id\":\"2080\",\"type\":\"Spacer\"},{\"attributes\":{\"children\":[{\"id\":\"2080\"},{\"id\":\"2084\"},{\"id\":\"2149\"}],\"margin\":[0,0,0,0],\"name\":\"Row03143\",\"tags\":[\"embedded\"]},\"id\":\"2079\",\"type\":\"Row\"},{\"attributes\":{\"factors\":[\"2019-06-03\",\"2019-06-05\",\"2019-06-07\",\"2019-06-10\",\"2019-06-12\",\"2019-06-13\",\"2019-06-14\",\"2019-06-16\",\"2019-06-17\",\"2019-06-20\",\"2019-06-21\",\"2019-06-24\"],\"tags\":[[[\"saleDate\",\"saleDate\",null]]]},\"id\":\"2081\",\"type\":\"FactorRange\"},{\"attributes\":{\"below\":[{\"id\":\"2093\"}],\"center\":[{\"id\":\"2095\"},{\"id\":\"2099\"}],\"height\":300,\"left\":[{\"id\":\"2096\"}],\"margin\":[5,5,5,5],\"min_border_bottom\":10,\"min_border_left\":10,\"min_border_right\":10,\"min_border_top\":10,\"renderers\":[{\"id\":\"2119\"}],\"sizing_mode\":\"fixed\",\"title\":{\"id\":\"2085\"},\"toolbar\":{\"id\":\"2106\"},\"width\":700,\"x_range\":{\"id\":\"2081\"},\"x_scale\":{\"id\":\"2089\"},\"y_range\":{\"id\":\"2082\"},\"y_scale\":{\"id\":\"2091\"}},\"id\":\"2084\",\"subtype\":\"Figure\",\"type\":\"Plot\"},{\"attributes\":{\"format\":\"%.2f\"},\"id\":\"2122\",\"type\":\"PrintfTickFormatter\"},{\"attributes\":{\"fill_alpha\":{\"value\":0.2},\"fill_color\":{\"value\":\"#30a2da\"},\"hatch_alpha\":{\"value\":0.2},\"hatch_color\":{\"value\":\"#30a2da\"},\"line_alpha\":{\"value\":0.2},\"top\":{\"field\":\"saleAmt\"},\"width\":{\"value\":0.8},\"x\":{\"field\":\"saleDate\"}},\"id\":\"2118\",\"type\":\"VBar\"},{\"attributes\":{\"tools\":[{\"id\":\"2083\"},{\"id\":\"2100\"},{\"id\":\"2101\"},{\"id\":\"2102\"},{\"id\":\"2103\"},{\"id\":\"2104\"}]},\"id\":\"2106\",\"type\":\"Toolbar\"},{\"attributes\":{},\"id\":\"2114\",\"type\":\"Selection\"},{\"attributes\":{\"bottom_units\":\"screen\",\"coordinates\":null,\"fill_alpha\":0.5,\"fill_color\":\"lightgrey\",\"group\":null,\"left_units\":\"screen\",\"level\":\"overlay\",\"line_alpha\":1.0,\"line_color\":\"black\",\"line_dash\":[4,4],\"line_width\":2,\"right_units\":\"screen\",\"syncable\":false,\"top_units\":\"screen\"},\"id\":\"2105\",\"type\":\"BoxAnnotation\"},{\"attributes\":{},\"id\":\"2100\",\"type\":\"SaveTool\"},{\"attributes\":{},\"id\":\"2102\",\"type\":\"WheelZoomTool\"},{\"attributes\":{},\"id\":\"2124\",\"type\":\"CategoricalTickFormatter\"},{\"attributes\":{},\"id\":\"2137\",\"type\":\"UnionRenderers\"},{\"attributes\":{},\"id\":\"2101\",\"type\":\"PanTool\"},{\"attributes\":{},\"id\":\"2104\",\"type\":\"ResetTool\"},{\"attributes\":{\"fill_color\":{\"value\":\"#30a2da\"},\"hatch_color\":{\"value\":\"#30a2da\"},\"top\":{\"field\":\"saleAmt\"},\"width\":{\"value\":0.8},\"x\":{\"field\":\"saleDate\"}},\"id\":\"2116\",\"type\":\"VBar\"}],\"root_ids\":[\"2079\"]},\"title\":\"Bokeh Application\",\"version\":\"2.4.2\"}};\n",
       "    var render_items = [{\"docid\":\"afac9cbc-f1b5-4409-abc2-a267e06c87ea\",\"root_ids\":[\"2079\"],\"roots\":{\"2079\":\"c8595bf1-e948-40bb-9949-d051d09d6c67\"}}];\n",
       "    root.Bokeh.embed.embed_items_notebook(docs_json, render_items);\n",
       "  }\n",
       "  if (root.Bokeh !== undefined && root.Bokeh.Panel !== undefined) {\n",
       "    embed_document(root);\n",
       "  } else {\n",
       "    var attempts = 0;\n",
       "    var timer = setInterval(function(root) {\n",
       "      if (root.Bokeh !== undefined && root.Bokeh.Panel !== undefined) {\n",
       "        clearInterval(timer);\n",
       "        embed_document(root);\n",
       "      } else if (document.readyState == \"complete\") {\n",
       "        attempts++;\n",
       "        if (attempts > 200) {\n",
       "          clearInterval(timer);\n",
       "          console.log(\"Bokeh: ERROR: Unable to run BokehJS code because BokehJS library is missing\");\n",
       "        }\n",
       "      }\n",
       "    }, 25, root)\n",
       "  }\n",
       "})(window);</script>"
      ],
      "text/plain": [
       ":Bars   [saleDate]   (saleAmt)"
      ]
     },
     "execution_count": 16,
     "metadata": {
      "application/vnd.holoviews_exec.v0+json": {
       "id": "2079"
      }
     },
     "output_type": "execute_result"
    }
   ],
   "source": [
    "# Use string formatting to show no decimal places for saleAmt\n",
    "# Use string formatting to show no decimal places for saleAmt\n",
    "sale_prices_by_year.hvplot.bar(x=\"saleDate\", y=\"saleAmt\", rot=90).opts(\n",
    "    yformatter=\"%.2f\"\n",
    ")"
   ]
  },
  {
   "cell_type": "markdown",
   "metadata": {},
   "source": [
    "  ### Set title"
   ]
  },
  {
   "cell_type": "code",
   "execution_count": 17,
   "metadata": {},
   "outputs": [
    {
     "data": {},
     "metadata": {},
     "output_type": "display_data"
    },
    {
     "data": {
      "application/vnd.holoviews_exec.v0+json": "",
      "text/html": [
       "<div id='2196'>\n",
       "\n",
       "\n",
       "\n",
       "\n",
       "\n",
       "  <div class=\"bk-root\" id=\"68fd1aa3-4ce9-4737-a764-de600f1b0579\" data-root-id=\"2196\"></div>\n",
       "</div>\n",
       "<script type=\"application/javascript\">(function(root) {\n",
       "  function embed_document(root) {\n",
       "    var docs_json = {\"88150f98-90e1-4089-b7f8-e3300023169d\":{\"defs\":[{\"extends\":null,\"module\":null,\"name\":\"ReactiveHTML1\",\"overrides\":[],\"properties\":[]},{\"extends\":null,\"module\":null,\"name\":\"FlexBox1\",\"overrides\":[],\"properties\":[{\"default\":\"flex-start\",\"kind\":null,\"name\":\"align_content\"},{\"default\":\"flex-start\",\"kind\":null,\"name\":\"align_items\"},{\"default\":\"row\",\"kind\":null,\"name\":\"flex_direction\"},{\"default\":\"wrap\",\"kind\":null,\"name\":\"flex_wrap\"},{\"default\":\"flex-start\",\"kind\":null,\"name\":\"justify_content\"}]},{\"extends\":null,\"module\":null,\"name\":\"TemplateActions1\",\"overrides\":[],\"properties\":[{\"default\":0,\"kind\":null,\"name\":\"open_modal\"},{\"default\":0,\"kind\":null,\"name\":\"close_modal\"}]},{\"extends\":null,\"module\":null,\"name\":\"MaterialTemplateActions1\",\"overrides\":[],\"properties\":[{\"default\":0,\"kind\":null,\"name\":\"open_modal\"},{\"default\":0,\"kind\":null,\"name\":\"close_modal\"}]}],\"roots\":{\"references\":[{\"attributes\":{\"axis\":{\"id\":\"2210\"},\"coordinates\":null,\"grid_line_color\":null,\"group\":null,\"ticker\":null},\"id\":\"2212\",\"type\":\"Grid\"},{\"attributes\":{},\"id\":\"2221\",\"type\":\"ResetTool\"},{\"attributes\":{\"axis_label\":\"saleDate\",\"coordinates\":null,\"formatter\":{\"id\":\"2241\"},\"group\":null,\"major_label_orientation\":1.5707963267948966,\"major_label_policy\":{\"id\":\"2242\"},\"ticker\":{\"id\":\"2211\"}},\"id\":\"2210\",\"type\":\"CategoricalAxis\"},{\"attributes\":{},\"id\":\"2206\",\"type\":\"CategoricalScale\"},{\"attributes\":{},\"id\":\"2231\",\"type\":\"Selection\"},{\"attributes\":{\"overlay\":{\"id\":\"2222\"}},\"id\":\"2220\",\"type\":\"BoxZoomTool\"},{\"attributes\":{},\"id\":\"2208\",\"type\":\"LinearScale\"},{\"attributes\":{\"tools\":[{\"id\":\"2200\"},{\"id\":\"2217\"},{\"id\":\"2218\"},{\"id\":\"2219\"},{\"id\":\"2220\"},{\"id\":\"2221\"}]},\"id\":\"2223\",\"type\":\"Toolbar\"},{\"attributes\":{},\"id\":\"2214\",\"type\":\"BasicTicker\"},{\"attributes\":{},\"id\":\"2211\",\"type\":\"CategoricalTicker\"},{\"attributes\":{\"bottom_units\":\"screen\",\"coordinates\":null,\"fill_alpha\":0.5,\"fill_color\":\"lightgrey\",\"group\":null,\"left_units\":\"screen\",\"level\":\"overlay\",\"line_alpha\":1.0,\"line_color\":\"black\",\"line_dash\":[4,4],\"line_width\":2,\"right_units\":\"screen\",\"syncable\":false,\"top_units\":\"screen\"},\"id\":\"2222\",\"type\":\"BoxAnnotation\"},{\"attributes\":{\"callback\":null,\"renderers\":[{\"id\":\"2236\"}],\"tags\":[\"hv_created\"],\"tooltips\":[[\"saleDate\",\"@{saleDate}\"],[\"saleAmt\",\"@{saleAmt}\"]]},\"id\":\"2200\",\"type\":\"HoverTool\"},{\"attributes\":{\"axis_label\":\"saleAmt\",\"coordinates\":null,\"formatter\":{\"id\":\"2239\"},\"group\":null,\"major_label_policy\":{\"id\":\"2245\"},\"ticker\":{\"id\":\"2214\"}},\"id\":\"2213\",\"type\":\"LinearAxis\"},{\"attributes\":{\"end\":1667486.0,\"reset_end\":1667486.0,\"reset_start\":0.0,\"tags\":[[[\"saleAmt\",\"saleAmt\",null]]]},\"id\":\"2199\",\"type\":\"Range1d\"},{\"attributes\":{\"axis\":{\"id\":\"2213\"},\"coordinates\":null,\"dimension\":1,\"grid_line_color\":null,\"group\":null,\"ticker\":null},\"id\":\"2216\",\"type\":\"Grid\"},{\"attributes\":{\"margin\":[5,5,5,5],\"name\":\"HSpacer03340\",\"sizing_mode\":\"stretch_width\"},\"id\":\"2197\",\"type\":\"Spacer\"},{\"attributes\":{\"bottom\":{\"value\":0},\"fill_alpha\":{\"value\":1.0},\"fill_color\":{\"value\":\"#30a2da\"},\"hatch_alpha\":{\"value\":1.0},\"hatch_color\":{\"value\":\"#30a2da\"},\"hatch_scale\":{\"value\":12.0},\"hatch_weight\":{\"value\":1.0},\"line_alpha\":{\"value\":1.0},\"line_cap\":{\"value\":\"butt\"},\"line_color\":{\"value\":\"black\"},\"line_dash\":{\"value\":[]},\"line_dash_offset\":{\"value\":0},\"line_join\":{\"value\":\"bevel\"},\"line_width\":{\"value\":1},\"top\":{\"field\":\"saleAmt\"},\"width\":{\"value\":0.8},\"x\":{\"field\":\"saleDate\"}},\"id\":\"2238\",\"type\":\"VBar\"},{\"attributes\":{\"margin\":[5,5,5,5],\"name\":\"HSpacer03341\",\"sizing_mode\":\"stretch_width\"},\"id\":\"2266\",\"type\":\"Spacer\"},{\"attributes\":{\"data\":{\"saleAmt\":{\"__ndarray__\":\"AAAAAGC0EkEAAAAAABcRQauqqqq86CNBq6qqqm4QJkEAAAAAwNMGQQAAAABgVBlBAAAAAMAgH0EAAAAASl03QQAAAAAAZClBAAAAABCQBEEAAAAAED4hQQAAAADgyBBB\",\"dtype\":\"float64\",\"order\":\"little\",\"shape\":[12]},\"saleDate\":[\"2019-06-03\",\"2019-06-05\",\"2019-06-07\",\"2019-06-10\",\"2019-06-12\",\"2019-06-13\",\"2019-06-14\",\"2019-06-16\",\"2019-06-17\",\"2019-06-20\",\"2019-06-21\",\"2019-06-24\"]},\"selected\":{\"id\":\"2231\"},\"selection_policy\":{\"id\":\"2254\"}},\"id\":\"2230\",\"type\":\"ColumnDataSource\"},{\"attributes\":{\"source\":{\"id\":\"2230\"}},\"id\":\"2237\",\"type\":\"CDSView\"},{\"attributes\":{\"below\":[{\"id\":\"2210\"}],\"center\":[{\"id\":\"2212\"},{\"id\":\"2216\"}],\"height\":300,\"left\":[{\"id\":\"2213\"}],\"margin\":[5,5,5,5],\"min_border_bottom\":10,\"min_border_left\":10,\"min_border_right\":10,\"min_border_top\":10,\"renderers\":[{\"id\":\"2236\"}],\"sizing_mode\":\"fixed\",\"title\":{\"id\":\"2202\"},\"toolbar\":{\"id\":\"2223\"},\"width\":700,\"x_range\":{\"id\":\"2198\"},\"x_scale\":{\"id\":\"2206\"},\"y_range\":{\"id\":\"2199\"},\"y_scale\":{\"id\":\"2208\"}},\"id\":\"2201\",\"subtype\":\"Figure\",\"type\":\"Plot\"},{\"attributes\":{},\"id\":\"2241\",\"type\":\"CategoricalTickFormatter\"},{\"attributes\":{},\"id\":\"2254\",\"type\":\"UnionRenderers\"},{\"attributes\":{\"fill_alpha\":{\"value\":0.1},\"fill_color\":{\"value\":\"#30a2da\"},\"hatch_alpha\":{\"value\":0.1},\"hatch_color\":{\"value\":\"#30a2da\"},\"line_alpha\":{\"value\":0.1},\"top\":{\"field\":\"saleAmt\"},\"width\":{\"value\":0.8},\"x\":{\"field\":\"saleDate\"}},\"id\":\"2234\",\"type\":\"VBar\"},{\"attributes\":{\"coordinates\":null,\"data_source\":{\"id\":\"2230\"},\"glyph\":{\"id\":\"2233\"},\"group\":null,\"hover_glyph\":null,\"muted_glyph\":{\"id\":\"2235\"},\"nonselection_glyph\":{\"id\":\"2234\"},\"selection_glyph\":{\"id\":\"2238\"},\"view\":{\"id\":\"2237\"}},\"id\":\"2236\",\"type\":\"GlyphRenderer\"},{\"attributes\":{\"fill_alpha\":{\"value\":0.2},\"fill_color\":{\"value\":\"#30a2da\"},\"hatch_alpha\":{\"value\":0.2},\"hatch_color\":{\"value\":\"#30a2da\"},\"line_alpha\":{\"value\":0.2},\"top\":{\"field\":\"saleAmt\"},\"width\":{\"value\":0.8},\"x\":{\"field\":\"saleDate\"}},\"id\":\"2235\",\"type\":\"VBar\"},{\"attributes\":{\"coordinates\":null,\"group\":null,\"text\":\"Arlington, VA Housing Sale Prices June 2016\",\"text_color\":\"black\",\"text_font_size\":\"12pt\"},\"id\":\"2202\",\"type\":\"Title\"},{\"attributes\":{\"format\":\"%.0f\"},\"id\":\"2239\",\"type\":\"PrintfTickFormatter\"},{\"attributes\":{},\"id\":\"2245\",\"type\":\"AllLabels\"},{\"attributes\":{},\"id\":\"2217\",\"type\":\"SaveTool\"},{\"attributes\":{},\"id\":\"2218\",\"type\":\"PanTool\"},{\"attributes\":{\"children\":[{\"id\":\"2197\"},{\"id\":\"2201\"},{\"id\":\"2266\"}],\"margin\":[0,0,0,0],\"name\":\"Row03336\",\"tags\":[\"embedded\"]},\"id\":\"2196\",\"type\":\"Row\"},{\"attributes\":{},\"id\":\"2219\",\"type\":\"WheelZoomTool\"},{\"attributes\":{\"fill_color\":{\"value\":\"#30a2da\"},\"hatch_color\":{\"value\":\"#30a2da\"},\"top\":{\"field\":\"saleAmt\"},\"width\":{\"value\":0.8},\"x\":{\"field\":\"saleDate\"}},\"id\":\"2233\",\"type\":\"VBar\"},{\"attributes\":{\"factors\":[\"2019-06-03\",\"2019-06-05\",\"2019-06-07\",\"2019-06-10\",\"2019-06-12\",\"2019-06-13\",\"2019-06-14\",\"2019-06-16\",\"2019-06-17\",\"2019-06-20\",\"2019-06-21\",\"2019-06-24\"],\"tags\":[[[\"saleDate\",\"saleDate\",null]]]},\"id\":\"2198\",\"type\":\"FactorRange\"},{\"attributes\":{},\"id\":\"2242\",\"type\":\"AllLabels\"}],\"root_ids\":[\"2196\"]},\"title\":\"Bokeh Application\",\"version\":\"2.4.2\"}};\n",
       "    var render_items = [{\"docid\":\"88150f98-90e1-4089-b7f8-e3300023169d\",\"root_ids\":[\"2196\"],\"roots\":{\"2196\":\"68fd1aa3-4ce9-4737-a764-de600f1b0579\"}}];\n",
       "    root.Bokeh.embed.embed_items_notebook(docs_json, render_items);\n",
       "  }\n",
       "  if (root.Bokeh !== undefined && root.Bokeh.Panel !== undefined) {\n",
       "    embed_document(root);\n",
       "  } else {\n",
       "    var attempts = 0;\n",
       "    var timer = setInterval(function(root) {\n",
       "      if (root.Bokeh !== undefined && root.Bokeh.Panel !== undefined) {\n",
       "        clearInterval(timer);\n",
       "        embed_document(root);\n",
       "      } else if (document.readyState == \"complete\") {\n",
       "        attempts++;\n",
       "        if (attempts > 200) {\n",
       "          clearInterval(timer);\n",
       "          console.log(\"Bokeh: ERROR: Unable to run BokehJS code because BokehJS library is missing\");\n",
       "        }\n",
       "      }\n",
       "    }, 25, root)\n",
       "  }\n",
       "})(window);</script>"
      ],
      "text/plain": [
       ":Bars   [saleDate]   (saleAmt)"
      ]
     },
     "execution_count": 17,
     "metadata": {
      "application/vnd.holoviews_exec.v0+json": {
       "id": "2196"
      }
     },
     "output_type": "execute_result"
    }
   ],
   "source": [
    "# Set title\n",
    "sale_prices_by_year.hvplot.bar(x=\"saleDate\", y=\"saleAmt\", rot=90).opts(\n",
    "    yformatter=\"%.0f\", title=\"Arlington, VA Housing Sale Prices June 2016\"\n",
    ")"
   ]
  },
  {
   "cell_type": "markdown",
   "metadata": {},
   "source": [
    "  ### Invert axes"
   ]
  },
  {
   "cell_type": "code",
   "execution_count": 24,
   "metadata": {},
   "outputs": [
    {
     "data": {},
     "metadata": {},
     "output_type": "display_data"
    },
    {
     "data": {
      "application/vnd.holoviews_exec.v0+json": "",
      "text/html": [
       "<div id='3015'>\n",
       "\n",
       "\n",
       "\n",
       "\n",
       "\n",
       "  <div class=\"bk-root\" id=\"1ec9f01b-0999-4c90-8f60-bc9de2977cf6\" data-root-id=\"3015\"></div>\n",
       "</div>\n",
       "<script type=\"application/javascript\">(function(root) {\n",
       "  function embed_document(root) {\n",
       "    var docs_json = {\"15e6ef3f-ca06-46c8-97fa-bdc7b7ffdcb4\":{\"defs\":[{\"extends\":null,\"module\":null,\"name\":\"ReactiveHTML1\",\"overrides\":[],\"properties\":[]},{\"extends\":null,\"module\":null,\"name\":\"FlexBox1\",\"overrides\":[],\"properties\":[{\"default\":\"flex-start\",\"kind\":null,\"name\":\"align_content\"},{\"default\":\"flex-start\",\"kind\":null,\"name\":\"align_items\"},{\"default\":\"row\",\"kind\":null,\"name\":\"flex_direction\"},{\"default\":\"wrap\",\"kind\":null,\"name\":\"flex_wrap\"},{\"default\":\"flex-start\",\"kind\":null,\"name\":\"justify_content\"}]},{\"extends\":null,\"module\":null,\"name\":\"TemplateActions1\",\"overrides\":[],\"properties\":[{\"default\":0,\"kind\":null,\"name\":\"open_modal\"},{\"default\":0,\"kind\":null,\"name\":\"close_modal\"}]},{\"extends\":null,\"module\":null,\"name\":\"MaterialTemplateActions1\",\"overrides\":[],\"properties\":[{\"default\":0,\"kind\":null,\"name\":\"open_modal\"},{\"default\":0,\"kind\":null,\"name\":\"close_modal\"}]}],\"roots\":{\"references\":[{\"attributes\":{\"fill_alpha\":{\"value\":1.0},\"fill_color\":{\"value\":\"#0EB9B4\"},\"hatch_alpha\":{\"value\":1.0},\"hatch_color\":{\"value\":\"#0EB9B4\"},\"hatch_scale\":{\"value\":12.0},\"hatch_weight\":{\"value\":1.0},\"height\":{\"value\":0.8},\"left\":{\"value\":0},\"line_alpha\":{\"value\":1.0},\"line_cap\":{\"value\":\"butt\"},\"line_color\":{\"value\":\"black\"},\"line_dash\":{\"value\":[]},\"line_dash_offset\":{\"value\":0},\"line_join\":{\"value\":\"bevel\"},\"line_width\":{\"value\":1},\"right\":{\"field\":\"saleAmt\"},\"y\":{\"field\":\"saleDate\"}},\"id\":\"3057\",\"type\":\"HBar\"},{\"attributes\":{\"callback\":null,\"renderers\":[{\"id\":\"3055\"}],\"tags\":[\"hv_created\"],\"tooltips\":[[\"saleDate\",\"@{saleDate}\"],[\"saleAmt\",\"@{saleAmt}\"]]},\"id\":\"3019\",\"type\":\"HoverTool\"},{\"attributes\":{\"axis\":{\"id\":\"3033\"},\"coordinates\":null,\"dimension\":1,\"grid_line_color\":null,\"group\":null,\"ticker\":null},\"id\":\"3035\",\"type\":\"Grid\"},{\"attributes\":{},\"id\":\"3066\",\"type\":\"AllLabels\"},{\"attributes\":{\"margin\":[5,5,5,5],\"name\":\"HSpacer04692\",\"sizing_mode\":\"stretch_width\"},\"id\":\"3085\",\"type\":\"Spacer\"},{\"attributes\":{\"fill_alpha\":{\"value\":0.2},\"fill_color\":{\"value\":\"#0EB9B4\"},\"hatch_alpha\":{\"value\":0.2},\"hatch_color\":{\"value\":\"#0EB9B4\"},\"height\":{\"value\":0.8},\"line_alpha\":{\"value\":0.2},\"right\":{\"field\":\"saleAmt\"},\"y\":{\"field\":\"saleDate\"}},\"id\":\"3054\",\"type\":\"HBar\"},{\"attributes\":{\"coordinates\":null,\"data_source\":{\"id\":\"3049\"},\"glyph\":{\"id\":\"3052\"},\"group\":null,\"hover_glyph\":null,\"muted_glyph\":{\"id\":\"3054\"},\"nonselection_glyph\":{\"id\":\"3053\"},\"selection_glyph\":{\"id\":\"3057\"},\"view\":{\"id\":\"3056\"}},\"id\":\"3055\",\"type\":\"GlyphRenderer\"},{\"attributes\":{\"margin\":[5,5,5,5],\"name\":\"HSpacer04691\",\"sizing_mode\":\"stretch_width\"},\"id\":\"3016\",\"type\":\"Spacer\"},{\"attributes\":{\"end\":1667486.0,\"reset_end\":1667486.0,\"reset_start\":0.0,\"tags\":[[[\"saleAmt\",\"saleAmt\",null]]]},\"id\":\"3017\",\"type\":\"Range1d\"},{\"attributes\":{\"fill_color\":{\"value\":\"#0EB9B4\"},\"hatch_color\":{\"value\":\"#0EB9B4\"},\"height\":{\"value\":0.8},\"right\":{\"field\":\"saleAmt\"},\"y\":{\"field\":\"saleDate\"}},\"id\":\"3052\",\"type\":\"HBar\"},{\"attributes\":{},\"id\":\"3065\",\"type\":\"CategoricalTickFormatter\"},{\"attributes\":{\"below\":[{\"id\":\"3029\"}],\"center\":[{\"id\":\"3032\"},{\"id\":\"3035\"}],\"height\":800,\"left\":[{\"id\":\"3033\"}],\"margin\":[5,5,5,5],\"min_border_bottom\":10,\"min_border_left\":10,\"min_border_right\":10,\"min_border_top\":10,\"renderers\":[{\"id\":\"3055\"}],\"sizing_mode\":\"fixed\",\"title\":{\"id\":\"3021\"},\"toolbar\":{\"id\":\"3042\"},\"width\":5000,\"x_range\":{\"id\":\"3017\"},\"x_scale\":{\"id\":\"3025\"},\"y_range\":{\"id\":\"3018\"},\"y_scale\":{\"id\":\"3027\"}},\"id\":\"3020\",\"subtype\":\"Figure\",\"type\":\"Plot\"},{\"attributes\":{\"tools\":[{\"id\":\"3019\"},{\"id\":\"3036\"},{\"id\":\"3037\"},{\"id\":\"3038\"},{\"id\":\"3039\"},{\"id\":\"3040\"}]},\"id\":\"3042\",\"type\":\"Toolbar\"},{\"attributes\":{},\"id\":\"3073\",\"type\":\"UnionRenderers\"},{\"attributes\":{\"bottom_units\":\"screen\",\"coordinates\":null,\"fill_alpha\":0.5,\"fill_color\":\"lightgrey\",\"group\":null,\"left_units\":\"screen\",\"level\":\"overlay\",\"line_alpha\":1.0,\"line_color\":\"black\",\"line_dash\":[4,4],\"line_width\":2,\"right_units\":\"screen\",\"syncable\":false,\"top_units\":\"screen\"},\"id\":\"3041\",\"type\":\"BoxAnnotation\"},{\"attributes\":{},\"id\":\"3036\",\"type\":\"SaveTool\"},{\"attributes\":{\"children\":[{\"id\":\"3016\"},{\"id\":\"3020\"},{\"id\":\"3085\"}],\"margin\":[0,0,0,0],\"name\":\"Row04687\",\"tags\":[\"embedded\"]},\"id\":\"3015\",\"type\":\"Row\"},{\"attributes\":{},\"id\":\"3037\",\"type\":\"PanTool\"},{\"attributes\":{},\"id\":\"3040\",\"type\":\"ResetTool\"},{\"attributes\":{\"coordinates\":null,\"group\":null,\"text\":\"Arlington, VA Housing Sale Prices June 2016\",\"text_color\":\"black\",\"text_font_size\":\"12pt\"},\"id\":\"3021\",\"type\":\"Title\"},{\"attributes\":{},\"id\":\"3038\",\"type\":\"WheelZoomTool\"},{\"attributes\":{\"fill_alpha\":{\"value\":0.1},\"fill_color\":{\"value\":\"#0EB9B4\"},\"hatch_alpha\":{\"value\":0.1},\"hatch_color\":{\"value\":\"#0EB9B4\"},\"height\":{\"value\":0.8},\"line_alpha\":{\"value\":0.1},\"right\":{\"field\":\"saleAmt\"},\"y\":{\"field\":\"saleDate\"}},\"id\":\"3053\",\"type\":\"HBar\"},{\"attributes\":{\"overlay\":{\"id\":\"3041\"}},\"id\":\"3039\",\"type\":\"BoxZoomTool\"},{\"attributes\":{\"format\":\"%.0f\"},\"id\":\"3058\",\"type\":\"PrintfTickFormatter\"},{\"attributes\":{\"axis_label\":\"saleDate\",\"coordinates\":null,\"formatter\":{\"id\":\"3065\"},\"group\":null,\"major_label_policy\":{\"id\":\"3066\"},\"ticker\":{\"id\":\"3034\"}},\"id\":\"3033\",\"type\":\"CategoricalAxis\"},{\"attributes\":{},\"id\":\"3030\",\"type\":\"BasicTicker\"},{\"attributes\":{},\"id\":\"3025\",\"type\":\"LinearScale\"},{\"attributes\":{},\"id\":\"3050\",\"type\":\"Selection\"},{\"attributes\":{\"axis\":{\"id\":\"3029\"},\"coordinates\":null,\"grid_line_color\":null,\"group\":null,\"ticker\":null},\"id\":\"3032\",\"type\":\"Grid\"},{\"attributes\":{\"data\":{\"saleAmt\":{\"__ndarray__\":\"AAAAAGC0EkEAAAAAABcRQauqqqq86CNBq6qqqm4QJkEAAAAAwNMGQQAAAABgVBlBAAAAAMAgH0EAAAAASl03QQAAAAAAZClBAAAAABCQBEEAAAAAED4hQQAAAADgyBBB\",\"dtype\":\"float64\",\"order\":\"little\",\"shape\":[12]},\"saleDate\":[\"2019-06-03\",\"2019-06-05\",\"2019-06-07\",\"2019-06-10\",\"2019-06-12\",\"2019-06-13\",\"2019-06-14\",\"2019-06-16\",\"2019-06-17\",\"2019-06-20\",\"2019-06-21\",\"2019-06-24\"]},\"selected\":{\"id\":\"3050\"},\"selection_policy\":{\"id\":\"3073\"}},\"id\":\"3049\",\"type\":\"ColumnDataSource\"},{\"attributes\":{\"factors\":[\"2019-06-03\",\"2019-06-05\",\"2019-06-07\",\"2019-06-10\",\"2019-06-12\",\"2019-06-13\",\"2019-06-14\",\"2019-06-16\",\"2019-06-17\",\"2019-06-20\",\"2019-06-21\",\"2019-06-24\"],\"tags\":[[[\"saleDate\",\"saleDate\",null]]]},\"id\":\"3018\",\"type\":\"FactorRange\"},{\"attributes\":{},\"id\":\"3027\",\"type\":\"CategoricalScale\"},{\"attributes\":{\"source\":{\"id\":\"3049\"}},\"id\":\"3056\",\"type\":\"CDSView\"},{\"attributes\":{},\"id\":\"3034\",\"type\":\"CategoricalTicker\"},{\"attributes\":{},\"id\":\"3061\",\"type\":\"AllLabels\"},{\"attributes\":{\"axis_label\":\"saleAmt\",\"coordinates\":null,\"formatter\":{\"id\":\"3058\"},\"group\":null,\"major_label_policy\":{\"id\":\"3061\"},\"ticker\":{\"id\":\"3030\"}},\"id\":\"3029\",\"type\":\"LinearAxis\"}],\"root_ids\":[\"3015\"]},\"title\":\"Bokeh Application\",\"version\":\"2.4.2\"}};\n",
       "    var render_items = [{\"docid\":\"15e6ef3f-ca06-46c8-97fa-bdc7b7ffdcb4\",\"root_ids\":[\"3015\"],\"roots\":{\"3015\":\"1ec9f01b-0999-4c90-8f60-bc9de2977cf6\"}}];\n",
       "    root.Bokeh.embed.embed_items_notebook(docs_json, render_items);\n",
       "  }\n",
       "  if (root.Bokeh !== undefined && root.Bokeh.Panel !== undefined) {\n",
       "    embed_document(root);\n",
       "  } else {\n",
       "    var attempts = 0;\n",
       "    var timer = setInterval(function(root) {\n",
       "      if (root.Bokeh !== undefined && root.Bokeh.Panel !== undefined) {\n",
       "        clearInterval(timer);\n",
       "        embed_document(root);\n",
       "      } else if (document.readyState == \"complete\") {\n",
       "        attempts++;\n",
       "        if (attempts > 200) {\n",
       "          clearInterval(timer);\n",
       "          console.log(\"Bokeh: ERROR: Unable to run BokehJS code because BokehJS library is missing\");\n",
       "        }\n",
       "      }\n",
       "    }, 25, root)\n",
       "  }\n",
       "})(window);</script>"
      ],
      "text/plain": [
       ":Bars   [saleDate]   (saleAmt)"
      ]
     },
     "execution_count": 24,
     "metadata": {
      "application/vnd.holoviews_exec.v0+json": {
       "id": "3015"
      }
     },
     "output_type": "execute_result"
    }
   ],
   "source": [
    "# Invert axes\n",
    "sale_prices_by_year.hvplot.bar(x=\"saleDate\", y=\"saleAmt\").opts(\n",
    "    xformatter=\"%.0f\",\n",
    "    title=\"Arlington, VA Housing Sale Prices June 2016\",\n",
    "    invert_axes=True,\n",
    "    height=800,\n",
    "    width=5000,\n",
    "    color=\"#0EB9B4\"\n",
    ")"
   ]
  },
  {
   "cell_type": "code",
   "execution_count": null,
   "metadata": {},
   "outputs": [],
   "source": []
  }
 ],
 "metadata": {
  "file_extension": ".py",
  "kernelspec": {
   "display_name": "Python 3 (ipykernel)",
   "language": "python",
   "name": "python3"
  },
  "language_info": {
   "codemirror_mode": {
    "name": "ipython",
    "version": 3
   },
   "file_extension": ".py",
   "mimetype": "text/x-python",
   "name": "python",
   "nbconvert_exporter": "python",
   "pygments_lexer": "ipython3",
   "version": "3.7.11"
  },
  "mimetype": "text/x-python",
  "name": "python",
  "npconvert_exporter": "python",
  "pygments_lexer": "ipython3",
  "version": 3
 },
 "nbformat": 4,
 "nbformat_minor": 4
}
