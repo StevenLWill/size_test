{
 "cells": [
  {
   "cell_type": "markdown",
   "metadata": {},
   "source": [
    "# Composing Masterpieces"
   ]
  },
  {
   "cell_type": "markdown",
   "metadata": {},
   "source": [
    "You've been offered the opportunity to interview with REMAX, an international real estate company. The interview is for a Data Analyst role, which requires both development and visualization skills. All applicants are required to present a portfolio upon interview. You currently do not have a portfolio, so use the provided state loan data to come up with some snazzy visualizations to showcase in the interview."
   ]
  },
  {
   "cell_type": "code",
   "execution_count": 11,
   "metadata": {},
   "outputs": [],
   "source": [
    "import pandas as pd\n",
    "import hvplot.pandas\n",
    "from pathlib import Path"
   ]
  },
  {
   "cell_type": "markdown",
   "metadata": {},
   "source": [
    "### Prep the data"
   ]
  },
  {
   "cell_type": "code",
   "execution_count": 12,
   "metadata": {},
   "outputs": [
    {
     "data": {
      "text/html": [
       "<div>\n",
       "<style scoped>\n",
       "    .dataframe tbody tr th:only-of-type {\n",
       "        vertical-align: middle;\n",
       "    }\n",
       "\n",
       "    .dataframe tbody tr th {\n",
       "        vertical-align: top;\n",
       "    }\n",
       "\n",
       "    .dataframe thead th {\n",
       "        text-align: right;\n",
       "    }\n",
       "</style>\n",
       "<table border=\"1\" class=\"dataframe\">\n",
       "  <thead>\n",
       "    <tr style=\"text-align: right;\">\n",
       "      <th></th>\n",
       "      <th>Total Active Loans</th>\n",
       "      <th>Total Average Loan Amount</th>\n",
       "      <th>2015 - 2016</th>\n",
       "      <th>2010 - 2014</th>\n",
       "      <th>Self Help Loan</th>\n",
       "      <th>Leveraged Loan</th>\n",
       "    </tr>\n",
       "    <tr>\n",
       "      <th>State Code</th>\n",
       "      <th></th>\n",
       "      <th></th>\n",
       "      <th></th>\n",
       "      <th></th>\n",
       "      <th></th>\n",
       "      <th></th>\n",
       "    </tr>\n",
       "  </thead>\n",
       "  <tbody>\n",
       "    <tr>\n",
       "      <th>AK</th>\n",
       "      <td>897</td>\n",
       "      <td>148811.39</td>\n",
       "      <td>189583.49</td>\n",
       "      <td>172371.39</td>\n",
       "      <td>96</td>\n",
       "      <td>450</td>\n",
       "    </tr>\n",
       "    <tr>\n",
       "      <th>AL</th>\n",
       "      <td>7455</td>\n",
       "      <td>435054.53</td>\n",
       "      <td>686066.79</td>\n",
       "      <td>648663.44</td>\n",
       "      <td>18</td>\n",
       "      <td>605</td>\n",
       "    </tr>\n",
       "    <tr>\n",
       "      <th>AR</th>\n",
       "      <td>6186</td>\n",
       "      <td>263212.27</td>\n",
       "      <td>355445.70</td>\n",
       "      <td>351562.42</td>\n",
       "      <td>861</td>\n",
       "      <td>567</td>\n",
       "    </tr>\n",
       "    <tr>\n",
       "      <th>AZ</th>\n",
       "      <td>3982</td>\n",
       "      <td>597591.94</td>\n",
       "      <td>507532.91</td>\n",
       "      <td>599688.64</td>\n",
       "      <td>1718</td>\n",
       "      <td>1057</td>\n",
       "    </tr>\n",
       "    <tr>\n",
       "      <th>CA</th>\n",
       "      <td>8875</td>\n",
       "      <td>2805653.85</td>\n",
       "      <td>3008866.40</td>\n",
       "      <td>2881741.23</td>\n",
       "      <td>4134</td>\n",
       "      <td>2231</td>\n",
       "    </tr>\n",
       "  </tbody>\n",
       "</table>\n",
       "</div>"
      ],
      "text/plain": [
       "            Total Active Loans  Total Average Loan Amount  2015 - 2016  \\\n",
       "State Code                                                               \n",
       "AK                         897                  148811.39    189583.49   \n",
       "AL                        7455                  435054.53    686066.79   \n",
       "AR                        6186                  263212.27    355445.70   \n",
       "AZ                        3982                  597591.94    507532.91   \n",
       "CA                        8875                 2805653.85   3008866.40   \n",
       "\n",
       "            2010 - 2014  Self Help Loan  Leveraged Loan  \n",
       "State Code                                               \n",
       "AK            172371.39              96             450  \n",
       "AL            648663.44              18             605  \n",
       "AR            351562.42             861             567  \n",
       "AZ            599688.64            1718            1057  \n",
       "CA           2881741.23            4134            2231  "
      ]
     },
     "execution_count": 12,
     "metadata": {},
     "output_type": "execute_result"
    }
   ],
   "source": [
    "# Read in loan data\n",
    "loan_data = pd.read_csv(Path(\"../Resources/state_loan_data.csv\"))\n",
    "\n",
    "# Group data by state for state-level analysis\n",
    "loan_data = loan_data.groupby('State Code').sum()\n",
    "loan_data.head()"
   ]
  },
  {
   "cell_type": "code",
   "execution_count": 13,
   "metadata": {},
   "outputs": [
    {
     "data": {
      "text/html": [
       "<div>\n",
       "<style scoped>\n",
       "    .dataframe tbody tr th:only-of-type {\n",
       "        vertical-align: middle;\n",
       "    }\n",
       "\n",
       "    .dataframe tbody tr th {\n",
       "        vertical-align: top;\n",
       "    }\n",
       "\n",
       "    .dataframe thead th {\n",
       "        text-align: right;\n",
       "    }\n",
       "</style>\n",
       "<table border=\"1\" class=\"dataframe\">\n",
       "  <thead>\n",
       "    <tr style=\"text-align: right;\">\n",
       "      <th></th>\n",
       "      <th>Total Active Loans</th>\n",
       "      <th>Total Average Loan Amount</th>\n",
       "      <th>2015 - 2016</th>\n",
       "      <th>2010 - 2014</th>\n",
       "      <th>Self Help Loan</th>\n",
       "      <th>Leveraged Loan</th>\n",
       "    </tr>\n",
       "    <tr>\n",
       "      <th>State Code</th>\n",
       "      <th></th>\n",
       "      <th></th>\n",
       "      <th></th>\n",
       "      <th></th>\n",
       "      <th></th>\n",
       "      <th></th>\n",
       "    </tr>\n",
       "  </thead>\n",
       "  <tbody>\n",
       "    <tr>\n",
       "      <th>AK</th>\n",
       "      <td>897</td>\n",
       "      <td>148811.39</td>\n",
       "      <td>189583.49</td>\n",
       "      <td>172371.39</td>\n",
       "      <td>96</td>\n",
       "      <td>450</td>\n",
       "    </tr>\n",
       "    <tr>\n",
       "      <th>AL</th>\n",
       "      <td>7455</td>\n",
       "      <td>435054.53</td>\n",
       "      <td>686066.79</td>\n",
       "      <td>648663.44</td>\n",
       "      <td>18</td>\n",
       "      <td>605</td>\n",
       "    </tr>\n",
       "    <tr>\n",
       "      <th>AR</th>\n",
       "      <td>6186</td>\n",
       "      <td>263212.27</td>\n",
       "      <td>355445.70</td>\n",
       "      <td>351562.42</td>\n",
       "      <td>861</td>\n",
       "      <td>567</td>\n",
       "    </tr>\n",
       "    <tr>\n",
       "      <th>AZ</th>\n",
       "      <td>3982</td>\n",
       "      <td>597591.94</td>\n",
       "      <td>507532.91</td>\n",
       "      <td>599688.64</td>\n",
       "      <td>1718</td>\n",
       "      <td>1057</td>\n",
       "    </tr>\n",
       "    <tr>\n",
       "      <th>CA</th>\n",
       "      <td>8875</td>\n",
       "      <td>2805653.85</td>\n",
       "      <td>3008866.40</td>\n",
       "      <td>2881741.23</td>\n",
       "      <td>4134</td>\n",
       "      <td>2231</td>\n",
       "    </tr>\n",
       "  </tbody>\n",
       "</table>\n",
       "</div>"
      ],
      "text/plain": [
       "            Total Active Loans  Total Average Loan Amount  2015 - 2016  \\\n",
       "State Code                                                               \n",
       "AK                         897                  148811.39    189583.49   \n",
       "AL                        7455                  435054.53    686066.79   \n",
       "AR                        6186                  263212.27    355445.70   \n",
       "AZ                        3982                  597591.94    507532.91   \n",
       "CA                        8875                 2805653.85   3008866.40   \n",
       "\n",
       "            2010 - 2014  Self Help Loan  Leveraged Loan  \n",
       "State Code                                               \n",
       "AK            172371.39              96             450  \n",
       "AL            648663.44              18             605  \n",
       "AR            351562.42             861             567  \n",
       "AZ            599688.64            1718            1057  \n",
       "CA           2881741.23            4134            2231  "
      ]
     },
     "execution_count": 13,
     "metadata": {},
     "output_type": "execute_result"
    }
   ],
   "source": [
    "loan_data.head()"
   ]
  },
  {
   "cell_type": "markdown",
   "metadata": {},
   "source": [
    "### Plot Total Average Loan Amount"
   ]
  },
  {
   "cell_type": "code",
   "execution_count": 15,
   "metadata": {},
   "outputs": [
    {
     "data": {},
     "metadata": {},
     "output_type": "display_data"
    },
    {
     "data": {
      "application/vnd.holoviews_exec.v0+json": "",
      "text/html": [
       "<div id='2868'>\n",
       "\n",
       "\n",
       "\n",
       "\n",
       "\n",
       "  <div class=\"bk-root\" id=\"f2e623d5-4a17-469b-b8f1-b4b02ac34595\" data-root-id=\"2868\"></div>\n",
       "</div>\n",
       "<script type=\"application/javascript\">(function(root) {\n",
       "  function embed_document(root) {\n",
       "    var docs_json = {\"ea10d5ca-45e7-4418-9ae5-ba40ee530a97\":{\"defs\":[{\"extends\":null,\"module\":null,\"name\":\"ReactiveHTML1\",\"overrides\":[],\"properties\":[]},{\"extends\":null,\"module\":null,\"name\":\"FlexBox1\",\"overrides\":[],\"properties\":[{\"default\":\"flex-start\",\"kind\":null,\"name\":\"align_content\"},{\"default\":\"flex-start\",\"kind\":null,\"name\":\"align_items\"},{\"default\":\"row\",\"kind\":null,\"name\":\"flex_direction\"},{\"default\":\"wrap\",\"kind\":null,\"name\":\"flex_wrap\"},{\"default\":\"flex-start\",\"kind\":null,\"name\":\"justify_content\"}]},{\"extends\":null,\"module\":null,\"name\":\"TemplateActions1\",\"overrides\":[],\"properties\":[{\"default\":0,\"kind\":null,\"name\":\"open_modal\"},{\"default\":0,\"kind\":null,\"name\":\"close_modal\"}]},{\"extends\":null,\"module\":null,\"name\":\"MaterialTemplateActions1\",\"overrides\":[],\"properties\":[{\"default\":0,\"kind\":null,\"name\":\"open_modal\"},{\"default\":0,\"kind\":null,\"name\":\"close_modal\"}]}],\"roots\":{\"references\":[{\"attributes\":{\"axis_label\":\"\",\"coordinates\":null,\"formatter\":{\"id\":\"2915\"},\"group\":null,\"major_label_policy\":{\"id\":\"2916\"},\"ticker\":{\"id\":\"2886\"}},\"id\":\"2885\",\"type\":\"LinearAxis\"},{\"attributes\":{\"bottom\":{\"value\":0},\"fill_alpha\":{\"value\":1.0},\"fill_color\":{\"value\":\"#30a2da\"},\"hatch_alpha\":{\"value\":1.0},\"hatch_color\":{\"value\":\"#30a2da\"},\"hatch_scale\":{\"value\":12.0},\"hatch_weight\":{\"value\":1.0},\"line_alpha\":{\"value\":1.0},\"line_cap\":{\"value\":\"butt\"},\"line_color\":{\"value\":\"black\"},\"line_dash\":{\"value\":[]},\"line_dash_offset\":{\"value\":0},\"line_join\":{\"value\":\"bevel\"},\"line_width\":{\"value\":1},\"top\":{\"field\":\"Total_Average_Loan_Amount\"},\"width\":{\"value\":0.8},\"x\":{\"field\":\"State_Code_0\"}},\"id\":\"2910\",\"type\":\"VBar\"},{\"attributes\":{\"callback\":null,\"renderers\":[{\"id\":\"2908\"}],\"tags\":[\"hv_created\"],\"tooltips\":[[\"State Code 0\",\"@{State_Code_0}\"],[\"Total Average Loan Amount\",\"@{Total_Average_Loan_Amount}\"]]},\"id\":\"2872\",\"type\":\"HoverTool\"},{\"attributes\":{\"axis\":{\"id\":\"2885\"},\"coordinates\":null,\"dimension\":1,\"grid_line_color\":null,\"group\":null,\"ticker\":null},\"id\":\"2888\",\"type\":\"Grid\"},{\"attributes\":{},\"id\":\"2886\",\"type\":\"BasicTicker\"},{\"attributes\":{},\"id\":\"2915\",\"type\":\"BasicTickFormatter\"},{\"attributes\":{},\"id\":\"2912\",\"type\":\"CategoricalTickFormatter\"},{\"attributes\":{},\"id\":\"2924\",\"type\":\"UnionRenderers\"},{\"attributes\":{\"fill_alpha\":{\"value\":0.2},\"fill_color\":{\"value\":\"#30a2da\"},\"hatch_alpha\":{\"value\":0.2},\"hatch_color\":{\"value\":\"#30a2da\"},\"line_alpha\":{\"value\":0.2},\"top\":{\"field\":\"Total_Average_Loan_Amount\"},\"width\":{\"value\":0.8},\"x\":{\"field\":\"State_Code_0\"}},\"id\":\"2907\",\"type\":\"VBar\"},{\"attributes\":{\"source\":{\"id\":\"2902\"}},\"id\":\"2909\",\"type\":\"CDSView\"},{\"attributes\":{\"fill_alpha\":{\"value\":0.1},\"fill_color\":{\"value\":\"#30a2da\"},\"hatch_alpha\":{\"value\":0.1},\"hatch_color\":{\"value\":\"#30a2da\"},\"line_alpha\":{\"value\":0.1},\"top\":{\"field\":\"Total_Average_Loan_Amount\"},\"width\":{\"value\":0.8},\"x\":{\"field\":\"State_Code_0\"}},\"id\":\"2906\",\"type\":\"VBar\"},{\"attributes\":{},\"id\":\"2916\",\"type\":\"AllLabels\"},{\"attributes\":{},\"id\":\"2883\",\"type\":\"CategoricalTicker\"},{\"attributes\":{\"margin\":[5,5,5,5],\"name\":\"HSpacer04167\",\"sizing_mode\":\"stretch_width\"},\"id\":\"2869\",\"type\":\"Spacer\"},{\"attributes\":{\"children\":[{\"id\":\"2869\"},{\"id\":\"2873\"},{\"id\":\"2937\"}],\"margin\":[0,0,0,0],\"name\":\"Row04163\",\"tags\":[\"embedded\"]},\"id\":\"2868\",\"type\":\"Row\"},{\"attributes\":{\"below\":[{\"id\":\"2882\"}],\"center\":[{\"id\":\"2884\"},{\"id\":\"2888\"}],\"height\":300,\"left\":[{\"id\":\"2885\"}],\"margin\":[5,5,5,5],\"min_border_bottom\":10,\"min_border_left\":10,\"min_border_right\":10,\"min_border_top\":10,\"renderers\":[{\"id\":\"2908\"}],\"sizing_mode\":\"fixed\",\"title\":{\"id\":\"2874\"},\"toolbar\":{\"id\":\"2895\"},\"width\":700,\"x_range\":{\"id\":\"2870\"},\"x_scale\":{\"id\":\"2878\"},\"y_range\":{\"id\":\"2871\"},\"y_scale\":{\"id\":\"2880\"}},\"id\":\"2873\",\"subtype\":\"Figure\",\"type\":\"Plot\"},{\"attributes\":{\"bottom_units\":\"screen\",\"coordinates\":null,\"fill_alpha\":0.5,\"fill_color\":\"lightgrey\",\"group\":null,\"left_units\":\"screen\",\"level\":\"overlay\",\"line_alpha\":1.0,\"line_color\":\"black\",\"line_dash\":[4,4],\"line_width\":2,\"right_units\":\"screen\",\"syncable\":false,\"top_units\":\"screen\"},\"id\":\"2894\",\"type\":\"BoxAnnotation\"},{\"attributes\":{\"coordinates\":null,\"data_source\":{\"id\":\"2902\"},\"glyph\":{\"id\":\"2905\"},\"group\":null,\"hover_glyph\":null,\"muted_glyph\":{\"id\":\"2907\"},\"nonselection_glyph\":{\"id\":\"2906\"},\"selection_glyph\":{\"id\":\"2910\"},\"view\":{\"id\":\"2909\"}},\"id\":\"2908\",\"type\":\"GlyphRenderer\"},{\"attributes\":{},\"id\":\"2889\",\"type\":\"SaveTool\"},{\"attributes\":{},\"id\":\"2890\",\"type\":\"PanTool\"},{\"attributes\":{\"margin\":[5,5,5,5],\"name\":\"HSpacer04168\",\"sizing_mode\":\"stretch_width\"},\"id\":\"2937\",\"type\":\"Spacer\"},{\"attributes\":{},\"id\":\"2893\",\"type\":\"ResetTool\"},{\"attributes\":{},\"id\":\"2891\",\"type\":\"WheelZoomTool\"},{\"attributes\":{\"overlay\":{\"id\":\"2894\"}},\"id\":\"2892\",\"type\":\"BoxZoomTool\"},{\"attributes\":{},\"id\":\"2903\",\"type\":\"Selection\"},{\"attributes\":{\"axis\":{\"id\":\"2882\"},\"coordinates\":null,\"grid_line_color\":null,\"group\":null,\"ticker\":null},\"id\":\"2884\",\"type\":\"Grid\"},{\"attributes\":{},\"id\":\"2913\",\"type\":\"AllLabels\"},{\"attributes\":{\"end\":3081895.2350000003,\"reset_end\":3081895.2350000003,\"reset_start\":0.0,\"tags\":[[[\"Total Average Loan Amount\",\"Total Average Loan Amount\",null]]]},\"id\":\"2871\",\"type\":\"Range1d\"},{\"attributes\":{\"coordinates\":null,\"group\":null,\"text\":\"2019 Total Average Amount\",\"text_color\":\"black\",\"text_font_size\":\"12pt\"},\"id\":\"2874\",\"type\":\"Title\"},{\"attributes\":{},\"id\":\"2878\",\"type\":\"CategoricalScale\"},{\"attributes\":{\"axis_label\":\"State Code 0\",\"coordinates\":null,\"formatter\":{\"id\":\"2912\"},\"group\":null,\"major_label_orientation\":1.5707963267948966,\"major_label_policy\":{\"id\":\"2913\"},\"ticker\":{\"id\":\"2883\"}},\"id\":\"2882\",\"type\":\"CategoricalAxis\"},{\"attributes\":{\"fill_color\":{\"value\":\"#30a2da\"},\"hatch_color\":{\"value\":\"#30a2da\"},\"top\":{\"field\":\"Total_Average_Loan_Amount\"},\"width\":{\"value\":0.8},\"x\":{\"field\":\"State_Code_0\"}},\"id\":\"2905\",\"type\":\"VBar\"},{\"attributes\":{},\"id\":\"2880\",\"type\":\"LinearScale\"},{\"attributes\":{\"data\":{\"State_Code_0\":[\"MP\",\"PR\",\"ND\",\"SD\",\"VI\",\"WY\",\"VT\",\"MT\",\"DE\",\"AK\",\"GU\",\"MS\",\"WV\",\"ID\",\"ME\",\"NM\",\"NE\",\"NH\",\"AR\",\"IA\",\"KS\",\"HI\",\"RI\",\"OK\",\"NV\",\"AL\",\"LA\",\"KY\",\"SC\",\"CT\",\"MO\",\"CO\",\"AZ\",\"UT\",\"OR\",\"TN\",\"IN\",\"WI\",\"MD\",\"MN\",\"VA\",\"IL\",\"NY\",\"GA\",\"MA\",\"MI\",\"NC\",\"NJ\",\"WA\",\"OH\",\"FL\",\"PA\",\"TX\",\"CA\"],\"Total_Average_Loan_Amount\":{\"__ndarray__\":\"AAAAAAAd5UAAAAAAwFTsQB+F61Hs6PJArkfhelhS9UAAAAAAUEz3QAAAAAAwJPlA7FG4HmFD+UA9CtejDLn5QFK4HoX7dABB7FG4HlsqAkEAAAAAaEMGQa5H4Xr2bQdBAAAAAAi+CEGamZmZNUkJQRSuR+FaWAlBw/UoXLdjC0HC9Shc8eQLQcL1KFw/PQ5BSOF6FLEQEEEfhetRDdwSQRSuR+E0thNBrkfhem+WFEGQwvUoPlcVQWZmZmby+RVB7FG4HoasF0HsUbgeuo0aQeF6FK5i2BxBexSuR6tbHUEzMzMzaUggQR+F61HQZiBBmpmZGceBIUH2KFwP7PkhQRSuR+GvPCJBj8L1KOZQIkG4HoVrQdYiQfYoXI9MiSRBw/UoXOn3JEEAAAAAUF8lQSlcj0JNKyhBw/Uo3BUSKUFI4XqUXjQpQVK4HgX9tylB4XoULhp5MEHD9SjcrLUwQSlcj8J1EzFBXI/CtTRDMUGamZnZk9ExQRSuR6EWtzJBj8L1KE+jM0GkcD3K+6E1QfYoXE887TdBXI/CdS94OUFSuB5FM4xDQc3MzOzKZ0VB\",\"dtype\":\"float64\",\"order\":\"little\",\"shape\":[54]}},\"selected\":{\"id\":\"2903\"},\"selection_policy\":{\"id\":\"2924\"}},\"id\":\"2902\",\"type\":\"ColumnDataSource\"},{\"attributes\":{\"tools\":[{\"id\":\"2872\"},{\"id\":\"2889\"},{\"id\":\"2890\"},{\"id\":\"2891\"},{\"id\":\"2892\"},{\"id\":\"2893\"}]},\"id\":\"2895\",\"type\":\"Toolbar\"},{\"attributes\":{\"factors\":[\"MP\",\"PR\",\"ND\",\"SD\",\"VI\",\"WY\",\"VT\",\"MT\",\"DE\",\"AK\",\"GU\",\"MS\",\"WV\",\"ID\",\"ME\",\"NM\",\"NE\",\"NH\",\"AR\",\"IA\",\"KS\",\"HI\",\"RI\",\"OK\",\"NV\",\"AL\",\"LA\",\"KY\",\"SC\",\"CT\",\"MO\",\"CO\",\"AZ\",\"UT\",\"OR\",\"TN\",\"IN\",\"WI\",\"MD\",\"MN\",\"VA\",\"IL\",\"NY\",\"GA\",\"MA\",\"MI\",\"NC\",\"NJ\",\"WA\",\"OH\",\"FL\",\"PA\",\"TX\",\"CA\"],\"tags\":[[[\"State Code 0\",\"State Code 0\",null]]]},\"id\":\"2870\",\"type\":\"FactorRange\"}],\"root_ids\":[\"2868\"]},\"title\":\"Bokeh Application\",\"version\":\"2.4.2\"}};\n",
       "    var render_items = [{\"docid\":\"ea10d5ca-45e7-4418-9ae5-ba40ee530a97\",\"root_ids\":[\"2868\"],\"roots\":{\"2868\":\"f2e623d5-4a17-469b-b8f1-b4b02ac34595\"}}];\n",
       "    root.Bokeh.embed.embed_items_notebook(docs_json, render_items);\n",
       "  }\n",
       "  if (root.Bokeh !== undefined && root.Bokeh.Panel !== undefined) {\n",
       "    embed_document(root);\n",
       "  } else {\n",
       "    var attempts = 0;\n",
       "    var timer = setInterval(function(root) {\n",
       "      if (root.Bokeh !== undefined && root.Bokeh.Panel !== undefined) {\n",
       "        clearInterval(timer);\n",
       "        embed_document(root);\n",
       "      } else if (document.readyState == \"complete\") {\n",
       "        attempts++;\n",
       "        if (attempts > 200) {\n",
       "          clearInterval(timer);\n",
       "          console.log(\"Bokeh: ERROR: Unable to run BokehJS code because BokehJS library is missing\");\n",
       "        }\n",
       "      }\n",
       "    }, 25, root)\n",
       "  }\n",
       "})(window);</script>"
      ],
      "text/plain": [
       ":Bars   [State Code 0]   (Total Average Loan Amount)"
      ]
     },
     "execution_count": 15,
     "metadata": {
      "application/vnd.holoviews_exec.v0+json": {
       "id": "2868"
      }
     },
     "output_type": "execute_result"
    }
   ],
   "source": [
    "# Slice for Total Average Loan Amount\n",
    "loan_data_state = loan_data['Total Average Loan Amount']\n",
    "loan_data_avg_grp = loan_data_state.sort_values()\n",
    "loan_data_avg_grp.index.names = ['State Code 0']\n",
    "\n",
    "# Plot Total Average Loan Amount\n",
    "loan_data_avg_grp.hvplot.bar(label='2019 Total Average Amount',rot=90)\n"
   ]
  },
  {
   "cell_type": "markdown",
   "metadata": {},
   "source": [
    "### Plot Total Average Loan Amount for 2015 - 2016 and 2010 - 2014"
   ]
  },
  {
   "cell_type": "code",
   "execution_count": 17,
   "metadata": {},
   "outputs": [
    {
     "data": {},
     "metadata": {},
     "output_type": "display_data"
    },
    {
     "data": {
      "application/vnd.holoviews_exec.v0+json": "",
      "text/html": [
       "<div id='3110'>\n",
       "\n",
       "\n",
       "\n",
       "\n",
       "\n",
       "  <div class=\"bk-root\" id=\"a13f81e0-00a6-4b5d-b491-6a7e17790781\" data-root-id=\"3110\"></div>\n",
       "</div>\n",
       "<script type=\"application/javascript\">(function(root) {\n",
       "  function embed_document(root) {\n",
       "    var docs_json = {\"b3394e6f-3a6e-4352-8ac9-68b723a010f6\":{\"defs\":[{\"extends\":null,\"module\":null,\"name\":\"ReactiveHTML1\",\"overrides\":[],\"properties\":[]},{\"extends\":null,\"module\":null,\"name\":\"FlexBox1\",\"overrides\":[],\"properties\":[{\"default\":\"flex-start\",\"kind\":null,\"name\":\"align_content\"},{\"default\":\"flex-start\",\"kind\":null,\"name\":\"align_items\"},{\"default\":\"row\",\"kind\":null,\"name\":\"flex_direction\"},{\"default\":\"wrap\",\"kind\":null,\"name\":\"flex_wrap\"},{\"default\":\"flex-start\",\"kind\":null,\"name\":\"justify_content\"}]},{\"extends\":null,\"module\":null,\"name\":\"TemplateActions1\",\"overrides\":[],\"properties\":[{\"default\":0,\"kind\":null,\"name\":\"open_modal\"},{\"default\":0,\"kind\":null,\"name\":\"close_modal\"}]},{\"extends\":null,\"module\":null,\"name\":\"MaterialTemplateActions1\",\"overrides\":[],\"properties\":[{\"default\":0,\"kind\":null,\"name\":\"open_modal\"},{\"default\":0,\"kind\":null,\"name\":\"close_modal\"}]}],\"roots\":{\"references\":[{\"attributes\":{\"callback\":null,\"renderers\":[{\"id\":\"3150\"}],\"tags\":[\"hv_created\"],\"tooltips\":[[\"State Code 2\",\"@{State_Code_2}\"],[\"2010 - 2014\",\"@{A_2010_hyphen_minus_2014}\"]]},\"id\":\"3114\",\"type\":\"HoverTool\"},{\"attributes\":{\"axis\":{\"id\":\"3127\"},\"coordinates\":null,\"dimension\":1,\"grid_line_color\":null,\"group\":null,\"ticker\":null},\"id\":\"3130\",\"type\":\"Grid\"},{\"attributes\":{\"below\":[{\"id\":\"3124\"}],\"center\":[{\"id\":\"3126\"},{\"id\":\"3130\"}],\"height\":300,\"left\":[{\"id\":\"3127\"}],\"margin\":[5,5,5,5],\"min_border_bottom\":10,\"min_border_left\":10,\"min_border_right\":10,\"min_border_top\":10,\"renderers\":[{\"id\":\"3150\"}],\"sizing_mode\":\"fixed\",\"title\":{\"id\":\"3116\"},\"toolbar\":{\"id\":\"3137\"},\"width\":700,\"x_range\":{\"id\":\"3112\"},\"x_scale\":{\"id\":\"3120\"},\"y_range\":{\"id\":\"3113\"},\"y_scale\":{\"id\":\"3122\"}},\"id\":\"3115\",\"subtype\":\"Figure\",\"type\":\"Plot\"},{\"attributes\":{\"axis_label\":\"\",\"coordinates\":null,\"formatter\":{\"id\":\"3157\"},\"group\":null,\"major_label_policy\":{\"id\":\"3158\"},\"ticker\":{\"id\":\"3128\"}},\"id\":\"3127\",\"type\":\"LinearAxis\"},{\"attributes\":{},\"id\":\"3154\",\"type\":\"CategoricalTickFormatter\"},{\"attributes\":{\"overlay\":{\"id\":\"3136\"}},\"id\":\"3134\",\"type\":\"BoxZoomTool\"},{\"attributes\":{},\"id\":\"3125\",\"type\":\"CategoricalTicker\"},{\"attributes\":{\"line_alpha\":0.2,\"line_color\":\"#30a2da\",\"line_width\":2,\"x\":{\"field\":\"State Code 2\"},\"y\":{\"field\":\"2010 - 2014\"}},\"id\":\"3149\",\"type\":\"Line\"},{\"attributes\":{},\"id\":\"3128\",\"type\":\"BasicTicker\"},{\"attributes\":{},\"id\":\"3122\",\"type\":\"LinearScale\"},{\"attributes\":{},\"id\":\"3158\",\"type\":\"AllLabels\"},{\"attributes\":{\"line_color\":\"#30a2da\",\"line_width\":2,\"x\":{\"field\":\"State Code 2\"},\"y\":{\"field\":\"2010 - 2014\"}},\"id\":\"3147\",\"type\":\"Line\"},{\"attributes\":{\"axis_label\":\"State Code 2\",\"coordinates\":null,\"formatter\":{\"id\":\"3154\"},\"group\":null,\"major_label_policy\":{\"id\":\"3155\"},\"ticker\":{\"id\":\"3125\"}},\"id\":\"3124\",\"type\":\"CategoricalAxis\"},{\"attributes\":{},\"id\":\"3133\",\"type\":\"WheelZoomTool\"},{\"attributes\":{},\"id\":\"3120\",\"type\":\"CategoricalScale\"},{\"attributes\":{\"bottom_units\":\"screen\",\"coordinates\":null,\"fill_alpha\":0.5,\"fill_color\":\"lightgrey\",\"group\":null,\"left_units\":\"screen\",\"level\":\"overlay\",\"line_alpha\":1.0,\"line_color\":\"black\",\"line_dash\":[4,4],\"line_width\":2,\"right_units\":\"screen\",\"syncable\":false,\"top_units\":\"screen\"},\"id\":\"3136\",\"type\":\"BoxAnnotation\"},{\"attributes\":{\"coordinates\":null,\"group\":null,\"text\":\"2010 - 2014\",\"text_color\":\"black\",\"text_font_size\":\"12pt\"},\"id\":\"3116\",\"type\":\"Title\"},{\"attributes\":{\"coordinates\":null,\"data_source\":{\"id\":\"3144\"},\"glyph\":{\"id\":\"3147\"},\"group\":null,\"hover_glyph\":null,\"muted_glyph\":{\"id\":\"3149\"},\"nonselection_glyph\":{\"id\":\"3148\"},\"selection_glyph\":{\"id\":\"3152\"},\"view\":{\"id\":\"3151\"}},\"id\":\"3150\",\"type\":\"GlyphRenderer\"},{\"attributes\":{},\"id\":\"3132\",\"type\":\"PanTool\"},{\"attributes\":{},\"id\":\"3166\",\"type\":\"UnionRenderers\"},{\"attributes\":{\"tools\":[{\"id\":\"3114\"},{\"id\":\"3131\"},{\"id\":\"3132\"},{\"id\":\"3133\"},{\"id\":\"3134\"},{\"id\":\"3135\"}]},\"id\":\"3137\",\"type\":\"Toolbar\"},{\"attributes\":{\"end\":3523678.784,\"reset_end\":3523678.784,\"reset_start\":-290429.34400000004,\"start\":-290429.34400000004,\"tags\":[[[\"2010 - 2014\",\"2010 - 2014\",null]]]},\"id\":\"3113\",\"type\":\"Range1d\"},{\"attributes\":{},\"id\":\"3131\",\"type\":\"SaveTool\"},{\"attributes\":{},\"id\":\"3135\",\"type\":\"ResetTool\"},{\"attributes\":{\"data\":{\"2010 - 2014\":{\"__ndarray__\":\"AAAAAEDF2kAAAAAAULzzQPYoXI+yuvlAAAAAACA8/EDXo3A9eh79QFK4HoUDQgBBAAAAAEhJAEEfhetRii8BQR+F61HK1gNB7FG4HpsKBUEAAAAA8M0HQexRuB6nnA5BexSuRytREEEAAAAA0JkQQRSuR+HbvxBBHoXrUQ+UEUEAAAAA4tMRQT4K16PIeRJB4XoUril1FUFmZmZmhZMVQSlcj8K/RxhBXI/C9SBjGEHiehSuMNkYQR+F61GBGxpBKVyPwqpwHEFcj8J1LjYhQfYoXA9pNSJBexSuRxFNIkHrUbiebfYiQRSuR+GuyyNBuB6FazdGJEFwPQrXCiclQVK4HoWcQCVBwvUoXDaVJUEAAACAShInQaRwPQrxaCdBZmZmZtumKEEAAAAAmD0pQR6F61Gd3ilB7FG4HsPlKUEpXI9C7tErQa5H4bqQkjFBZmZmZq+ZMUFxPQoXCE8yQWZmZiaJWDJBCtej8HJLNEE9CtfjgGY0QRSuR2FODzZBZmZmZoAGN0GPwvWoFhA3QRSuRyGWpD1BAAAAwKYZP0HXo3CdZvxFQYXrUThmdUhB\",\"dtype\":\"float64\",\"order\":\"little\",\"shape\":[54]},\"A_2010_hyphen_minus_2014\":{\"__ndarray__\":\"AAAAAEDF2kAAAAAAULzzQPYoXI+yuvlAAAAAACA8/EDXo3A9eh79QFK4HoUDQgBBAAAAAEhJAEEfhetRii8BQR+F61HK1gNB7FG4HpsKBUEAAAAA8M0HQexRuB6nnA5BexSuRytREEEAAAAA0JkQQRSuR+HbvxBBHoXrUQ+UEUEAAAAA4tMRQT4K16PIeRJB4XoUril1FUFmZmZmhZMVQSlcj8K/RxhBXI/C9SBjGEHiehSuMNkYQR+F61GBGxpBKVyPwqpwHEFcj8J1LjYhQfYoXA9pNSJBexSuRxFNIkHrUbiebfYiQRSuR+GuyyNBuB6FazdGJEFwPQrXCiclQVK4HoWcQCVBwvUoXDaVJUEAAACAShInQaRwPQrxaCdBZmZmZtumKEEAAAAAmD0pQR6F61Gd3ilB7FG4HsPlKUEpXI9C7tErQa5H4bqQkjFBZmZmZq+ZMUFxPQoXCE8yQWZmZiaJWDJBCtej8HJLNEE9CtfjgGY0QRSuR2FODzZBZmZmZoAGN0GPwvWoFhA3QRSuRyGWpD1BAAAAwKYZP0HXo3CdZvxFQYXrUThmdUhB\",\"dtype\":\"float64\",\"order\":\"little\",\"shape\":[54]},\"State Code 2\":[\"MP\",\"PR\",\"SD\",\"VI\",\"ND\",\"VT\",\"WY\",\"MT\",\"DE\",\"AK\",\"GU\",\"ID\",\"NE\",\"WV\",\"ME\",\"NH\",\"MS\",\"NM\",\"AR\",\"IA\",\"NV\",\"RI\",\"KS\",\"HI\",\"OK\",\"MO\",\"KY\",\"AZ\",\"MN\",\"AL\",\"UT\",\"LA\",\"CT\",\"CO\",\"SC\",\"OR\",\"IN\",\"WI\",\"MD\",\"IL\",\"TN\",\"GA\",\"MI\",\"VA\",\"NY\",\"NJ\",\"MA\",\"OH\",\"NC\",\"WA\",\"FL\",\"PA\",\"CA\",\"TX\"],\"State_Code_2\":[\"MP\",\"PR\",\"SD\",\"VI\",\"ND\",\"VT\",\"WY\",\"MT\",\"DE\",\"AK\",\"GU\",\"ID\",\"NE\",\"WV\",\"ME\",\"NH\",\"MS\",\"NM\",\"AR\",\"IA\",\"NV\",\"RI\",\"KS\",\"HI\",\"OK\",\"MO\",\"KY\",\"AZ\",\"MN\",\"AL\",\"UT\",\"LA\",\"CT\",\"CO\",\"SC\",\"OR\",\"IN\",\"WI\",\"MD\",\"IL\",\"TN\",\"GA\",\"MI\",\"VA\",\"NY\",\"NJ\",\"MA\",\"OH\",\"NC\",\"WA\",\"FL\",\"PA\",\"CA\",\"TX\"]},\"selected\":{\"id\":\"3145\"},\"selection_policy\":{\"id\":\"3166\"}},\"id\":\"3144\",\"type\":\"ColumnDataSource\"},{\"attributes\":{\"margin\":[5,5,5,5],\"name\":\"HSpacer04498\",\"sizing_mode\":\"stretch_width\"},\"id\":\"3179\",\"type\":\"Spacer\"},{\"attributes\":{\"axis\":{\"id\":\"3124\"},\"coordinates\":null,\"grid_line_color\":null,\"group\":null,\"ticker\":null},\"id\":\"3126\",\"type\":\"Grid\"},{\"attributes\":{\"line_color\":\"#30a2da\",\"line_width\":2,\"x\":{\"field\":\"State Code 2\"},\"y\":{\"field\":\"2010 - 2014\"}},\"id\":\"3152\",\"type\":\"Line\"},{\"attributes\":{},\"id\":\"3145\",\"type\":\"Selection\"},{\"attributes\":{\"children\":[{\"id\":\"3111\"},{\"id\":\"3115\"},{\"id\":\"3179\"}],\"margin\":[0,0,0,0],\"name\":\"Row04493\",\"tags\":[\"embedded\"]},\"id\":\"3110\",\"type\":\"Row\"},{\"attributes\":{},\"id\":\"3155\",\"type\":\"AllLabels\"},{\"attributes\":{\"source\":{\"id\":\"3144\"}},\"id\":\"3151\",\"type\":\"CDSView\"},{\"attributes\":{\"margin\":[5,5,5,5],\"name\":\"HSpacer04497\",\"sizing_mode\":\"stretch_width\"},\"id\":\"3111\",\"type\":\"Spacer\"},{\"attributes\":{\"factors\":[\"MP\",\"PR\",\"SD\",\"VI\",\"ND\",\"VT\",\"WY\",\"MT\",\"DE\",\"AK\",\"GU\",\"ID\",\"NE\",\"WV\",\"ME\",\"NH\",\"MS\",\"NM\",\"AR\",\"IA\",\"NV\",\"RI\",\"KS\",\"HI\",\"OK\",\"MO\",\"KY\",\"AZ\",\"MN\",\"AL\",\"UT\",\"LA\",\"CT\",\"CO\",\"SC\",\"OR\",\"IN\",\"WI\",\"MD\",\"IL\",\"TN\",\"GA\",\"MI\",\"VA\",\"NY\",\"NJ\",\"MA\",\"OH\",\"NC\",\"WA\",\"FL\",\"PA\",\"CA\",\"TX\"],\"tags\":[[[\"State Code 2\",\"State Code 2\",null]]]},\"id\":\"3112\",\"type\":\"FactorRange\"},{\"attributes\":{\"line_alpha\":0.1,\"line_color\":\"#30a2da\",\"line_width\":2,\"x\":{\"field\":\"State Code 2\"},\"y\":{\"field\":\"2010 - 2014\"}},\"id\":\"3148\",\"type\":\"Line\"},{\"attributes\":{},\"id\":\"3157\",\"type\":\"BasicTickFormatter\"}],\"root_ids\":[\"3110\"]},\"title\":\"Bokeh Application\",\"version\":\"2.4.2\"}};\n",
       "    var render_items = [{\"docid\":\"b3394e6f-3a6e-4352-8ac9-68b723a010f6\",\"root_ids\":[\"3110\"],\"roots\":{\"3110\":\"a13f81e0-00a6-4b5d-b491-6a7e17790781\"}}];\n",
       "    root.Bokeh.embed.embed_items_notebook(docs_json, render_items);\n",
       "  }\n",
       "  if (root.Bokeh !== undefined && root.Bokeh.Panel !== undefined) {\n",
       "    embed_document(root);\n",
       "  } else {\n",
       "    var attempts = 0;\n",
       "    var timer = setInterval(function(root) {\n",
       "      if (root.Bokeh !== undefined && root.Bokeh.Panel !== undefined) {\n",
       "        clearInterval(timer);\n",
       "        embed_document(root);\n",
       "      } else if (document.readyState == \"complete\") {\n",
       "        attempts++;\n",
       "        if (attempts > 200) {\n",
       "          clearInterval(timer);\n",
       "          console.log(\"Bokeh: ERROR: Unable to run BokehJS code because BokehJS library is missing\");\n",
       "        }\n",
       "      }\n",
       "    }, 25, root)\n",
       "  }\n",
       "})(window);</script>"
      ],
      "text/plain": [
       ":Curve   [State Code 2]   (2010 - 2014)"
      ]
     },
     "execution_count": 17,
     "metadata": {
      "application/vnd.holoviews_exec.v0+json": {
       "id": "3110"
      }
     },
     "output_type": "execute_result"
    }
   ],
   "source": [
    "# Slice data for Total Average Loan Amount by 2015-2016 and 2010-2014 date ranges\n",
    "loan_data_range_1 = loan_data['2015 - 2016']\n",
    "loan_data_range_2 = loan_data['2010 - 2014']\n",
    "loan_data_range_grp = loan_data_range_1.sort_values()\n",
    "loan_data_range_grp_2 = loan_data_range_2.sort_values()\n",
    "# Recall, that the + operator aligns the index of both dataframes by default. We prevent this by renaming the indexes\n",
    "loan_data_range_grp.index.names = ['State Code 1']\n",
    "loan_data_range_grp_2.index.names = ['State Code 2']\n",
    "\n",
    "# Plot data for date ranges\n",
    "#loan_data_range_grp.hvplot(label='2015 - 2016') \n",
    "loan_data_range_grp_2.hvplot(label='2010 - 2014')\n"
   ]
  },
  {
   "cell_type": "markdown",
   "metadata": {},
   "source": [
    "### Compose plots for 2015 - 2016 and 2010 - 2014 using `+` operator"
   ]
  },
  {
   "cell_type": "code",
   "execution_count": 18,
   "metadata": {},
   "outputs": [
    {
     "data": {},
     "metadata": {},
     "output_type": "display_data"
    },
    {
     "data": {
      "application/vnd.holoviews_exec.v0+json": "",
      "text/html": [
       "<div id='3231'>\n",
       "\n",
       "\n",
       "\n",
       "\n",
       "\n",
       "  <div class=\"bk-root\" id=\"450e01a7-e9aa-4e1a-8d97-fb1342d84f35\" data-root-id=\"3231\"></div>\n",
       "</div>\n",
       "<script type=\"application/javascript\">(function(root) {\n",
       "  function embed_document(root) {\n",
       "    var docs_json = {\"75248d44-1c31-4610-a773-32e3414252f0\":{\"defs\":[{\"extends\":null,\"module\":null,\"name\":\"ReactiveHTML1\",\"overrides\":[],\"properties\":[]},{\"extends\":null,\"module\":null,\"name\":\"FlexBox1\",\"overrides\":[],\"properties\":[{\"default\":\"flex-start\",\"kind\":null,\"name\":\"align_content\"},{\"default\":\"flex-start\",\"kind\":null,\"name\":\"align_items\"},{\"default\":\"row\",\"kind\":null,\"name\":\"flex_direction\"},{\"default\":\"wrap\",\"kind\":null,\"name\":\"flex_wrap\"},{\"default\":\"flex-start\",\"kind\":null,\"name\":\"justify_content\"}]},{\"extends\":null,\"module\":null,\"name\":\"TemplateActions1\",\"overrides\":[],\"properties\":[{\"default\":0,\"kind\":null,\"name\":\"open_modal\"},{\"default\":0,\"kind\":null,\"name\":\"close_modal\"}]},{\"extends\":null,\"module\":null,\"name\":\"MaterialTemplateActions1\",\"overrides\":[],\"properties\":[{\"default\":0,\"kind\":null,\"name\":\"open_modal\"},{\"default\":0,\"kind\":null,\"name\":\"close_modal\"}]}],\"roots\":{\"references\":[{\"attributes\":{},\"id\":\"3256\",\"type\":\"ResetTool\"},{\"attributes\":{\"coordinates\":null,\"data_source\":{\"id\":\"3312\"},\"glyph\":{\"id\":\"3315\"},\"group\":null,\"hover_glyph\":null,\"muted_glyph\":{\"id\":\"3317\"},\"nonselection_glyph\":{\"id\":\"3316\"},\"selection_glyph\":{\"id\":\"3320\"},\"view\":{\"id\":\"3319\"}},\"id\":\"3318\",\"type\":\"GlyphRenderer\"},{\"attributes\":{\"line_alpha\":0.2,\"line_color\":\"#30a2da\",\"line_width\":2,\"x\":{\"field\":\"State Code 2\"},\"y\":{\"field\":\"2010 - 2014\"}},\"id\":\"3317\",\"type\":\"Line\"},{\"attributes\":{},\"id\":\"3334\",\"type\":\"UnionRenderers\"},{\"attributes\":{\"end\":3309753.04,\"reset_end\":3309753.04,\"reset_start\":-300886.64,\"start\":-300886.64,\"tags\":[[[\"2015 - 2016\",\"2015 - 2016\",null]]]},\"id\":\"3234\",\"type\":\"Range1d\"},{\"attributes\":{\"source\":{\"id\":\"3312\"}},\"id\":\"3319\",\"type\":\"CDSView\"},{\"attributes\":{\"tools\":[{\"id\":\"3235\"},{\"id\":\"3252\"},{\"id\":\"3253\"},{\"id\":\"3254\"},{\"id\":\"3255\"},{\"id\":\"3256\"}]},\"id\":\"3258\",\"type\":\"Toolbar\"},{\"attributes\":{\"tools\":[{\"id\":\"3282\"},{\"id\":\"3299\"},{\"id\":\"3300\"},{\"id\":\"3301\"},{\"id\":\"3302\"},{\"id\":\"3303\"}]},\"id\":\"3305\",\"type\":\"Toolbar\"},{\"attributes\":{\"callback\":null,\"renderers\":[{\"id\":\"3271\"}],\"tags\":[\"hv_created\"],\"tooltips\":[[\"State Code 1\",\"@{State_Code_1}\"],[\"2015 - 2016\",\"@{A_2015_hyphen_minus_2016}\"]]},\"id\":\"3235\",\"type\":\"HoverTool\"},{\"attributes\":{\"data\":{\"2010 - 2014\":{\"__ndarray__\":\"AAAAAEDF2kAAAAAAULzzQPYoXI+yuvlAAAAAACA8/EDXo3A9eh79QFK4HoUDQgBBAAAAAEhJAEEfhetRii8BQR+F61HK1gNB7FG4HpsKBUEAAAAA8M0HQexRuB6nnA5BexSuRytREEEAAAAA0JkQQRSuR+HbvxBBHoXrUQ+UEUEAAAAA4tMRQT4K16PIeRJB4XoUril1FUFmZmZmhZMVQSlcj8K/RxhBXI/C9SBjGEHiehSuMNkYQR+F61GBGxpBKVyPwqpwHEFcj8J1LjYhQfYoXA9pNSJBexSuRxFNIkHrUbiebfYiQRSuR+GuyyNBuB6FazdGJEFwPQrXCiclQVK4HoWcQCVBwvUoXDaVJUEAAACAShInQaRwPQrxaCdBZmZmZtumKEEAAAAAmD0pQR6F61Gd3ilB7FG4HsPlKUEpXI9C7tErQa5H4bqQkjFBZmZmZq+ZMUFxPQoXCE8yQWZmZiaJWDJBCtej8HJLNEE9CtfjgGY0QRSuR2FODzZBZmZmZoAGN0GPwvWoFhA3QRSuRyGWpD1BAAAAwKYZP0HXo3CdZvxFQYXrUThmdUhB\",\"dtype\":\"float64\",\"order\":\"little\",\"shape\":[54]},\"A_2010_hyphen_minus_2014\":{\"__ndarray__\":\"AAAAAEDF2kAAAAAAULzzQPYoXI+yuvlAAAAAACA8/EDXo3A9eh79QFK4HoUDQgBBAAAAAEhJAEEfhetRii8BQR+F61HK1gNB7FG4HpsKBUEAAAAA8M0HQexRuB6nnA5BexSuRytREEEAAAAA0JkQQRSuR+HbvxBBHoXrUQ+UEUEAAAAA4tMRQT4K16PIeRJB4XoUril1FUFmZmZmhZMVQSlcj8K/RxhBXI/C9SBjGEHiehSuMNkYQR+F61GBGxpBKVyPwqpwHEFcj8J1LjYhQfYoXA9pNSJBexSuRxFNIkHrUbiebfYiQRSuR+GuyyNBuB6FazdGJEFwPQrXCiclQVK4HoWcQCVBwvUoXDaVJUEAAACAShInQaRwPQrxaCdBZmZmZtumKEEAAAAAmD0pQR6F61Gd3ilB7FG4HsPlKUEpXI9C7tErQa5H4bqQkjFBZmZmZq+ZMUFxPQoXCE8yQWZmZiaJWDJBCtej8HJLNEE9CtfjgGY0QRSuR2FODzZBZmZmZoAGN0GPwvWoFhA3QRSuRyGWpD1BAAAAwKYZP0HXo3CdZvxFQYXrUThmdUhB\",\"dtype\":\"float64\",\"order\":\"little\",\"shape\":[54]},\"State Code 2\":[\"MP\",\"PR\",\"SD\",\"VI\",\"ND\",\"VT\",\"WY\",\"MT\",\"DE\",\"AK\",\"GU\",\"ID\",\"NE\",\"WV\",\"ME\",\"NH\",\"MS\",\"NM\",\"AR\",\"IA\",\"NV\",\"RI\",\"KS\",\"HI\",\"OK\",\"MO\",\"KY\",\"AZ\",\"MN\",\"AL\",\"UT\",\"LA\",\"CT\",\"CO\",\"SC\",\"OR\",\"IN\",\"WI\",\"MD\",\"IL\",\"TN\",\"GA\",\"MI\",\"VA\",\"NY\",\"NJ\",\"MA\",\"OH\",\"NC\",\"WA\",\"FL\",\"PA\",\"CA\",\"TX\"],\"State_Code_2\":[\"MP\",\"PR\",\"SD\",\"VI\",\"ND\",\"VT\",\"WY\",\"MT\",\"DE\",\"AK\",\"GU\",\"ID\",\"NE\",\"WV\",\"ME\",\"NH\",\"MS\",\"NM\",\"AR\",\"IA\",\"NV\",\"RI\",\"KS\",\"HI\",\"OK\",\"MO\",\"KY\",\"AZ\",\"MN\",\"AL\",\"UT\",\"LA\",\"CT\",\"CO\",\"SC\",\"OR\",\"IN\",\"WI\",\"MD\",\"IL\",\"TN\",\"GA\",\"MI\",\"VA\",\"NY\",\"NJ\",\"MA\",\"OH\",\"NC\",\"WA\",\"FL\",\"PA\",\"CA\",\"TX\"]},\"selected\":{\"id\":\"3313\"},\"selection_policy\":{\"id\":\"3345\"}},\"id\":\"3312\",\"type\":\"ColumnDataSource\"},{\"attributes\":{\"factors\":[\"MP\",\"PR\",\"VI\",\"SD\",\"ND\",\"VT\",\"MT\",\"WY\",\"DE\",\"AK\",\"GU\",\"ID\",\"NE\",\"WV\",\"ME\",\"NH\",\"NM\",\"MS\",\"AR\",\"IA\",\"KS\",\"RI\",\"HI\",\"NV\",\"OK\",\"AZ\",\"KY\",\"MO\",\"MN\",\"AL\",\"CT\",\"UT\",\"LA\",\"IL\",\"CO\",\"WI\",\"SC\",\"OR\",\"IN\",\"TN\",\"MD\",\"MA\",\"GA\",\"NY\",\"NJ\",\"MI\",\"VA\",\"WA\",\"NC\",\"OH\",\"PA\",\"FL\",\"TX\",\"CA\"],\"tags\":[[[\"State Code 1\",\"State Code 1\",null]]]},\"id\":\"3233\",\"type\":\"FactorRange\"},{\"attributes\":{\"bottom_units\":\"screen\",\"coordinates\":null,\"fill_alpha\":0.5,\"fill_color\":\"lightgrey\",\"group\":null,\"left_units\":\"screen\",\"level\":\"overlay\",\"line_alpha\":1.0,\"line_color\":\"black\",\"line_dash\":[4,4],\"line_width\":2,\"right_units\":\"screen\",\"syncable\":false,\"top_units\":\"screen\"},\"id\":\"3257\",\"type\":\"BoxAnnotation\"},{\"attributes\":{\"bottom_units\":\"screen\",\"coordinates\":null,\"fill_alpha\":0.5,\"fill_color\":\"lightgrey\",\"group\":null,\"left_units\":\"screen\",\"level\":\"overlay\",\"line_alpha\":1.0,\"line_color\":\"black\",\"line_dash\":[4,4],\"line_width\":2,\"right_units\":\"screen\",\"syncable\":false,\"top_units\":\"screen\"},\"id\":\"3304\",\"type\":\"BoxAnnotation\"},{\"attributes\":{},\"id\":\"3313\",\"type\":\"Selection\"},{\"attributes\":{\"margin\":[5,5,5,5],\"name\":\"HSpacer04754\",\"sizing_mode\":\"stretch_width\"},\"id\":\"3232\",\"type\":\"Spacer\"},{\"attributes\":{},\"id\":\"3299\",\"type\":\"SaveTool\"},{\"attributes\":{},\"id\":\"3300\",\"type\":\"PanTool\"},{\"attributes\":{},\"id\":\"3303\",\"type\":\"ResetTool\"},{\"attributes\":{\"line_alpha\":0.2,\"line_color\":\"#30a2da\",\"line_width\":2,\"x\":{\"field\":\"State Code 1\"},\"y\":{\"field\":\"2015 - 2016\"}},\"id\":\"3270\",\"type\":\"Line\"},{\"attributes\":{},\"id\":\"3301\",\"type\":\"WheelZoomTool\"},{\"attributes\":{\"end\":3523678.784,\"reset_end\":3523678.784,\"reset_start\":-290429.34400000004,\"start\":-290429.34400000004,\"tags\":[[[\"2010 - 2014\",\"2010 - 2014\",null]]]},\"id\":\"3281\",\"type\":\"Range1d\"},{\"attributes\":{},\"id\":\"3276\",\"type\":\"AllLabels\"},{\"attributes\":{},\"id\":\"3266\",\"type\":\"Selection\"},{\"attributes\":{\"overlay\":{\"id\":\"3304\"}},\"id\":\"3302\",\"type\":\"BoxZoomTool\"},{\"attributes\":{\"data\":{\"2015 - 2016\":{\"__ndarray__\":\"AAAAAAAAAAAAAAAAUPD0QAAAAABgcftAw/UoXPMY/EDhehSuE2L+QFyPwvVOhgBBCtejcB8CAkEAAAAACB8EQdejcD3MJARBuB6F63skB0EAAAAASBwLQXA9Cteh7A9BwvUoXBn8D0EAAAAANF8QQSlcj8IRhhBBAAAAAGQhEUE9CtejIWwTQXsUrkePoRNBzczMzNaxFUEK16NwlBsWQdejcD2v0hlBwvUoXGyYGkEUrkfhyLwbQeJ6FK5ztR5BmpmZmejvHkE+CtejM/oeQfYoXA+1hSJBuB6Fa8CYIkGPwvWor6skQUjhepTl7yRBexSux6iuJUHsUbieBhMmQYXrUThBLiZBSOF6FJwtJ0GF61E4vrwnQQAAAACoOihBPgrXoy6qKEE9CtcjGfooQTMzMzMDyCpBmpmZGXbBLkFwPQpXcMwuQY/C9ahaVS9BMzMzM0B2L0GkcD2KaAUyQcL1KBwDeDJB9ihcD2bZMkGF61E4USY0Qc3MzMz7STdBXI/C9eiLOEGkcD1KxHU5QQAAAMDJvTxBZmZmhqCgQEFmZmamd19GQTMzMzOx9EZB\",\"dtype\":\"float64\",\"order\":\"little\",\"shape\":[54]},\"A_2015_hyphen_minus_2016\":{\"__ndarray__\":\"AAAAAAAAAAAAAAAAUPD0QAAAAABgcftAw/UoXPMY/EDhehSuE2L+QFyPwvVOhgBBCtejcB8CAkEAAAAACB8EQdejcD3MJARBuB6F63skB0EAAAAASBwLQXA9Cteh7A9BwvUoXBn8D0EAAAAANF8QQSlcj8IRhhBBAAAAAGQhEUE9CtejIWwTQXsUrkePoRNBzczMzNaxFUEK16NwlBsWQdejcD2v0hlBwvUoXGyYGkEUrkfhyLwbQeJ6FK5ztR5BmpmZmejvHkE+CtejM/oeQfYoXA+1hSJBuB6Fa8CYIkGPwvWor6skQUjhepTl7yRBexSux6iuJUHsUbieBhMmQYXrUThBLiZBSOF6FJwtJ0GF61E4vrwnQQAAAACoOihBPgrXoy6qKEE9CtcjGfooQTMzMzMDyCpBmpmZGXbBLkFwPQpXcMwuQY/C9ahaVS9BMzMzM0B2L0GkcD2KaAUyQcL1KBwDeDJB9ihcD2bZMkGF61E4USY0Qc3MzMz7STdBXI/C9eiLOEGkcD1KxHU5QQAAAMDJvTxBZmZmhqCgQEFmZmamd19GQTMzMzOx9EZB\",\"dtype\":\"float64\",\"order\":\"little\",\"shape\":[54]},\"State Code 1\":[\"MP\",\"PR\",\"VI\",\"SD\",\"ND\",\"VT\",\"MT\",\"WY\",\"DE\",\"AK\",\"GU\",\"ID\",\"NE\",\"WV\",\"ME\",\"NH\",\"NM\",\"MS\",\"AR\",\"IA\",\"KS\",\"RI\",\"HI\",\"NV\",\"OK\",\"AZ\",\"KY\",\"MO\",\"MN\",\"AL\",\"CT\",\"UT\",\"LA\",\"IL\",\"CO\",\"WI\",\"SC\",\"OR\",\"IN\",\"TN\",\"MD\",\"MA\",\"GA\",\"NY\",\"NJ\",\"MI\",\"VA\",\"WA\",\"NC\",\"OH\",\"PA\",\"FL\",\"TX\",\"CA\"],\"State_Code_1\":[\"MP\",\"PR\",\"VI\",\"SD\",\"ND\",\"VT\",\"MT\",\"WY\",\"DE\",\"AK\",\"GU\",\"ID\",\"NE\",\"WV\",\"ME\",\"NH\",\"NM\",\"MS\",\"AR\",\"IA\",\"KS\",\"RI\",\"HI\",\"NV\",\"OK\",\"AZ\",\"KY\",\"MO\",\"MN\",\"AL\",\"CT\",\"UT\",\"LA\",\"IL\",\"CO\",\"WI\",\"SC\",\"OR\",\"IN\",\"TN\",\"MD\",\"MA\",\"GA\",\"NY\",\"NJ\",\"MI\",\"VA\",\"WA\",\"NC\",\"OH\",\"PA\",\"FL\",\"TX\",\"CA\"]},\"selected\":{\"id\":\"3266\"},\"selection_policy\":{\"id\":\"3334\"}},\"id\":\"3265\",\"type\":\"ColumnDataSource\"},{\"attributes\":{\"line_color\":\"#30a2da\",\"line_width\":2,\"x\":{\"field\":\"State Code 1\"},\"y\":{\"field\":\"2015 - 2016\"}},\"id\":\"3273\",\"type\":\"Line\"},{\"attributes\":{},\"id\":\"3279\",\"type\":\"AllLabels\"},{\"attributes\":{},\"id\":\"3278\",\"type\":\"BasicTickFormatter\"},{\"attributes\":{\"children\":[{\"id\":\"3351\"},{\"id\":\"3349\"}]},\"id\":\"3352\",\"type\":\"Column\"},{\"attributes\":{\"below\":[{\"id\":\"3245\"}],\"center\":[{\"id\":\"3247\"},{\"id\":\"3251\"}],\"height\":300,\"left\":[{\"id\":\"3248\"}],\"margin\":null,\"min_border_bottom\":10,\"min_border_left\":10,\"min_border_right\":10,\"min_border_top\":10,\"renderers\":[{\"id\":\"3271\"}],\"sizing_mode\":\"fixed\",\"title\":{\"id\":\"3237\"},\"toolbar\":{\"id\":\"3258\"},\"toolbar_location\":null,\"width\":700,\"x_range\":{\"id\":\"3233\"},\"x_scale\":{\"id\":\"3241\"},\"y_range\":{\"id\":\"3234\"},\"y_scale\":{\"id\":\"3243\"}},\"id\":\"3236\",\"subtype\":\"Figure\",\"type\":\"Plot\"},{\"attributes\":{\"toolbar\":{\"id\":\"3350\"},\"toolbar_location\":\"above\"},\"id\":\"3351\",\"type\":\"ToolbarBox\"},{\"attributes\":{\"coordinates\":null,\"data_source\":{\"id\":\"3265\"},\"glyph\":{\"id\":\"3268\"},\"group\":null,\"hover_glyph\":null,\"muted_glyph\":{\"id\":\"3270\"},\"nonselection_glyph\":{\"id\":\"3269\"},\"selection_glyph\":{\"id\":\"3273\"},\"view\":{\"id\":\"3272\"}},\"id\":\"3271\",\"type\":\"GlyphRenderer\"},{\"attributes\":{},\"id\":\"3275\",\"type\":\"CategoricalTickFormatter\"},{\"attributes\":{},\"id\":\"3241\",\"type\":\"CategoricalScale\"},{\"attributes\":{\"line_alpha\":0.1,\"line_color\":\"#30a2da\",\"line_width\":2,\"x\":{\"field\":\"State Code 1\"},\"y\":{\"field\":\"2015 - 2016\"}},\"id\":\"3269\",\"type\":\"Line\"},{\"attributes\":{\"children\":[[{\"id\":\"3236\"},0,0],[{\"id\":\"3283\"},0,1]]},\"id\":\"3349\",\"type\":\"GridBox\"},{\"attributes\":{\"coordinates\":null,\"group\":null,\"text\":\"2015 - 2016\",\"text_color\":\"black\",\"text_font_size\":\"12pt\"},\"id\":\"3237\",\"type\":\"Title\"},{\"attributes\":{\"line_color\":\"#30a2da\",\"line_width\":2,\"x\":{\"field\":\"State Code 2\"},\"y\":{\"field\":\"2010 - 2014\"}},\"id\":\"3320\",\"type\":\"Line\"},{\"attributes\":{\"margin\":[5,5,5,5],\"name\":\"HSpacer04755\",\"sizing_mode\":\"stretch_width\"},\"id\":\"3533\",\"type\":\"Spacer\"},{\"attributes\":{\"axis\":{\"id\":\"3245\"},\"coordinates\":null,\"grid_line_color\":null,\"group\":null,\"ticker\":null},\"id\":\"3247\",\"type\":\"Grid\"},{\"attributes\":{\"axis_label\":\"State Code 1\",\"coordinates\":null,\"formatter\":{\"id\":\"3275\"},\"group\":null,\"major_label_policy\":{\"id\":\"3276\"},\"ticker\":{\"id\":\"3246\"}},\"id\":\"3245\",\"type\":\"CategoricalAxis\"},{\"attributes\":{},\"id\":\"3325\",\"type\":\"BasicTickFormatter\"},{\"attributes\":{\"line_color\":\"#30a2da\",\"line_width\":2,\"x\":{\"field\":\"State Code 1\"},\"y\":{\"field\":\"2015 - 2016\"}},\"id\":\"3268\",\"type\":\"Line\"},{\"attributes\":{},\"id\":\"3326\",\"type\":\"AllLabels\"},{\"attributes\":{\"below\":[{\"id\":\"3292\"}],\"center\":[{\"id\":\"3294\"},{\"id\":\"3298\"}],\"height\":300,\"left\":[{\"id\":\"3295\"}],\"margin\":null,\"min_border_bottom\":10,\"min_border_left\":10,\"min_border_right\":10,\"min_border_top\":10,\"renderers\":[{\"id\":\"3318\"}],\"sizing_mode\":\"fixed\",\"title\":{\"id\":\"3284\"},\"toolbar\":{\"id\":\"3305\"},\"toolbar_location\":null,\"width\":700,\"x_range\":{\"id\":\"3280\"},\"x_scale\":{\"id\":\"3288\"},\"y_range\":{\"id\":\"3281\"},\"y_scale\":{\"id\":\"3290\"}},\"id\":\"3283\",\"subtype\":\"Figure\",\"type\":\"Plot\"},{\"attributes\":{\"line_color\":\"#30a2da\",\"line_width\":2,\"x\":{\"field\":\"State Code 2\"},\"y\":{\"field\":\"2010 - 2014\"}},\"id\":\"3315\",\"type\":\"Line\"},{\"attributes\":{},\"id\":\"3243\",\"type\":\"LinearScale\"},{\"attributes\":{},\"id\":\"3249\",\"type\":\"BasicTicker\"},{\"attributes\":{},\"id\":\"3246\",\"type\":\"CategoricalTicker\"},{\"attributes\":{\"axis_label\":\"\",\"coordinates\":null,\"formatter\":{\"id\":\"3278\"},\"group\":null,\"major_label_policy\":{\"id\":\"3279\"},\"ticker\":{\"id\":\"3249\"}},\"id\":\"3248\",\"type\":\"LinearAxis\"},{\"attributes\":{\"callback\":null,\"renderers\":[{\"id\":\"3318\"}],\"tags\":[\"hv_created\"],\"tooltips\":[[\"State Code 2\",\"@{State_Code_2}\"],[\"2010 - 2014\",\"@{A_2010_hyphen_minus_2014}\"]]},\"id\":\"3282\",\"type\":\"HoverTool\"},{\"attributes\":{\"axis\":{\"id\":\"3248\"},\"coordinates\":null,\"dimension\":1,\"grid_line_color\":null,\"group\":null,\"ticker\":null},\"id\":\"3251\",\"type\":\"Grid\"},{\"attributes\":{},\"id\":\"3288\",\"type\":\"CategoricalScale\"},{\"attributes\":{\"children\":[{\"id\":\"3232\"},{\"id\":\"3352\"},{\"id\":\"3533\"}],\"margin\":[0,0,0,0],\"name\":\"Row04750\",\"tags\":[\"embedded\"]},\"id\":\"3231\",\"type\":\"Row\"},{\"attributes\":{\"source\":{\"id\":\"3265\"}},\"id\":\"3272\",\"type\":\"CDSView\"},{\"attributes\":{\"line_alpha\":0.1,\"line_color\":\"#30a2da\",\"line_width\":2,\"x\":{\"field\":\"State Code 2\"},\"y\":{\"field\":\"2010 - 2014\"}},\"id\":\"3316\",\"type\":\"Line\"},{\"attributes\":{},\"id\":\"3322\",\"type\":\"CategoricalTickFormatter\"},{\"attributes\":{},\"id\":\"3323\",\"type\":\"AllLabels\"},{\"attributes\":{\"factors\":[\"MP\",\"PR\",\"SD\",\"VI\",\"ND\",\"VT\",\"WY\",\"MT\",\"DE\",\"AK\",\"GU\",\"ID\",\"NE\",\"WV\",\"ME\",\"NH\",\"MS\",\"NM\",\"AR\",\"IA\",\"NV\",\"RI\",\"KS\",\"HI\",\"OK\",\"MO\",\"KY\",\"AZ\",\"MN\",\"AL\",\"UT\",\"LA\",\"CT\",\"CO\",\"SC\",\"OR\",\"IN\",\"WI\",\"MD\",\"IL\",\"TN\",\"GA\",\"MI\",\"VA\",\"NY\",\"NJ\",\"MA\",\"OH\",\"NC\",\"WA\",\"FL\",\"PA\",\"CA\",\"TX\"],\"tags\":[[[\"State Code 2\",\"State Code 2\",null]]]},\"id\":\"3280\",\"type\":\"FactorRange\"},{\"attributes\":{\"coordinates\":null,\"group\":null,\"text\":\"2010 - 2014\",\"text_color\":\"black\",\"text_font_size\":\"12pt\"},\"id\":\"3284\",\"type\":\"Title\"},{\"attributes\":{\"axis\":{\"id\":\"3292\"},\"coordinates\":null,\"grid_line_color\":null,\"group\":null,\"ticker\":null},\"id\":\"3294\",\"type\":\"Grid\"},{\"attributes\":{},\"id\":\"3345\",\"type\":\"UnionRenderers\"},{\"attributes\":{\"axis_label\":\"State Code 2\",\"coordinates\":null,\"formatter\":{\"id\":\"3322\"},\"group\":null,\"major_label_policy\":{\"id\":\"3323\"},\"ticker\":{\"id\":\"3293\"}},\"id\":\"3292\",\"type\":\"CategoricalAxis\"},{\"attributes\":{},\"id\":\"3252\",\"type\":\"SaveTool\"},{\"attributes\":{},\"id\":\"3290\",\"type\":\"LinearScale\"},{\"attributes\":{},\"id\":\"3253\",\"type\":\"PanTool\"},{\"attributes\":{},\"id\":\"3296\",\"type\":\"BasicTicker\"},{\"attributes\":{\"toolbars\":[{\"id\":\"3258\"},{\"id\":\"3305\"}],\"tools\":[{\"id\":\"3235\"},{\"id\":\"3252\"},{\"id\":\"3253\"},{\"id\":\"3254\"},{\"id\":\"3255\"},{\"id\":\"3256\"},{\"id\":\"3282\"},{\"id\":\"3299\"},{\"id\":\"3300\"},{\"id\":\"3301\"},{\"id\":\"3302\"},{\"id\":\"3303\"}]},\"id\":\"3350\",\"type\":\"ProxyToolbar\"},{\"attributes\":{},\"id\":\"3293\",\"type\":\"CategoricalTicker\"},{\"attributes\":{},\"id\":\"3254\",\"type\":\"WheelZoomTool\"},{\"attributes\":{\"axis_label\":\"\",\"coordinates\":null,\"formatter\":{\"id\":\"3325\"},\"group\":null,\"major_label_policy\":{\"id\":\"3326\"},\"ticker\":{\"id\":\"3296\"}},\"id\":\"3295\",\"type\":\"LinearAxis\"},{\"attributes\":{\"overlay\":{\"id\":\"3257\"}},\"id\":\"3255\",\"type\":\"BoxZoomTool\"},{\"attributes\":{\"axis\":{\"id\":\"3295\"},\"coordinates\":null,\"dimension\":1,\"grid_line_color\":null,\"group\":null,\"ticker\":null},\"id\":\"3298\",\"type\":\"Grid\"}],\"root_ids\":[\"3231\"]},\"title\":\"Bokeh Application\",\"version\":\"2.4.2\"}};\n",
       "    var render_items = [{\"docid\":\"75248d44-1c31-4610-a773-32e3414252f0\",\"root_ids\":[\"3231\"],\"roots\":{\"3231\":\"450e01a7-e9aa-4e1a-8d97-fb1342d84f35\"}}];\n",
       "    root.Bokeh.embed.embed_items_notebook(docs_json, render_items);\n",
       "  }\n",
       "  if (root.Bokeh !== undefined && root.Bokeh.Panel !== undefined) {\n",
       "    embed_document(root);\n",
       "  } else {\n",
       "    var attempts = 0;\n",
       "    var timer = setInterval(function(root) {\n",
       "      if (root.Bokeh !== undefined && root.Bokeh.Panel !== undefined) {\n",
       "        clearInterval(timer);\n",
       "        embed_document(root);\n",
       "      } else if (document.readyState == \"complete\") {\n",
       "        attempts++;\n",
       "        if (attempts > 200) {\n",
       "          clearInterval(timer);\n",
       "          console.log(\"Bokeh: ERROR: Unable to run BokehJS code because BokehJS library is missing\");\n",
       "        }\n",
       "      }\n",
       "    }, 25, root)\n",
       "  }\n",
       "})(window);</script>"
      ],
      "text/plain": [
       ":Layout\n",
       "   .Curve.A_2015_hyphen_minus_2016 :Curve   [State Code 1]   (2015 - 2016)\n",
       "   .Curve.A_2010_hyphen_minus_2014 :Curve   [State Code 2]   (2010 - 2014)"
      ]
     },
     "execution_count": 18,
     "metadata": {
      "application/vnd.holoviews_exec.v0+json": {
       "id": "3231"
      }
     },
     "output_type": "execute_result"
    }
   ],
   "source": [
    "# Compose plots\n",
    "loan_data_range_grp.hvplot(label='2015 - 2016') + loan_data_range_grp_2.hvplot(label='2010 - 2014')"
   ]
  },
  {
   "cell_type": "markdown",
   "metadata": {},
   "source": [
    "### Compose plots for state averages, 2015 - 2016, and 2010 2014 using `+` operator"
   ]
  },
  {
   "cell_type": "code",
   "execution_count": 19,
   "metadata": {},
   "outputs": [
    {
     "data": {},
     "metadata": {},
     "output_type": "display_data"
    },
    {
     "data": {
      "application/vnd.holoviews_exec.v0+json": "",
      "text/html": [
       "<div id='3635'>\n",
       "\n",
       "\n",
       "\n",
       "\n",
       "\n",
       "  <div class=\"bk-root\" id=\"74a6287f-2006-49b5-a05f-4f0087b266a3\" data-root-id=\"3635\"></div>\n",
       "</div>\n",
       "<script type=\"application/javascript\">(function(root) {\n",
       "  function embed_document(root) {\n",
       "    var docs_json = {\"b55fc43a-0da8-40ab-9999-a8a1d05a2e98\":{\"defs\":[{\"extends\":null,\"module\":null,\"name\":\"ReactiveHTML1\",\"overrides\":[],\"properties\":[]},{\"extends\":null,\"module\":null,\"name\":\"FlexBox1\",\"overrides\":[],\"properties\":[{\"default\":\"flex-start\",\"kind\":null,\"name\":\"align_content\"},{\"default\":\"flex-start\",\"kind\":null,\"name\":\"align_items\"},{\"default\":\"row\",\"kind\":null,\"name\":\"flex_direction\"},{\"default\":\"wrap\",\"kind\":null,\"name\":\"flex_wrap\"},{\"default\":\"flex-start\",\"kind\":null,\"name\":\"justify_content\"}]},{\"extends\":null,\"module\":null,\"name\":\"TemplateActions1\",\"overrides\":[],\"properties\":[{\"default\":0,\"kind\":null,\"name\":\"open_modal\"},{\"default\":0,\"kind\":null,\"name\":\"close_modal\"}]},{\"extends\":null,\"module\":null,\"name\":\"MaterialTemplateActions1\",\"overrides\":[],\"properties\":[{\"default\":0,\"kind\":null,\"name\":\"open_modal\"},{\"default\":0,\"kind\":null,\"name\":\"close_modal\"}]}],\"roots\":{\"references\":[{\"attributes\":{\"below\":[{\"id\":\"3743\"}],\"center\":[{\"id\":\"3745\"},{\"id\":\"3749\"}],\"height\":300,\"left\":[{\"id\":\"3746\"}],\"margin\":null,\"min_border_bottom\":10,\"min_border_left\":10,\"min_border_right\":10,\"min_border_top\":10,\"renderers\":[{\"id\":\"3769\"}],\"sizing_mode\":\"fixed\",\"title\":{\"id\":\"3735\"},\"toolbar\":{\"id\":\"3756\"},\"toolbar_location\":null,\"width\":700,\"x_range\":{\"id\":\"3731\"},\"x_scale\":{\"id\":\"3739\"},\"y_range\":{\"id\":\"3732\"},\"y_scale\":{\"id\":\"3741\"}},\"id\":\"3734\",\"subtype\":\"Figure\",\"type\":\"Plot\"},{\"attributes\":{\"tools\":[{\"id\":\"3733\"},{\"id\":\"3750\"},{\"id\":\"3751\"},{\"id\":\"3752\"},{\"id\":\"3753\"},{\"id\":\"3754\"}]},\"id\":\"3756\",\"type\":\"Toolbar\"},{\"attributes\":{\"tools\":[{\"id\":\"3686\"},{\"id\":\"3703\"},{\"id\":\"3704\"},{\"id\":\"3705\"},{\"id\":\"3706\"},{\"id\":\"3707\"}]},\"id\":\"3709\",\"type\":\"Toolbar\"},{\"attributes\":{\"bottom_units\":\"screen\",\"coordinates\":null,\"fill_alpha\":0.5,\"fill_color\":\"lightgrey\",\"group\":null,\"left_units\":\"screen\",\"level\":\"overlay\",\"line_alpha\":1.0,\"line_color\":\"black\",\"line_dash\":[4,4],\"line_width\":2,\"right_units\":\"screen\",\"syncable\":false,\"top_units\":\"screen\"},\"id\":\"3755\",\"type\":\"BoxAnnotation\"},{\"attributes\":{\"tools\":[{\"id\":\"3639\"},{\"id\":\"3656\"},{\"id\":\"3657\"},{\"id\":\"3658\"},{\"id\":\"3659\"},{\"id\":\"3660\"}]},\"id\":\"3662\",\"type\":\"Toolbar\"},{\"attributes\":{},\"id\":\"3750\",\"type\":\"SaveTool\"},{\"attributes\":{},\"id\":\"3751\",\"type\":\"PanTool\"},{\"attributes\":{},\"id\":\"3773\",\"type\":\"CategoricalTickFormatter\"},{\"attributes\":{\"bottom_units\":\"screen\",\"coordinates\":null,\"fill_alpha\":0.5,\"fill_color\":\"lightgrey\",\"group\":null,\"left_units\":\"screen\",\"level\":\"overlay\",\"line_alpha\":1.0,\"line_color\":\"black\",\"line_dash\":[4,4],\"line_width\":2,\"right_units\":\"screen\",\"syncable\":false,\"top_units\":\"screen\"},\"id\":\"3661\",\"type\":\"BoxAnnotation\"},{\"attributes\":{},\"id\":\"3754\",\"type\":\"ResetTool\"},{\"attributes\":{\"factors\":[\"MP\",\"PR\",\"VI\",\"SD\",\"ND\",\"VT\",\"MT\",\"WY\",\"DE\",\"AK\",\"GU\",\"ID\",\"NE\",\"WV\",\"ME\",\"NH\",\"NM\",\"MS\",\"AR\",\"IA\",\"KS\",\"RI\",\"HI\",\"NV\",\"OK\",\"AZ\",\"KY\",\"MO\",\"MN\",\"AL\",\"CT\",\"UT\",\"LA\",\"IL\",\"CO\",\"WI\",\"SC\",\"OR\",\"IN\",\"TN\",\"MD\",\"MA\",\"GA\",\"NY\",\"NJ\",\"MI\",\"VA\",\"WA\",\"NC\",\"OH\",\"PA\",\"FL\",\"TX\",\"CA\"],\"tags\":[[[\"State Code 1\",\"State Code 1\",null]]]},\"id\":\"3684\",\"type\":\"FactorRange\"},{\"attributes\":{},\"id\":\"3683\",\"type\":\"AllLabels\"},{\"attributes\":{},\"id\":\"3656\",\"type\":\"SaveTool\"},{\"attributes\":{},\"id\":\"3752\",\"type\":\"WheelZoomTool\"},{\"attributes\":{},\"id\":\"3657\",\"type\":\"PanTool\"},{\"attributes\":{\"fill_alpha\":{\"value\":0.1},\"fill_color\":{\"value\":\"#30a2da\"},\"hatch_alpha\":{\"value\":0.1},\"hatch_color\":{\"value\":\"#30a2da\"},\"line_alpha\":{\"value\":0.1},\"top\":{\"field\":\"Total_Average_Loan_Amount\"},\"width\":{\"value\":0.8},\"x\":{\"field\":\"State_Code_0\"}},\"id\":\"3673\",\"type\":\"VBar\"},{\"attributes\":{},\"id\":\"3660\",\"type\":\"ResetTool\"},{\"attributes\":{\"overlay\":{\"id\":\"3755\"}},\"id\":\"3753\",\"type\":\"BoxZoomTool\"},{\"attributes\":{},\"id\":\"3658\",\"type\":\"WheelZoomTool\"},{\"attributes\":{\"overlay\":{\"id\":\"3661\"}},\"id\":\"3659\",\"type\":\"BoxZoomTool\"},{\"attributes\":{\"line_color\":\"#30a2da\",\"line_width\":2,\"x\":{\"field\":\"State Code 1\"},\"y\":{\"field\":\"2015 - 2016\"}},\"id\":\"3724\",\"type\":\"Line\"},{\"attributes\":{},\"id\":\"3730\",\"type\":\"AllLabels\"},{\"attributes\":{},\"id\":\"3729\",\"type\":\"BasicTickFormatter\"},{\"attributes\":{},\"id\":\"3682\",\"type\":\"BasicTickFormatter\"},{\"attributes\":{\"below\":[{\"id\":\"3649\"}],\"center\":[{\"id\":\"3651\"},{\"id\":\"3655\"}],\"height\":300,\"left\":[{\"id\":\"3652\"}],\"margin\":null,\"min_border_bottom\":10,\"min_border_left\":10,\"min_border_right\":10,\"min_border_top\":10,\"renderers\":[{\"id\":\"3675\"}],\"sizing_mode\":\"fixed\",\"title\":{\"id\":\"3641\"},\"toolbar\":{\"id\":\"3662\"},\"toolbar_location\":null,\"width\":700,\"x_range\":{\"id\":\"3637\"},\"x_scale\":{\"id\":\"3645\"},\"y_range\":{\"id\":\"3638\"},\"y_scale\":{\"id\":\"3647\"}},\"id\":\"3640\",\"subtype\":\"Figure\",\"type\":\"Plot\"},{\"attributes\":{\"toolbar\":{\"id\":\"3812\"},\"toolbar_location\":\"above\"},\"id\":\"3813\",\"type\":\"ToolbarBox\"},{\"attributes\":{},\"id\":\"3670\",\"type\":\"Selection\"},{\"attributes\":{\"toolbars\":[{\"id\":\"3662\"},{\"id\":\"3709\"},{\"id\":\"3756\"}],\"tools\":[{\"id\":\"3639\"},{\"id\":\"3656\"},{\"id\":\"3657\"},{\"id\":\"3658\"},{\"id\":\"3659\"},{\"id\":\"3660\"},{\"id\":\"3686\"},{\"id\":\"3703\"},{\"id\":\"3704\"},{\"id\":\"3705\"},{\"id\":\"3706\"},{\"id\":\"3707\"},{\"id\":\"3733\"},{\"id\":\"3750\"},{\"id\":\"3751\"},{\"id\":\"3752\"},{\"id\":\"3753\"},{\"id\":\"3754\"}]},\"id\":\"3812\",\"type\":\"ProxyToolbar\"},{\"attributes\":{},\"id\":\"3717\",\"type\":\"Selection\"},{\"attributes\":{\"data\":{\"2010 - 2014\":{\"__ndarray__\":\"AAAAAEDF2kAAAAAAULzzQPYoXI+yuvlAAAAAACA8/EDXo3A9eh79QFK4HoUDQgBBAAAAAEhJAEEfhetRii8BQR+F61HK1gNB7FG4HpsKBUEAAAAA8M0HQexRuB6nnA5BexSuRytREEEAAAAA0JkQQRSuR+HbvxBBHoXrUQ+UEUEAAAAA4tMRQT4K16PIeRJB4XoUril1FUFmZmZmhZMVQSlcj8K/RxhBXI/C9SBjGEHiehSuMNkYQR+F61GBGxpBKVyPwqpwHEFcj8J1LjYhQfYoXA9pNSJBexSuRxFNIkHrUbiebfYiQRSuR+GuyyNBuB6FazdGJEFwPQrXCiclQVK4HoWcQCVBwvUoXDaVJUEAAACAShInQaRwPQrxaCdBZmZmZtumKEEAAAAAmD0pQR6F61Gd3ilB7FG4HsPlKUEpXI9C7tErQa5H4bqQkjFBZmZmZq+ZMUFxPQoXCE8yQWZmZiaJWDJBCtej8HJLNEE9CtfjgGY0QRSuR2FODzZBZmZmZoAGN0GPwvWoFhA3QRSuRyGWpD1BAAAAwKYZP0HXo3CdZvxFQYXrUThmdUhB\",\"dtype\":\"float64\",\"order\":\"little\",\"shape\":[54]},\"A_2010_hyphen_minus_2014\":{\"__ndarray__\":\"AAAAAEDF2kAAAAAAULzzQPYoXI+yuvlAAAAAACA8/EDXo3A9eh79QFK4HoUDQgBBAAAAAEhJAEEfhetRii8BQR+F61HK1gNB7FG4HpsKBUEAAAAA8M0HQexRuB6nnA5BexSuRytREEEAAAAA0JkQQRSuR+HbvxBBHoXrUQ+UEUEAAAAA4tMRQT4K16PIeRJB4XoUril1FUFmZmZmhZMVQSlcj8K/RxhBXI/C9SBjGEHiehSuMNkYQR+F61GBGxpBKVyPwqpwHEFcj8J1LjYhQfYoXA9pNSJBexSuRxFNIkHrUbiebfYiQRSuR+GuyyNBuB6FazdGJEFwPQrXCiclQVK4HoWcQCVBwvUoXDaVJUEAAACAShInQaRwPQrxaCdBZmZmZtumKEEAAAAAmD0pQR6F61Gd3ilB7FG4HsPlKUEpXI9C7tErQa5H4bqQkjFBZmZmZq+ZMUFxPQoXCE8yQWZmZiaJWDJBCtej8HJLNEE9CtfjgGY0QRSuR2FODzZBZmZmZoAGN0GPwvWoFhA3QRSuRyGWpD1BAAAAwKYZP0HXo3CdZvxFQYXrUThmdUhB\",\"dtype\":\"float64\",\"order\":\"little\",\"shape\":[54]},\"State Code 2\":[\"MP\",\"PR\",\"SD\",\"VI\",\"ND\",\"VT\",\"WY\",\"MT\",\"DE\",\"AK\",\"GU\",\"ID\",\"NE\",\"WV\",\"ME\",\"NH\",\"MS\",\"NM\",\"AR\",\"IA\",\"NV\",\"RI\",\"KS\",\"HI\",\"OK\",\"MO\",\"KY\",\"AZ\",\"MN\",\"AL\",\"UT\",\"LA\",\"CT\",\"CO\",\"SC\",\"OR\",\"IN\",\"WI\",\"MD\",\"IL\",\"TN\",\"GA\",\"MI\",\"VA\",\"NY\",\"NJ\",\"MA\",\"OH\",\"NC\",\"WA\",\"FL\",\"PA\",\"CA\",\"TX\"],\"State_Code_2\":[\"MP\",\"PR\",\"SD\",\"VI\",\"ND\",\"VT\",\"WY\",\"MT\",\"DE\",\"AK\",\"GU\",\"ID\",\"NE\",\"WV\",\"ME\",\"NH\",\"MS\",\"NM\",\"AR\",\"IA\",\"NV\",\"RI\",\"KS\",\"HI\",\"OK\",\"MO\",\"KY\",\"AZ\",\"MN\",\"AL\",\"UT\",\"LA\",\"CT\",\"CO\",\"SC\",\"OR\",\"IN\",\"WI\",\"MD\",\"IL\",\"TN\",\"GA\",\"MI\",\"VA\",\"NY\",\"NJ\",\"MA\",\"OH\",\"NC\",\"WA\",\"FL\",\"PA\",\"CA\",\"TX\"]},\"selected\":{\"id\":\"3764\"},\"selection_policy\":{\"id\":\"3807\"}},\"id\":\"3763\",\"type\":\"ColumnDataSource\"},{\"attributes\":{},\"id\":\"3680\",\"type\":\"AllLabels\"},{\"attributes\":{\"children\":[{\"id\":\"3813\"},{\"id\":\"3811\"}]},\"id\":\"3814\",\"type\":\"Column\"},{\"attributes\":{\"coordinates\":null,\"data_source\":{\"id\":\"3716\"},\"glyph\":{\"id\":\"3719\"},\"group\":null,\"hover_glyph\":null,\"muted_glyph\":{\"id\":\"3721\"},\"nonselection_glyph\":{\"id\":\"3720\"},\"selection_glyph\":{\"id\":\"3724\"},\"view\":{\"id\":\"3723\"}},\"id\":\"3722\",\"type\":\"GlyphRenderer\"},{\"attributes\":{\"source\":{\"id\":\"3716\"}},\"id\":\"3723\",\"type\":\"CDSView\"},{\"attributes\":{\"line_alpha\":0.2,\"line_color\":\"#30a2da\",\"line_width\":2,\"x\":{\"field\":\"State Code 1\"},\"y\":{\"field\":\"2015 - 2016\"}},\"id\":\"3721\",\"type\":\"Line\"},{\"attributes\":{},\"id\":\"3692\",\"type\":\"CategoricalScale\"},{\"attributes\":{\"line_color\":\"#30a2da\",\"line_width\":2,\"x\":{\"field\":\"State Code 2\"},\"y\":{\"field\":\"2010 - 2014\"}},\"id\":\"3771\",\"type\":\"Line\"},{\"attributes\":{},\"id\":\"3807\",\"type\":\"UnionRenderers\"},{\"attributes\":{},\"id\":\"3727\",\"type\":\"AllLabels\"},{\"attributes\":{},\"id\":\"3776\",\"type\":\"BasicTickFormatter\"},{\"attributes\":{},\"id\":\"3777\",\"type\":\"AllLabels\"},{\"attributes\":{\"coordinates\":null,\"group\":null,\"text\":\"2015 - 2016\",\"text_color\":\"black\",\"text_font_size\":\"12pt\"},\"id\":\"3688\",\"type\":\"Title\"},{\"attributes\":{\"axis\":{\"id\":\"3696\"},\"coordinates\":null,\"grid_line_color\":null,\"group\":null,\"ticker\":null},\"id\":\"3698\",\"type\":\"Grid\"},{\"attributes\":{},\"id\":\"3764\",\"type\":\"Selection\"},{\"attributes\":{\"axis_label\":\"State Code 1\",\"coordinates\":null,\"formatter\":{\"id\":\"3726\"},\"group\":null,\"major_label_policy\":{\"id\":\"3727\"},\"ticker\":{\"id\":\"3697\"}},\"id\":\"3696\",\"type\":\"CategoricalAxis\"},{\"attributes\":{\"factors\":[\"MP\",\"PR\",\"ND\",\"SD\",\"VI\",\"WY\",\"VT\",\"MT\",\"DE\",\"AK\",\"GU\",\"MS\",\"WV\",\"ID\",\"ME\",\"NM\",\"NE\",\"NH\",\"AR\",\"IA\",\"KS\",\"HI\",\"RI\",\"OK\",\"NV\",\"AL\",\"LA\",\"KY\",\"SC\",\"CT\",\"MO\",\"CO\",\"AZ\",\"UT\",\"OR\",\"TN\",\"IN\",\"WI\",\"MD\",\"MN\",\"VA\",\"IL\",\"NY\",\"GA\",\"MA\",\"MI\",\"NC\",\"NJ\",\"WA\",\"OH\",\"FL\",\"PA\",\"TX\",\"CA\"],\"tags\":[[[\"State Code 0\",\"State Code 0\",null]]]},\"id\":\"3637\",\"type\":\"FactorRange\"},{\"attributes\":{\"line_color\":\"#30a2da\",\"line_width\":2,\"x\":{\"field\":\"State Code 1\"},\"y\":{\"field\":\"2015 - 2016\"}},\"id\":\"3719\",\"type\":\"Line\"},{\"attributes\":{},\"id\":\"3785\",\"type\":\"UnionRenderers\"},{\"attributes\":{},\"id\":\"3679\",\"type\":\"CategoricalTickFormatter\"},{\"attributes\":{\"data\":{\"2015 - 2016\":{\"__ndarray__\":\"AAAAAAAAAAAAAAAAUPD0QAAAAABgcftAw/UoXPMY/EDhehSuE2L+QFyPwvVOhgBBCtejcB8CAkEAAAAACB8EQdejcD3MJARBuB6F63skB0EAAAAASBwLQXA9Cteh7A9BwvUoXBn8D0EAAAAANF8QQSlcj8IRhhBBAAAAAGQhEUE9CtejIWwTQXsUrkePoRNBzczMzNaxFUEK16NwlBsWQdejcD2v0hlBwvUoXGyYGkEUrkfhyLwbQeJ6FK5ztR5BmpmZmejvHkE+CtejM/oeQfYoXA+1hSJBuB6Fa8CYIkGPwvWor6skQUjhepTl7yRBexSux6iuJUHsUbieBhMmQYXrUThBLiZBSOF6FJwtJ0GF61E4vrwnQQAAAACoOihBPgrXoy6qKEE9CtcjGfooQTMzMzMDyCpBmpmZGXbBLkFwPQpXcMwuQY/C9ahaVS9BMzMzM0B2L0GkcD2KaAUyQcL1KBwDeDJB9ihcD2bZMkGF61E4USY0Qc3MzMz7STdBXI/C9eiLOEGkcD1KxHU5QQAAAMDJvTxBZmZmhqCgQEFmZmamd19GQTMzMzOx9EZB\",\"dtype\":\"float64\",\"order\":\"little\",\"shape\":[54]},\"A_2015_hyphen_minus_2016\":{\"__ndarray__\":\"AAAAAAAAAAAAAAAAUPD0QAAAAABgcftAw/UoXPMY/EDhehSuE2L+QFyPwvVOhgBBCtejcB8CAkEAAAAACB8EQdejcD3MJARBuB6F63skB0EAAAAASBwLQXA9Cteh7A9BwvUoXBn8D0EAAAAANF8QQSlcj8IRhhBBAAAAAGQhEUE9CtejIWwTQXsUrkePoRNBzczMzNaxFUEK16NwlBsWQdejcD2v0hlBwvUoXGyYGkEUrkfhyLwbQeJ6FK5ztR5BmpmZmejvHkE+CtejM/oeQfYoXA+1hSJBuB6Fa8CYIkGPwvWor6skQUjhepTl7yRBexSux6iuJUHsUbieBhMmQYXrUThBLiZBSOF6FJwtJ0GF61E4vrwnQQAAAACoOihBPgrXoy6qKEE9CtcjGfooQTMzMzMDyCpBmpmZGXbBLkFwPQpXcMwuQY/C9ahaVS9BMzMzM0B2L0GkcD2KaAUyQcL1KBwDeDJB9ihcD2bZMkGF61E4USY0Qc3MzMz7STdBXI/C9eiLOEGkcD1KxHU5QQAAAMDJvTxBZmZmhqCgQEFmZmamd19GQTMzMzOx9EZB\",\"dtype\":\"float64\",\"order\":\"little\",\"shape\":[54]},\"State Code 1\":[\"MP\",\"PR\",\"VI\",\"SD\",\"ND\",\"VT\",\"MT\",\"WY\",\"DE\",\"AK\",\"GU\",\"ID\",\"NE\",\"WV\",\"ME\",\"NH\",\"NM\",\"MS\",\"AR\",\"IA\",\"KS\",\"RI\",\"HI\",\"NV\",\"OK\",\"AZ\",\"KY\",\"MO\",\"MN\",\"AL\",\"CT\",\"UT\",\"LA\",\"IL\",\"CO\",\"WI\",\"SC\",\"OR\",\"IN\",\"TN\",\"MD\",\"MA\",\"GA\",\"NY\",\"NJ\",\"MI\",\"VA\",\"WA\",\"NC\",\"OH\",\"PA\",\"FL\",\"TX\",\"CA\"],\"State_Code_1\":[\"MP\",\"PR\",\"VI\",\"SD\",\"ND\",\"VT\",\"MT\",\"WY\",\"DE\",\"AK\",\"GU\",\"ID\",\"NE\",\"WV\",\"ME\",\"NH\",\"NM\",\"MS\",\"AR\",\"IA\",\"KS\",\"RI\",\"HI\",\"NV\",\"OK\",\"AZ\",\"KY\",\"MO\",\"MN\",\"AL\",\"CT\",\"UT\",\"LA\",\"IL\",\"CO\",\"WI\",\"SC\",\"OR\",\"IN\",\"TN\",\"MD\",\"MA\",\"GA\",\"NY\",\"NJ\",\"MI\",\"VA\",\"WA\",\"NC\",\"OH\",\"PA\",\"FL\",\"TX\",\"CA\"]},\"selected\":{\"id\":\"3717\"},\"selection_policy\":{\"id\":\"3796\"}},\"id\":\"3716\",\"type\":\"ColumnDataSource\"},{\"attributes\":{\"below\":[{\"id\":\"3696\"}],\"center\":[{\"id\":\"3698\"},{\"id\":\"3702\"}],\"height\":300,\"left\":[{\"id\":\"3699\"}],\"margin\":null,\"min_border_bottom\":10,\"min_border_left\":10,\"min_border_right\":10,\"min_border_top\":10,\"renderers\":[{\"id\":\"3722\"}],\"sizing_mode\":\"fixed\",\"title\":{\"id\":\"3688\"},\"toolbar\":{\"id\":\"3709\"},\"toolbar_location\":null,\"width\":700,\"x_range\":{\"id\":\"3684\"},\"x_scale\":{\"id\":\"3692\"},\"y_range\":{\"id\":\"3685\"},\"y_scale\":{\"id\":\"3694\"}},\"id\":\"3687\",\"subtype\":\"Figure\",\"type\":\"Plot\"},{\"attributes\":{},\"id\":\"3694\",\"type\":\"LinearScale\"},{\"attributes\":{\"line_alpha\":0.2,\"line_color\":\"#30a2da\",\"line_width\":2,\"x\":{\"field\":\"State Code 2\"},\"y\":{\"field\":\"2010 - 2014\"}},\"id\":\"3768\",\"type\":\"Line\"},{\"attributes\":{},\"id\":\"3645\",\"type\":\"CategoricalScale\"},{\"attributes\":{},\"id\":\"3739\",\"type\":\"CategoricalScale\"},{\"attributes\":{},\"id\":\"3700\",\"type\":\"BasicTicker\"},{\"attributes\":{\"callback\":null,\"renderers\":[{\"id\":\"3722\"}],\"tags\":[\"hv_created\"],\"tooltips\":[[\"State Code 1\",\"@{State_Code_1}\"],[\"2015 - 2016\",\"@{A_2015_hyphen_minus_2016}\"]]},\"id\":\"3686\",\"type\":\"HoverTool\"},{\"attributes\":{},\"id\":\"3697\",\"type\":\"CategoricalTicker\"},{\"attributes\":{},\"id\":\"3774\",\"type\":\"AllLabels\"},{\"attributes\":{\"fill_alpha\":{\"value\":0.2},\"fill_color\":{\"value\":\"#30a2da\"},\"hatch_alpha\":{\"value\":0.2},\"hatch_color\":{\"value\":\"#30a2da\"},\"line_alpha\":{\"value\":0.2},\"top\":{\"field\":\"Total_Average_Loan_Amount\"},\"width\":{\"value\":0.8},\"x\":{\"field\":\"State_Code_0\"}},\"id\":\"3674\",\"type\":\"VBar\"},{\"attributes\":{\"axis_label\":\"\",\"coordinates\":null,\"formatter\":{\"id\":\"3729\"},\"group\":null,\"major_label_policy\":{\"id\":\"3730\"},\"ticker\":{\"id\":\"3700\"}},\"id\":\"3699\",\"type\":\"LinearAxis\"},{\"attributes\":{\"margin\":[5,5,5,5],\"name\":\"HSpacer05274\",\"sizing_mode\":\"stretch_width\"},\"id\":\"3636\",\"type\":\"Spacer\"},{\"attributes\":{\"axis\":{\"id\":\"3699\"},\"coordinates\":null,\"dimension\":1,\"grid_line_color\":null,\"group\":null,\"ticker\":null},\"id\":\"3702\",\"type\":\"Grid\"},{\"attributes\":{\"coordinates\":null,\"group\":null,\"text\":\"2010 - 2014\",\"text_color\":\"black\",\"text_font_size\":\"12pt\"},\"id\":\"3735\",\"type\":\"Title\"},{\"attributes\":{\"margin\":[5,5,5,5],\"name\":\"HSpacer05275\",\"sizing_mode\":\"stretch_width\"},\"id\":\"4085\",\"type\":\"Spacer\"},{\"attributes\":{\"axis\":{\"id\":\"3743\"},\"coordinates\":null,\"grid_line_color\":null,\"group\":null,\"ticker\":null},\"id\":\"3745\",\"type\":\"Grid\"},{\"attributes\":{\"axis_label\":\"State Code 2\",\"coordinates\":null,\"formatter\":{\"id\":\"3773\"},\"group\":null,\"major_label_policy\":{\"id\":\"3774\"},\"ticker\":{\"id\":\"3744\"}},\"id\":\"3743\",\"type\":\"CategoricalAxis\"},{\"attributes\":{\"coordinates\":null,\"group\":null,\"text\":\"2019 Total Average Amount\",\"text_color\":\"black\",\"text_font_size\":\"12pt\"},\"id\":\"3641\",\"type\":\"Title\"},{\"attributes\":{\"line_alpha\":0.1,\"line_color\":\"#30a2da\",\"line_width\":2,\"x\":{\"field\":\"State Code 2\"},\"y\":{\"field\":\"2010 - 2014\"}},\"id\":\"3767\",\"type\":\"Line\"},{\"attributes\":{\"coordinates\":null,\"data_source\":{\"id\":\"3763\"},\"glyph\":{\"id\":\"3766\"},\"group\":null,\"hover_glyph\":null,\"muted_glyph\":{\"id\":\"3768\"},\"nonselection_glyph\":{\"id\":\"3767\"},\"selection_glyph\":{\"id\":\"3771\"},\"view\":{\"id\":\"3770\"}},\"id\":\"3769\",\"type\":\"GlyphRenderer\"},{\"attributes\":{\"axis\":{\"id\":\"3649\"},\"coordinates\":null,\"grid_line_color\":null,\"group\":null,\"ticker\":null},\"id\":\"3651\",\"type\":\"Grid\"},{\"attributes\":{\"data\":{\"State_Code_0\":[\"MP\",\"PR\",\"ND\",\"SD\",\"VI\",\"WY\",\"VT\",\"MT\",\"DE\",\"AK\",\"GU\",\"MS\",\"WV\",\"ID\",\"ME\",\"NM\",\"NE\",\"NH\",\"AR\",\"IA\",\"KS\",\"HI\",\"RI\",\"OK\",\"NV\",\"AL\",\"LA\",\"KY\",\"SC\",\"CT\",\"MO\",\"CO\",\"AZ\",\"UT\",\"OR\",\"TN\",\"IN\",\"WI\",\"MD\",\"MN\",\"VA\",\"IL\",\"NY\",\"GA\",\"MA\",\"MI\",\"NC\",\"NJ\",\"WA\",\"OH\",\"FL\",\"PA\",\"TX\",\"CA\"],\"Total_Average_Loan_Amount\":{\"__ndarray__\":\"AAAAAAAd5UAAAAAAwFTsQB+F61Hs6PJArkfhelhS9UAAAAAAUEz3QAAAAAAwJPlA7FG4HmFD+UA9CtejDLn5QFK4HoX7dABB7FG4HlsqAkEAAAAAaEMGQa5H4Xr2bQdBAAAAAAi+CEGamZmZNUkJQRSuR+FaWAlBw/UoXLdjC0HC9Shc8eQLQcL1KFw/PQ5BSOF6FLEQEEEfhetRDdwSQRSuR+E0thNBrkfhem+WFEGQwvUoPlcVQWZmZmby+RVB7FG4HoasF0HsUbgeuo0aQeF6FK5i2BxBexSuR6tbHUEzMzMzaUggQR+F61HQZiBBmpmZGceBIUH2KFwP7PkhQRSuR+GvPCJBj8L1KOZQIkG4HoVrQdYiQfYoXI9MiSRBw/UoXOn3JEEAAAAAUF8lQSlcj0JNKyhBw/Uo3BUSKUFI4XqUXjQpQVK4HgX9tylB4XoULhp5MEHD9SjcrLUwQSlcj8J1EzFBXI/CtTRDMUGamZnZk9ExQRSuR6EWtzJBj8L1KE+jM0GkcD3K+6E1QfYoXE887TdBXI/CdS94OUFSuB5FM4xDQc3MzOzKZ0VB\",\"dtype\":\"float64\",\"order\":\"little\",\"shape\":[54]}},\"selected\":{\"id\":\"3670\"},\"selection_policy\":{\"id\":\"3785\"}},\"id\":\"3669\",\"type\":\"ColumnDataSource\"},{\"attributes\":{\"axis_label\":\"State Code 0\",\"coordinates\":null,\"formatter\":{\"id\":\"3679\"},\"group\":null,\"major_label_orientation\":1.5707963267948966,\"major_label_policy\":{\"id\":\"3680\"},\"ticker\":{\"id\":\"3650\"}},\"id\":\"3649\",\"type\":\"CategoricalAxis\"},{\"attributes\":{\"coordinates\":null,\"data_source\":{\"id\":\"3669\"},\"glyph\":{\"id\":\"3672\"},\"group\":null,\"hover_glyph\":null,\"muted_glyph\":{\"id\":\"3674\"},\"nonselection_glyph\":{\"id\":\"3673\"},\"selection_glyph\":{\"id\":\"3677\"},\"view\":{\"id\":\"3676\"}},\"id\":\"3675\",\"type\":\"GlyphRenderer\"},{\"attributes\":{\"callback\":null,\"renderers\":[{\"id\":\"3769\"}],\"tags\":[\"hv_created\"],\"tooltips\":[[\"State Code 2\",\"@{State_Code_2}\"],[\"2010 - 2014\",\"@{A_2010_hyphen_minus_2014}\"]]},\"id\":\"3733\",\"type\":\"HoverTool\"},{\"attributes\":{},\"id\":\"3741\",\"type\":\"LinearScale\"},{\"attributes\":{\"source\":{\"id\":\"3669\"}},\"id\":\"3676\",\"type\":\"CDSView\"},{\"attributes\":{},\"id\":\"3747\",\"type\":\"BasicTicker\"},{\"attributes\":{\"end\":3523678.784,\"reset_end\":3523678.784,\"reset_start\":-290429.34400000004,\"start\":-290429.34400000004,\"tags\":[[[\"2010 - 2014\",\"2010 - 2014\",null]]]},\"id\":\"3732\",\"type\":\"Range1d\"},{\"attributes\":{},\"id\":\"3744\",\"type\":\"CategoricalTicker\"},{\"attributes\":{},\"id\":\"3647\",\"type\":\"LinearScale\"},{\"attributes\":{\"callback\":null,\"renderers\":[{\"id\":\"3675\"}],\"tags\":[\"hv_created\"],\"tooltips\":[[\"State Code 0\",\"@{State_Code_0}\"],[\"Total Average Loan Amount\",\"@{Total_Average_Loan_Amount}\"]]},\"id\":\"3639\",\"type\":\"HoverTool\"},{\"attributes\":{\"bottom_units\":\"screen\",\"coordinates\":null,\"fill_alpha\":0.5,\"fill_color\":\"lightgrey\",\"group\":null,\"left_units\":\"screen\",\"level\":\"overlay\",\"line_alpha\":1.0,\"line_color\":\"black\",\"line_dash\":[4,4],\"line_width\":2,\"right_units\":\"screen\",\"syncable\":false,\"top_units\":\"screen\"},\"id\":\"3708\",\"type\":\"BoxAnnotation\"},{\"attributes\":{},\"id\":\"3653\",\"type\":\"BasicTicker\"},{\"attributes\":{\"axis_label\":\"\",\"coordinates\":null,\"formatter\":{\"id\":\"3776\"},\"group\":null,\"major_label_policy\":{\"id\":\"3777\"},\"ticker\":{\"id\":\"3747\"}},\"id\":\"3746\",\"type\":\"LinearAxis\"},{\"attributes\":{\"fill_color\":{\"value\":\"#30a2da\"},\"hatch_color\":{\"value\":\"#30a2da\"},\"top\":{\"field\":\"Total_Average_Loan_Amount\"},\"width\":{\"value\":0.8},\"x\":{\"field\":\"State_Code_0\"}},\"id\":\"3672\",\"type\":\"VBar\"},{\"attributes\":{},\"id\":\"3650\",\"type\":\"CategoricalTicker\"},{\"attributes\":{},\"id\":\"3703\",\"type\":\"SaveTool\"},{\"attributes\":{},\"id\":\"3704\",\"type\":\"PanTool\"},{\"attributes\":{\"axis\":{\"id\":\"3746\"},\"coordinates\":null,\"dimension\":1,\"grid_line_color\":null,\"group\":null,\"ticker\":null},\"id\":\"3749\",\"type\":\"Grid\"},{\"attributes\":{\"bottom\":{\"value\":0},\"fill_alpha\":{\"value\":1.0},\"fill_color\":{\"value\":\"#30a2da\"},\"hatch_alpha\":{\"value\":1.0},\"hatch_color\":{\"value\":\"#30a2da\"},\"hatch_scale\":{\"value\":12.0},\"hatch_weight\":{\"value\":1.0},\"line_alpha\":{\"value\":1.0},\"line_cap\":{\"value\":\"butt\"},\"line_color\":{\"value\":\"black\"},\"line_dash\":{\"value\":[]},\"line_dash_offset\":{\"value\":0},\"line_join\":{\"value\":\"bevel\"},\"line_width\":{\"value\":1},\"top\":{\"field\":\"Total_Average_Loan_Amount\"},\"width\":{\"value\":0.8},\"x\":{\"field\":\"State_Code_0\"}},\"id\":\"3677\",\"type\":\"VBar\"},{\"attributes\":{\"axis_label\":\"\",\"coordinates\":null,\"formatter\":{\"id\":\"3682\"},\"group\":null,\"major_label_policy\":{\"id\":\"3683\"},\"ticker\":{\"id\":\"3653\"}},\"id\":\"3652\",\"type\":\"LinearAxis\"},{\"attributes\":{\"line_color\":\"#30a2da\",\"line_width\":2,\"x\":{\"field\":\"State Code 2\"},\"y\":{\"field\":\"2010 - 2014\"}},\"id\":\"3766\",\"type\":\"Line\"},{\"attributes\":{},\"id\":\"3705\",\"type\":\"WheelZoomTool\"},{\"attributes\":{\"axis\":{\"id\":\"3652\"},\"coordinates\":null,\"dimension\":1,\"grid_line_color\":null,\"group\":null,\"ticker\":null},\"id\":\"3655\",\"type\":\"Grid\"},{\"attributes\":{\"end\":3081895.2350000003,\"reset_end\":3081895.2350000003,\"reset_start\":0.0,\"tags\":[[[\"Total Average Loan Amount\",\"Total Average Loan Amount\",null]]]},\"id\":\"3638\",\"type\":\"Range1d\"},{\"attributes\":{},\"id\":\"3726\",\"type\":\"CategoricalTickFormatter\"},{\"attributes\":{\"overlay\":{\"id\":\"3708\"}},\"id\":\"3706\",\"type\":\"BoxZoomTool\"},{\"attributes\":{\"end\":3309753.04,\"reset_end\":3309753.04,\"reset_start\":-300886.64,\"start\":-300886.64,\"tags\":[[[\"2015 - 2016\",\"2015 - 2016\",null]]]},\"id\":\"3685\",\"type\":\"Range1d\"},{\"attributes\":{},\"id\":\"3796\",\"type\":\"UnionRenderers\"},{\"attributes\":{\"children\":[[{\"id\":\"3640\"},0,0],[{\"id\":\"3687\"},0,1],[{\"id\":\"3734\"},0,2]]},\"id\":\"3811\",\"type\":\"GridBox\"},{\"attributes\":{},\"id\":\"3707\",\"type\":\"ResetTool\"},{\"attributes\":{\"factors\":[\"MP\",\"PR\",\"SD\",\"VI\",\"ND\",\"VT\",\"WY\",\"MT\",\"DE\",\"AK\",\"GU\",\"ID\",\"NE\",\"WV\",\"ME\",\"NH\",\"MS\",\"NM\",\"AR\",\"IA\",\"NV\",\"RI\",\"KS\",\"HI\",\"OK\",\"MO\",\"KY\",\"AZ\",\"MN\",\"AL\",\"UT\",\"LA\",\"CT\",\"CO\",\"SC\",\"OR\",\"IN\",\"WI\",\"MD\",\"IL\",\"TN\",\"GA\",\"MI\",\"VA\",\"NY\",\"NJ\",\"MA\",\"OH\",\"NC\",\"WA\",\"FL\",\"PA\",\"CA\",\"TX\"],\"tags\":[[[\"State Code 2\",\"State Code 2\",null]]]},\"id\":\"3731\",\"type\":\"FactorRange\"},{\"attributes\":{\"source\":{\"id\":\"3763\"}},\"id\":\"3770\",\"type\":\"CDSView\"},{\"attributes\":{\"children\":[{\"id\":\"3636\"},{\"id\":\"3814\"},{\"id\":\"4085\"}],\"margin\":[0,0,0,0],\"name\":\"Row05270\",\"tags\":[\"embedded\"]},\"id\":\"3635\",\"type\":\"Row\"},{\"attributes\":{\"line_alpha\":0.1,\"line_color\":\"#30a2da\",\"line_width\":2,\"x\":{\"field\":\"State Code 1\"},\"y\":{\"field\":\"2015 - 2016\"}},\"id\":\"3720\",\"type\":\"Line\"}],\"root_ids\":[\"3635\"]},\"title\":\"Bokeh Application\",\"version\":\"2.4.2\"}};\n",
       "    var render_items = [{\"docid\":\"b55fc43a-0da8-40ab-9999-a8a1d05a2e98\",\"root_ids\":[\"3635\"],\"roots\":{\"3635\":\"74a6287f-2006-49b5-a05f-4f0087b266a3\"}}];\n",
       "    root.Bokeh.embed.embed_items_notebook(docs_json, render_items);\n",
       "  }\n",
       "  if (root.Bokeh !== undefined && root.Bokeh.Panel !== undefined) {\n",
       "    embed_document(root);\n",
       "  } else {\n",
       "    var attempts = 0;\n",
       "    var timer = setInterval(function(root) {\n",
       "      if (root.Bokeh !== undefined && root.Bokeh.Panel !== undefined) {\n",
       "        clearInterval(timer);\n",
       "        embed_document(root);\n",
       "      } else if (document.readyState == \"complete\") {\n",
       "        attempts++;\n",
       "        if (attempts > 200) {\n",
       "          clearInterval(timer);\n",
       "          console.log(\"Bokeh: ERROR: Unable to run BokehJS code because BokehJS library is missing\");\n",
       "        }\n",
       "      }\n",
       "    }, 25, root)\n",
       "  }\n",
       "})(window);</script>"
      ],
      "text/plain": [
       ":Layout\n",
       "   .Bars.A_2019_Total_Average_Amount :Bars   [State Code 0]   (Total Average Loan Amount)\n",
       "   .Curve.A_2015_hyphen_minus_2016   :Curve   [State Code 1]   (2015 - 2016)\n",
       "   .Curve.A_2010_hyphen_minus_2014   :Curve   [State Code 2]   (2010 - 2014)"
      ]
     },
     "execution_count": 19,
     "metadata": {
      "application/vnd.holoviews_exec.v0+json": {
       "id": "3635"
      }
     },
     "output_type": "execute_result"
    }
   ],
   "source": [
    "# Compose plots\n",
    "loan_data_avg_grp.hvplot.bar(label='2019 Total Average Amount',rot=90) + loan_data_range_grp.hvplot(label='2015 - 2016') + loan_data_range_grp_2.hvplot(label='2010 - 2014')"
   ]
  },
  {
   "cell_type": "markdown",
   "metadata": {},
   "source": [
    "### Compose plots for state averages, 2015 - 2016, and 2010 2014 using `*` operator\n",
    "\n",
    "Notice that we are using the original sorting of each column for this graph (which was alphabetical)"
   ]
  },
  {
   "cell_type": "code",
   "execution_count": 20,
   "metadata": {},
   "outputs": [
    {
     "data": {},
     "metadata": {},
     "output_type": "display_data"
    },
    {
     "data": {
      "application/vnd.holoviews_exec.v0+json": "",
      "text/html": [
       "<div id='4237'>\n",
       "\n",
       "\n",
       "\n",
       "\n",
       "\n",
       "  <div class=\"bk-root\" id=\"3befa5b7-b61d-47c0-bcf6-cefc79cf59d4\" data-root-id=\"4237\"></div>\n",
       "</div>\n",
       "<script type=\"application/javascript\">(function(root) {\n",
       "  function embed_document(root) {\n",
       "    var docs_json = {\"9c4b1293-c371-4020-bfa7-f618d90d243a\":{\"defs\":[{\"extends\":null,\"module\":null,\"name\":\"ReactiveHTML1\",\"overrides\":[],\"properties\":[]},{\"extends\":null,\"module\":null,\"name\":\"FlexBox1\",\"overrides\":[],\"properties\":[{\"default\":\"flex-start\",\"kind\":null,\"name\":\"align_content\"},{\"default\":\"flex-start\",\"kind\":null,\"name\":\"align_items\"},{\"default\":\"row\",\"kind\":null,\"name\":\"flex_direction\"},{\"default\":\"wrap\",\"kind\":null,\"name\":\"flex_wrap\"},{\"default\":\"flex-start\",\"kind\":null,\"name\":\"justify_content\"}]},{\"extends\":null,\"module\":null,\"name\":\"TemplateActions1\",\"overrides\":[],\"properties\":[{\"default\":0,\"kind\":null,\"name\":\"open_modal\"},{\"default\":0,\"kind\":null,\"name\":\"close_modal\"}]},{\"extends\":null,\"module\":null,\"name\":\"MaterialTemplateActions1\",\"overrides\":[],\"properties\":[{\"default\":0,\"kind\":null,\"name\":\"open_modal\"},{\"default\":0,\"kind\":null,\"name\":\"close_modal\"}]}],\"roots\":{\"references\":[{\"attributes\":{\"label\":{\"value\":\"2015 - 2016\"},\"renderers\":[{\"id\":\"4308\"}]},\"id\":\"4322\",\"type\":\"LegendItem\"},{\"attributes\":{\"axis\":{\"id\":\"4253\"},\"coordinates\":null,\"grid_line_color\":null,\"group\":null,\"ticker\":null},\"id\":\"4255\",\"type\":\"Grid\"},{\"attributes\":{\"source\":{\"id\":\"4324\"}},\"id\":\"4331\",\"type\":\"CDSView\"},{\"attributes\":{\"callback\":null,\"renderers\":[{\"id\":\"4287\"}],\"tags\":[\"hv_created\"],\"tooltips\":[[\"State Code\",\"@{State_Code}\"],[\"Total Average Loan Amount\",\"@{Total_Average_Loan_Amount}\"]]},\"id\":\"4241\",\"type\":\"HoverTool\"},{\"attributes\":{},\"id\":\"4249\",\"type\":\"CategoricalScale\"},{\"attributes\":{\"line_color\":\"#30a2da\",\"line_width\":2,\"x\":{\"field\":\"State Code\"},\"y\":{\"field\":\"2015 - 2016\"}},\"id\":\"4305\",\"type\":\"Line\"},{\"attributes\":{\"line_color\":\"#fc4f30\",\"line_width\":2,\"x\":{\"field\":\"State Code\"},\"y\":{\"field\":\"2010 - 2014\"}},\"id\":\"4347\",\"type\":\"Line\"},{\"attributes\":{\"overlay\":{\"id\":\"4265\"}},\"id\":\"4263\",\"type\":\"BoxZoomTool\"},{\"attributes\":{},\"id\":\"4264\",\"type\":\"ResetTool\"},{\"attributes\":{},\"id\":\"4276\",\"type\":\"CategoricalTickFormatter\"},{\"attributes\":{\"coordinates\":null,\"group\":null,\"text_color\":\"black\",\"text_font_size\":\"12pt\"},\"id\":\"4245\",\"type\":\"Title\"},{\"attributes\":{\"below\":[{\"id\":\"4253\"}],\"center\":[{\"id\":\"4255\"},{\"id\":\"4259\"}],\"height\":300,\"left\":[{\"id\":\"4256\"}],\"margin\":[5,5,5,5],\"min_border_bottom\":10,\"min_border_left\":10,\"min_border_right\":10,\"min_border_top\":10,\"renderers\":[{\"id\":\"4287\"},{\"id\":\"4308\"},{\"id\":\"4330\"}],\"right\":[{\"id\":\"4299\"}],\"sizing_mode\":\"fixed\",\"title\":{\"id\":\"4245\"},\"toolbar\":{\"id\":\"4266\"},\"width\":700,\"x_range\":{\"id\":\"4239\"},\"x_scale\":{\"id\":\"4249\"},\"y_range\":{\"id\":\"4240\"},\"y_scale\":{\"id\":\"4251\"}},\"id\":\"4244\",\"subtype\":\"Figure\",\"type\":\"Plot\"},{\"attributes\":{\"axis_label\":\"State Code\",\"coordinates\":null,\"formatter\":{\"id\":\"4276\"},\"group\":null,\"major_label_orientation\":1.5707963267948966,\"major_label_policy\":{\"id\":\"4277\"},\"ticker\":{\"id\":\"4254\"}},\"id\":\"4253\",\"type\":\"CategoricalAxis\"},{\"attributes\":{\"bottom\":{\"value\":0},\"fill_alpha\":{\"value\":1.0},\"fill_color\":{\"value\":\"#30a2da\"},\"hatch_alpha\":{\"value\":1.0},\"hatch_color\":{\"value\":\"#30a2da\"},\"hatch_scale\":{\"value\":12.0},\"hatch_weight\":{\"value\":1.0},\"line_alpha\":{\"value\":1.0},\"line_cap\":{\"value\":\"butt\"},\"line_color\":{\"value\":\"black\"},\"line_dash\":{\"value\":[]},\"line_dash_offset\":{\"value\":0},\"line_join\":{\"value\":\"bevel\"},\"line_width\":{\"value\":1},\"top\":{\"field\":\"Total_Average_Loan_Amount\"},\"width\":{\"value\":0.8},\"x\":{\"field\":\"State_Code\"}},\"id\":\"4301\",\"type\":\"VBar\"},{\"attributes\":{},\"id\":\"4343\",\"type\":\"UnionRenderers\"},{\"attributes\":{\"factors\":[\"AK\",\"AL\",\"AR\",\"AZ\",\"CA\",\"CO\",\"CT\",\"DE\",\"FL\",\"GA\",\"GU\",\"HI\",\"IA\",\"ID\",\"IL\",\"IN\",\"KS\",\"KY\",\"LA\",\"MA\",\"MD\",\"ME\",\"MI\",\"MN\",\"MO\",\"MP\",\"MS\",\"MT\",\"NC\",\"ND\",\"NE\",\"NH\",\"NJ\",\"NM\",\"NV\",\"NY\",\"OH\",\"OK\",\"OR\",\"PA\",\"PR\",\"RI\",\"SC\",\"SD\",\"TN\",\"TX\",\"UT\",\"VA\",\"VI\",\"VT\",\"WA\",\"WI\",\"WV\",\"WY\"],\"tags\":[[[\"State Code\",\"State Code\",null]]]},\"id\":\"4239\",\"type\":\"FactorRange\"},{\"attributes\":{\"line_alpha\":0.1,\"line_color\":\"#30a2da\",\"line_width\":2,\"x\":{\"field\":\"State Code\"},\"y\":{\"field\":\"2015 - 2016\"}},\"id\":\"4306\",\"type\":\"Line\"},{\"attributes\":{\"coordinates\":null,\"data_source\":{\"id\":\"4281\"},\"glyph\":{\"id\":\"4284\"},\"group\":null,\"hover_glyph\":null,\"muted_glyph\":{\"id\":\"4286\"},\"nonselection_glyph\":{\"id\":\"4285\"},\"selection_glyph\":{\"id\":\"4301\"},\"view\":{\"id\":\"4288\"}},\"id\":\"4287\",\"type\":\"GlyphRenderer\"},{\"attributes\":{\"data\":{\"2010 - 2014\":{\"__ndarray__\":\"7FG4HpsKBUEUrkfhrssjQeF6FK4pdRVBexSuRxFNIkHXo3CdZvxFQcL1KFw2lSVBUrgehZxAJUEfhetRytYDQRSuRyGWpD1BrkfhupCSMUEAAAAA8M0HQR+F61GBGxpBZmZmZoWTFUHsUbgep5wOQexRuB7D5SlBZmZmZtumKEHiehSuMNkYQfYoXA9pNSJBcD0K1wonJUE9CtfjgGY0QR6F61Gd3ilBFK5H4du/EEFmZmZmr5kxQetRuJ5t9iJBXI/CdS42IUEAAAAAQMXaQAAAAADi0xFBH4XrUYovAUFmZmZmgAY3QdejcD16Hv1AexSuRytREEEehetRD5QRQQrXo/BySzRBPgrXo8h5EkEpXI/Cv0cYQWZmZiaJWDJBFK5HYU4PNkEpXI/CqnAcQaRwPQrxaCdBAAAAwKYZP0EAAAAAULzzQFyPwvUgYxhBAAAAgEoSJ0H2KFyPsrr5QClcj0Lu0StBhetROGZ1SEG4HoVrN0YkQXE9ChcITzJBAAAAACA8/EBSuB6FA0IAQY/C9agWEDdBAAAAAJg9KUEAAAAA0JkQQQAAAABISQBB\",\"dtype\":\"float64\",\"order\":\"little\",\"shape\":[54]},\"A_2010_hyphen_minus_2014\":{\"__ndarray__\":\"7FG4HpsKBUEUrkfhrssjQeF6FK4pdRVBexSuRxFNIkHXo3CdZvxFQcL1KFw2lSVBUrgehZxAJUEfhetRytYDQRSuRyGWpD1BrkfhupCSMUEAAAAA8M0HQR+F61GBGxpBZmZmZoWTFUHsUbgep5wOQexRuB7D5SlBZmZmZtumKEHiehSuMNkYQfYoXA9pNSJBcD0K1wonJUE9CtfjgGY0QR6F61Gd3ilBFK5H4du/EEFmZmZmr5kxQetRuJ5t9iJBXI/CdS42IUEAAAAAQMXaQAAAAADi0xFBH4XrUYovAUFmZmZmgAY3QdejcD16Hv1AexSuRytREEEehetRD5QRQQrXo/BySzRBPgrXo8h5EkEpXI/Cv0cYQWZmZiaJWDJBFK5HYU4PNkEpXI/CqnAcQaRwPQrxaCdBAAAAwKYZP0EAAAAAULzzQFyPwvUgYxhBAAAAgEoSJ0H2KFyPsrr5QClcj0Lu0StBhetROGZ1SEG4HoVrN0YkQXE9ChcITzJBAAAAACA8/EBSuB6FA0IAQY/C9agWEDdBAAAAAJg9KUEAAAAA0JkQQQAAAABISQBB\",\"dtype\":\"float64\",\"order\":\"little\",\"shape\":[54]},\"State Code\":[\"AK\",\"AL\",\"AR\",\"AZ\",\"CA\",\"CO\",\"CT\",\"DE\",\"FL\",\"GA\",\"GU\",\"HI\",\"IA\",\"ID\",\"IL\",\"IN\",\"KS\",\"KY\",\"LA\",\"MA\",\"MD\",\"ME\",\"MI\",\"MN\",\"MO\",\"MP\",\"MS\",\"MT\",\"NC\",\"ND\",\"NE\",\"NH\",\"NJ\",\"NM\",\"NV\",\"NY\",\"OH\",\"OK\",\"OR\",\"PA\",\"PR\",\"RI\",\"SC\",\"SD\",\"TN\",\"TX\",\"UT\",\"VA\",\"VI\",\"VT\",\"WA\",\"WI\",\"WV\",\"WY\"],\"State_Code\":[\"AK\",\"AL\",\"AR\",\"AZ\",\"CA\",\"CO\",\"CT\",\"DE\",\"FL\",\"GA\",\"GU\",\"HI\",\"IA\",\"ID\",\"IL\",\"IN\",\"KS\",\"KY\",\"LA\",\"MA\",\"MD\",\"ME\",\"MI\",\"MN\",\"MO\",\"MP\",\"MS\",\"MT\",\"NC\",\"ND\",\"NE\",\"NH\",\"NJ\",\"NM\",\"NV\",\"NY\",\"OH\",\"OK\",\"OR\",\"PA\",\"PR\",\"RI\",\"SC\",\"SD\",\"TN\",\"TX\",\"UT\",\"VA\",\"VI\",\"VT\",\"WA\",\"WI\",\"WV\",\"WY\"]},\"selected\":{\"id\":\"4325\"},\"selection_policy\":{\"id\":\"4343\"}},\"id\":\"4324\",\"type\":\"ColumnDataSource\"},{\"attributes\":{\"label\":{\"value\":\"2019 Total Average Amount\"},\"renderers\":[{\"id\":\"4287\"}]},\"id\":\"4300\",\"type\":\"LegendItem\"},{\"attributes\":{},\"id\":\"4251\",\"type\":\"LinearScale\"},{\"attributes\":{\"source\":{\"id\":\"4302\"}},\"id\":\"4309\",\"type\":\"CDSView\"},{\"attributes\":{},\"id\":\"4257\",\"type\":\"BasicTicker\"},{\"attributes\":{},\"id\":\"4254\",\"type\":\"CategoricalTicker\"},{\"attributes\":{\"tools\":[{\"id\":\"4241\"},{\"id\":\"4242\"},{\"id\":\"4243\"},{\"id\":\"4260\"},{\"id\":\"4261\"},{\"id\":\"4262\"},{\"id\":\"4263\"},{\"id\":\"4264\"}]},\"id\":\"4266\",\"type\":\"Toolbar\"},{\"attributes\":{\"label\":{\"value\":\"2010 - 2014\"},\"renderers\":[{\"id\":\"4330\"}]},\"id\":\"4346\",\"type\":\"LegendItem\"},{\"attributes\":{},\"id\":\"4319\",\"type\":\"UnionRenderers\"},{\"attributes\":{\"axis_label\":\"\",\"coordinates\":null,\"formatter\":{\"id\":\"4279\"},\"group\":null,\"major_label_policy\":{\"id\":\"4280\"},\"ticker\":{\"id\":\"4257\"}},\"id\":\"4256\",\"type\":\"LinearAxis\"},{\"attributes\":{\"source\":{\"id\":\"4281\"}},\"id\":\"4288\",\"type\":\"CDSView\"},{\"attributes\":{\"axis\":{\"id\":\"4256\"},\"coordinates\":null,\"dimension\":1,\"grid_line_color\":null,\"group\":null,\"ticker\":null},\"id\":\"4259\",\"type\":\"Grid\"},{\"attributes\":{\"callback\":null,\"renderers\":[{\"id\":\"4308\"}],\"tags\":[\"hv_created\"],\"tooltips\":[[\"State Code\",\"@{State_Code}\"],[\"2015 - 2016\",\"@{A_2015_hyphen_minus_2016}\"]]},\"id\":\"4242\",\"type\":\"HoverTool\"},{\"attributes\":{\"children\":[{\"id\":\"4238\"},{\"id\":\"4244\"},{\"id\":\"4474\"}],\"margin\":[0,0,0,0],\"name\":\"Row05896\",\"tags\":[\"embedded\"]},\"id\":\"4237\",\"type\":\"Row\"},{\"attributes\":{\"line_color\":\"#fc4f30\",\"line_width\":2,\"x\":{\"field\":\"State Code\"},\"y\":{\"field\":\"2010 - 2014\"}},\"id\":\"4327\",\"type\":\"Line\"},{\"attributes\":{},\"id\":\"4277\",\"type\":\"AllLabels\"},{\"attributes\":{},\"id\":\"4296\",\"type\":\"UnionRenderers\"},{\"attributes\":{\"fill_color\":{\"value\":\"#30a2da\"},\"hatch_color\":{\"value\":\"#30a2da\"},\"top\":{\"field\":\"Total_Average_Loan_Amount\"},\"width\":{\"value\":0.8},\"x\":{\"field\":\"State_Code\"}},\"id\":\"4284\",\"type\":\"VBar\"},{\"attributes\":{\"data\":{\"2015 - 2016\":{\"__ndarray__\":\"uB6F63skB0FI4XqU5e8kQc3MzMzWsRVBPgrXozP6HkEzMzMzsfRGQYXrUTi+vCdBexSux6iuJUHXo3A9zCQEQWZmZoagoEBBMzMzM0B2L0EAAAAASBwLQRSuR+HIvBtBCtejcJQbFkFwPQrXoewPQUjhehScLSdBMzMzMwPIKkHXo3A9r9IZQfYoXA+1hSJBhetROEEuJkGPwvWoWlUvQXA9CldwzC5BKVyPwhGGEEH2KFwPZtkyQY/C9aivqyRBuB6Fa8CYIkEAAAAAAAAAAHsUrkePoRNBCtejcB8CAkFcj8L16Is4QeF6FK4TYv5AwvUoXBn8D0EAAAAAZCERQcL1KBwDeDJBPQrXoyFsE0HiehSuc7UeQaRwPYpoBTJBpHA9SsR1OUGamZmZ6O8eQT0K1yMZ+ihBAAAAwMm9PEEAAAAAUPD0QML1KFxsmBpBPgrXoy6qKEHD9Shc8xj8QJqZmRl2wS5BZmZmpndfRkHsUbieBhMmQYXrUThRJjRBAAAAAGBx+0Bcj8L1ToYAQc3MzMz7STdBAAAAAKg6KEEAAAAANF8QQQAAAAAIHwRB\",\"dtype\":\"float64\",\"order\":\"little\",\"shape\":[54]},\"A_2015_hyphen_minus_2016\":{\"__ndarray__\":\"uB6F63skB0FI4XqU5e8kQc3MzMzWsRVBPgrXozP6HkEzMzMzsfRGQYXrUTi+vCdBexSux6iuJUHXo3A9zCQEQWZmZoagoEBBMzMzM0B2L0EAAAAASBwLQRSuR+HIvBtBCtejcJQbFkFwPQrXoewPQUjhehScLSdBMzMzMwPIKkHXo3A9r9IZQfYoXA+1hSJBhetROEEuJkGPwvWoWlUvQXA9CldwzC5BKVyPwhGGEEH2KFwPZtkyQY/C9aivqyRBuB6Fa8CYIkEAAAAAAAAAAHsUrkePoRNBCtejcB8CAkFcj8L16Is4QeF6FK4TYv5AwvUoXBn8D0EAAAAAZCERQcL1KBwDeDJBPQrXoyFsE0HiehSuc7UeQaRwPYpoBTJBpHA9SsR1OUGamZmZ6O8eQT0K1yMZ+ihBAAAAwMm9PEEAAAAAUPD0QML1KFxsmBpBPgrXoy6qKEHD9Shc8xj8QJqZmRl2wS5BZmZmpndfRkHsUbieBhMmQYXrUThRJjRBAAAAAGBx+0Bcj8L1ToYAQc3MzMz7STdBAAAAAKg6KEEAAAAANF8QQQAAAAAIHwRB\",\"dtype\":\"float64\",\"order\":\"little\",\"shape\":[54]},\"State Code\":[\"AK\",\"AL\",\"AR\",\"AZ\",\"CA\",\"CO\",\"CT\",\"DE\",\"FL\",\"GA\",\"GU\",\"HI\",\"IA\",\"ID\",\"IL\",\"IN\",\"KS\",\"KY\",\"LA\",\"MA\",\"MD\",\"ME\",\"MI\",\"MN\",\"MO\",\"MP\",\"MS\",\"MT\",\"NC\",\"ND\",\"NE\",\"NH\",\"NJ\",\"NM\",\"NV\",\"NY\",\"OH\",\"OK\",\"OR\",\"PA\",\"PR\",\"RI\",\"SC\",\"SD\",\"TN\",\"TX\",\"UT\",\"VA\",\"VI\",\"VT\",\"WA\",\"WI\",\"WV\",\"WY\"],\"State_Code\":[\"AK\",\"AL\",\"AR\",\"AZ\",\"CA\",\"CO\",\"CT\",\"DE\",\"FL\",\"GA\",\"GU\",\"HI\",\"IA\",\"ID\",\"IL\",\"IN\",\"KS\",\"KY\",\"LA\",\"MA\",\"MD\",\"ME\",\"MI\",\"MN\",\"MO\",\"MP\",\"MS\",\"MT\",\"NC\",\"ND\",\"NE\",\"NH\",\"NJ\",\"NM\",\"NV\",\"NY\",\"OH\",\"OK\",\"OR\",\"PA\",\"PR\",\"RI\",\"SC\",\"SD\",\"TN\",\"TX\",\"UT\",\"VA\",\"VI\",\"VT\",\"WA\",\"WI\",\"WV\",\"WY\"]},\"selected\":{\"id\":\"4303\"},\"selection_policy\":{\"id\":\"4319\"}},\"id\":\"4302\",\"type\":\"ColumnDataSource\"},{\"attributes\":{\"end\":3526420.084,\"reset_end\":3526420.084,\"reset_start\":0.0,\"tags\":[[[\"Total Average Loan Amount\",\"Total Average Loan Amount\",null]]]},\"id\":\"4240\",\"type\":\"Range1d\"},{\"attributes\":{\"line_color\":\"#30a2da\",\"line_width\":2,\"x\":{\"field\":\"State Code\"},\"y\":{\"field\":\"2015 - 2016\"}},\"id\":\"4323\",\"type\":\"Line\"},{\"attributes\":{\"margin\":[5,5,5,5],\"name\":\"HSpacer05900\",\"sizing_mode\":\"stretch_width\"},\"id\":\"4238\",\"type\":\"Spacer\"},{\"attributes\":{\"click_policy\":\"mute\",\"coordinates\":null,\"group\":null,\"items\":[{\"id\":\"4300\"},{\"id\":\"4322\"},{\"id\":\"4346\"}],\"location\":[0,0]},\"id\":\"4299\",\"type\":\"Legend\"},{\"attributes\":{},\"id\":\"4303\",\"type\":\"Selection\"},{\"attributes\":{\"coordinates\":null,\"data_source\":{\"id\":\"4324\"},\"glyph\":{\"id\":\"4327\"},\"group\":null,\"hover_glyph\":null,\"muted_glyph\":{\"id\":\"4329\"},\"nonselection_glyph\":{\"id\":\"4328\"},\"selection_glyph\":{\"id\":\"4347\"},\"view\":{\"id\":\"4331\"}},\"id\":\"4330\",\"type\":\"GlyphRenderer\"},{\"attributes\":{\"fill_alpha\":{\"value\":0.2},\"fill_color\":{\"value\":\"#30a2da\"},\"hatch_alpha\":{\"value\":0.2},\"hatch_color\":{\"value\":\"#30a2da\"},\"line_alpha\":{\"value\":0.2},\"top\":{\"field\":\"Total_Average_Loan_Amount\"},\"width\":{\"value\":0.8},\"x\":{\"field\":\"State_Code\"}},\"id\":\"4286\",\"type\":\"VBar\"},{\"attributes\":{\"margin\":[5,5,5,5],\"name\":\"HSpacer05901\",\"sizing_mode\":\"stretch_width\"},\"id\":\"4474\",\"type\":\"Spacer\"},{\"attributes\":{\"line_alpha\":0.2,\"line_color\":\"#30a2da\",\"line_width\":2,\"x\":{\"field\":\"State Code\"},\"y\":{\"field\":\"2015 - 2016\"}},\"id\":\"4307\",\"type\":\"Line\"},{\"attributes\":{\"line_alpha\":0.1,\"line_color\":\"#fc4f30\",\"line_width\":2,\"x\":{\"field\":\"State Code\"},\"y\":{\"field\":\"2010 - 2014\"}},\"id\":\"4328\",\"type\":\"Line\"},{\"attributes\":{\"line_alpha\":0.2,\"line_color\":\"#fc4f30\",\"line_width\":2,\"x\":{\"field\":\"State Code\"},\"y\":{\"field\":\"2010 - 2014\"}},\"id\":\"4329\",\"type\":\"Line\"},{\"attributes\":{\"callback\":null,\"renderers\":[{\"id\":\"4330\"}],\"tags\":[\"hv_created\"],\"tooltips\":[[\"State Code\",\"@{State_Code}\"],[\"2010 - 2014\",\"@{A_2010_hyphen_minus_2014}\"]]},\"id\":\"4243\",\"type\":\"HoverTool\"},{\"attributes\":{},\"id\":\"4282\",\"type\":\"Selection\"},{\"attributes\":{\"bottom_units\":\"screen\",\"coordinates\":null,\"fill_alpha\":0.5,\"fill_color\":\"lightgrey\",\"group\":null,\"left_units\":\"screen\",\"level\":\"overlay\",\"line_alpha\":1.0,\"line_color\":\"black\",\"line_dash\":[4,4],\"line_width\":2,\"right_units\":\"screen\",\"syncable\":false,\"top_units\":\"screen\"},\"id\":\"4265\",\"type\":\"BoxAnnotation\"},{\"attributes\":{\"fill_alpha\":{\"value\":0.1},\"fill_color\":{\"value\":\"#30a2da\"},\"hatch_alpha\":{\"value\":0.1},\"hatch_color\":{\"value\":\"#30a2da\"},\"line_alpha\":{\"value\":0.1},\"top\":{\"field\":\"Total_Average_Loan_Amount\"},\"width\":{\"value\":0.8},\"x\":{\"field\":\"State_Code\"}},\"id\":\"4285\",\"type\":\"VBar\"},{\"attributes\":{},\"id\":\"4260\",\"type\":\"SaveTool\"},{\"attributes\":{},\"id\":\"4279\",\"type\":\"BasicTickFormatter\"},{\"attributes\":{},\"id\":\"4261\",\"type\":\"PanTool\"},{\"attributes\":{\"coordinates\":null,\"data_source\":{\"id\":\"4302\"},\"glyph\":{\"id\":\"4305\"},\"group\":null,\"hover_glyph\":null,\"muted_glyph\":{\"id\":\"4307\"},\"nonselection_glyph\":{\"id\":\"4306\"},\"selection_glyph\":{\"id\":\"4323\"},\"view\":{\"id\":\"4309\"}},\"id\":\"4308\",\"type\":\"GlyphRenderer\"},{\"attributes\":{},\"id\":\"4262\",\"type\":\"WheelZoomTool\"},{\"attributes\":{},\"id\":\"4280\",\"type\":\"AllLabels\"},{\"attributes\":{},\"id\":\"4325\",\"type\":\"Selection\"},{\"attributes\":{\"data\":{\"State_Code\":[\"AK\",\"AL\",\"AR\",\"AZ\",\"CA\",\"CO\",\"CT\",\"DE\",\"FL\",\"GA\",\"GU\",\"HI\",\"IA\",\"ID\",\"IL\",\"IN\",\"KS\",\"KY\",\"LA\",\"MA\",\"MD\",\"ME\",\"MI\",\"MN\",\"MO\",\"MP\",\"MS\",\"MT\",\"NC\",\"ND\",\"NE\",\"NH\",\"NJ\",\"NM\",\"NV\",\"NY\",\"OH\",\"OK\",\"OR\",\"PA\",\"PR\",\"RI\",\"SC\",\"SD\",\"TN\",\"TX\",\"UT\",\"VA\",\"VI\",\"VT\",\"WA\",\"WI\",\"WV\",\"WY\"],\"Total_Average_Loan_Amount\":{\"__ndarray__\":\"7FG4HlsqAkHsUbgeuo0aQUjhehSxEBBBFK5H4a88IkHNzMzsymdFQfYoXA/s+SFBH4XrUdBmIEFSuB6F+3QAQfYoXE887TdBw/Uo3Ky1MEEAAAAAaEMGQa5H4XpvlhRBH4XrUQ3cEkGamZmZNUkJQVK4HgX9tylBw/UoXOn3JEEUrkfhNLYTQXsUrkerWx1B4XoUrmLYHEEpXI/CdRMxQSlcj0JNKyhBFK5H4VpYCUFcj8K1NEMxQcP1KNwVEilBmpmZGceBIUEAAAAAAB3lQK5H4Xr2bQdBPQrXowy5+UCamZnZk9ExQR+F61Hs6PJAwvUoXPHkC0HC9ShcPz0OQRSuR6EWtzJBw/UoXLdjC0HsUbgehqwXQeF6FC4aeTBBpHA9yvuhNUFmZmZm8vkVQbgehWtB1iJBXI/CdS94OUEAAAAAwFTsQJDC9Sg+VxVBMzMzM2lIIEGuR+F6WFL1QPYoXI9MiSRBUrgeRTOMQ0GPwvUo5lAiQUjhepReNClBAAAAAFBM90DsUbgeYUP5QI/C9ShPozNBAAAAAFBfJUEAAAAACL4IQQAAAAAwJPlA\",\"dtype\":\"float64\",\"order\":\"little\",\"shape\":[54]}},\"selected\":{\"id\":\"4282\"},\"selection_policy\":{\"id\":\"4296\"}},\"id\":\"4281\",\"type\":\"ColumnDataSource\"}],\"root_ids\":[\"4237\"]},\"title\":\"Bokeh Application\",\"version\":\"2.4.2\"}};\n",
       "    var render_items = [{\"docid\":\"9c4b1293-c371-4020-bfa7-f618d90d243a\",\"root_ids\":[\"4237\"],\"roots\":{\"4237\":\"3befa5b7-b61d-47c0-bcf6-cefc79cf59d4\"}}];\n",
       "    root.Bokeh.embed.embed_items_notebook(docs_json, render_items);\n",
       "  }\n",
       "  if (root.Bokeh !== undefined && root.Bokeh.Panel !== undefined) {\n",
       "    embed_document(root);\n",
       "  } else {\n",
       "    var attempts = 0;\n",
       "    var timer = setInterval(function(root) {\n",
       "      if (root.Bokeh !== undefined && root.Bokeh.Panel !== undefined) {\n",
       "        clearInterval(timer);\n",
       "        embed_document(root);\n",
       "      } else if (document.readyState == \"complete\") {\n",
       "        attempts++;\n",
       "        if (attempts > 200) {\n",
       "          clearInterval(timer);\n",
       "          console.log(\"Bokeh: ERROR: Unable to run BokehJS code because BokehJS library is missing\");\n",
       "        }\n",
       "      }\n",
       "    }, 25, root)\n",
       "  }\n",
       "})(window);</script>"
      ],
      "text/plain": [
       ":Overlay\n",
       "   .Bars.A_2019_Total_Average_Amount :Bars   [State Code]   (Total Average Loan Amount)\n",
       "   .Curve.A_2015_hyphen_minus_2016   :Curve   [State Code]   (2015 - 2016)\n",
       "   .Curve.A_2010_hyphen_minus_2014   :Curve   [State Code]   (2010 - 2014)"
      ]
     },
     "execution_count": 20,
     "metadata": {
      "application/vnd.holoviews_exec.v0+json": {
       "id": "4237"
      }
     },
     "output_type": "execute_result"
    }
   ],
   "source": [
    "loan_data['Total Average Loan Amount'].hvplot.bar(label='2019 Total Average Amount',rot=90) *  loan_data['2015 - 2016'].hvplot(label='2015 - 2016')  * loan_data['2010 - 2014'].hvplot(label='2010 - 2014') "
   ]
  },
  {
   "cell_type": "code",
   "execution_count": null,
   "metadata": {},
   "outputs": [],
   "source": []
  }
 ],
 "metadata": {
  "kernel_info": {
   "name": "python3"
  },
  "kernelspec": {
   "display_name": "Python 3 (ipykernel)",
   "language": "python",
   "name": "python3"
  },
  "language_info": {
   "codemirror_mode": {
    "name": "ipython",
    "version": 3
   },
   "file_extension": ".py",
   "mimetype": "text/x-python",
   "name": "python",
   "nbconvert_exporter": "python",
   "pygments_lexer": "ipython3",
   "version": "3.7.11"
  },
  "nteract": {
   "version": "0.12.3"
  }
 },
 "nbformat": 4,
 "nbformat_minor": 4
}
