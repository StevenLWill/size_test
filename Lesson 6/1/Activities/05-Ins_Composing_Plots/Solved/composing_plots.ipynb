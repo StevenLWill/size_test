version https://git-lfs.github.com/spec/v1
oid sha256:e63563d037eafa864cb9e2a17f2fc897f5f422ff4279e059cc75b435deea805c
size 7549390
