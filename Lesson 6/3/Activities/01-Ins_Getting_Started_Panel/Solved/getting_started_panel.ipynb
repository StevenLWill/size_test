{
 "cells": [
  {
   "cell_type": "code",
   "execution_count": 8,
   "metadata": {},
   "outputs": [],
   "source": [
    "import pandas as pd\n",
    "import numpy as np\n",
    "import panel as pn\n",
    "from panel.interact import interact\n",
    "from panel import widgets"
   ]
  },
  {
   "cell_type": "markdown",
   "metadata": {},
   "source": [
    " ### Enable Jupyter Lab Panel plugin"
   ]
  },
  {
   "cell_type": "code",
   "execution_count": 9,
   "metadata": {},
   "outputs": [],
   "source": [
    "pn.extension()"
   ]
  },
  {
   "cell_type": "markdown",
   "metadata": {},
   "source": [
    "### Import hvplot.pandas after pn.extension"
   ]
  },
  {
   "cell_type": "code",
   "execution_count": 10,
   "metadata": {},
   "outputs": [],
   "source": [
    "# Import hvplot.pandas after pn.extension\n",
    "# This avoids plotly initialization failure\n",
    "import hvplot.pandas"
   ]
  },
  {
   "cell_type": "markdown",
   "metadata": {},
   "source": [
    " ### Panel with Python Data Structures"
   ]
  },
  {
   "cell_type": "code",
   "execution_count": 18,
   "metadata": {},
   "outputs": [],
   "source": [
    "# Define function to choose a year\n",
    "def choose_year(month, year):\n",
    "    return (month, year)"
   ]
  },
  {
   "cell_type": "code",
   "execution_count": 19,
   "metadata": {},
   "outputs": [
    {
     "data": {},
     "metadata": {},
     "output_type": "display_data"
    },
    {
     "data": {
      "application/vnd.holoviews_exec.v0+json": "",
      "text/html": [
       "<div id='3231'>\n",
       "\n",
       "\n",
       "\n",
       "\n",
       "\n",
       "  <div class=\"bk-root\" id=\"bb56cbf8-e4bd-41e0-823a-97ba57ff30aa\" data-root-id=\"3231\"></div>\n",
       "</div>\n",
       "<script type=\"application/javascript\">(function(root) {\n",
       "  function embed_document(root) {\n",
       "    var docs_json = {\"2d2bb5e4-de0e-475f-8af5-5b9de68ed2c5\":{\"defs\":[{\"extends\":null,\"module\":null,\"name\":\"ReactiveHTML1\",\"overrides\":[],\"properties\":[]},{\"extends\":null,\"module\":null,\"name\":\"FlexBox1\",\"overrides\":[],\"properties\":[{\"default\":\"flex-start\",\"kind\":null,\"name\":\"align_content\"},{\"default\":\"flex-start\",\"kind\":null,\"name\":\"align_items\"},{\"default\":\"row\",\"kind\":null,\"name\":\"flex_direction\"},{\"default\":\"wrap\",\"kind\":null,\"name\":\"flex_wrap\"},{\"default\":\"flex-start\",\"kind\":null,\"name\":\"justify_content\"}]},{\"extends\":null,\"module\":null,\"name\":\"TemplateActions1\",\"overrides\":[],\"properties\":[{\"default\":0,\"kind\":null,\"name\":\"open_modal\"},{\"default\":0,\"kind\":null,\"name\":\"close_modal\"}]},{\"extends\":null,\"module\":null,\"name\":\"MaterialTemplateActions1\",\"overrides\":[],\"properties\":[{\"default\":0,\"kind\":null,\"name\":\"open_modal\"},{\"default\":0,\"kind\":null,\"name\":\"close_modal\"}]}],\"roots\":{\"references\":[{\"attributes\":{\"children\":[{\"id\":\"3236\"}],\"margin\":[0,0,0,0],\"name\":\"Row04831\"},\"id\":\"3235\",\"type\":\"Row\"},{\"attributes\":{\"margin\":[5,10,5,10],\"options\":[\"2019\",\"2018\",\"2017\",\"2016\",\"2015\"],\"title\":\"month\",\"value\":\"2019\"},\"id\":\"3233\",\"type\":\"Select\"},{\"attributes\":{\"margin\":[5,5,5,5],\"name\":\"interactive04825\",\"text\":\"&lt;pre&gt;(&#x27;2019&#x27;, &#x27;2019&#x27;)&lt;/pre&gt;\"},\"id\":\"3236\",\"type\":\"panel.models.markup.HTML\"},{\"attributes\":{\"children\":[{\"id\":\"3233\"},{\"id\":\"3234\"}],\"margin\":[0,0,0,0],\"name\":\"Column04832\"},\"id\":\"3232\",\"type\":\"Column\"},{\"attributes\":{\"margin\":[5,10,5,10],\"max_length\":5000,\"title\":\"year\",\"value\":\"2019\"},\"id\":\"3234\",\"type\":\"TextInput\"},{\"attributes\":{\"client_comm_id\":\"cdc4b04493e943e195f509c28e706efe\",\"comm_id\":\"a14f9f3bb2a2480bb00f56db790481c2\",\"plot_id\":\"3231\"},\"id\":\"3237\",\"type\":\"panel.models.comm_manager.CommManager\"},{\"attributes\":{\"children\":[{\"id\":\"3232\"},{\"id\":\"3235\"}],\"margin\":[0,0,0,0],\"name\":\"Column04826\"},\"id\":\"3231\",\"type\":\"Column\"}],\"root_ids\":[\"3231\",\"3237\"]},\"title\":\"Bokeh Application\",\"version\":\"2.4.2\"}};\n",
       "    var render_items = [{\"docid\":\"2d2bb5e4-de0e-475f-8af5-5b9de68ed2c5\",\"root_ids\":[\"3231\"],\"roots\":{\"3231\":\"bb56cbf8-e4bd-41e0-823a-97ba57ff30aa\"}}];\n",
       "    root.Bokeh.embed.embed_items_notebook(docs_json, render_items);\n",
       "  }\n",
       "  if (root.Bokeh !== undefined && root.Bokeh.Panel !== undefined) {\n",
       "    embed_document(root);\n",
       "  } else {\n",
       "    var attempts = 0;\n",
       "    var timer = setInterval(function(root) {\n",
       "      if (root.Bokeh !== undefined && root.Bokeh.Panel !== undefined) {\n",
       "        clearInterval(timer);\n",
       "        embed_document(root);\n",
       "      } else if (document.readyState == \"complete\") {\n",
       "        attempts++;\n",
       "        if (attempts > 200) {\n",
       "          clearInterval(timer);\n",
       "          console.log(\"Bokeh: ERROR: Unable to run BokehJS code because BokehJS library is missing\");\n",
       "        }\n",
       "      }\n",
       "    }, 25, root)\n",
       "  }\n",
       "})(window);</script>"
      ],
      "text/plain": [
       "Column\n",
       "    [0] Column\n",
       "        [0] Select(name='month', options=['2019', '2018', ...], value='2019')\n",
       "        [1] TextInput(name='year', value='2019')\n",
       "    [1] Row\n",
       "        [0] Str(tuple, name='interactive04825')"
      ]
     },
     "execution_count": 19,
     "metadata": {
      "application/vnd.holoviews_exec.v0+json": {
       "id": "3231"
      }
     },
     "output_type": "execute_result"
    }
   ],
   "source": [
    "# Declare one list of years to be used in a Panel select list\n",
    "list_of_years = ['2019', '2018', '2017', '2016', '2015']\n",
    "interact(choose_year, month=list_of_years, year='2019')"
   ]
  },
  {
   "cell_type": "code",
   "execution_count": 13,
   "metadata": {},
   "outputs": [
    {
     "data": {},
     "metadata": {},
     "output_type": "display_data"
    },
    {
     "data": {
      "application/vnd.holoviews_exec.v0+json": "",
      "text/html": [
       "<div id='3212'>\n",
       "\n",
       "\n",
       "\n",
       "\n",
       "\n",
       "  <div class=\"bk-root\" id=\"8d5a3136-c0e3-4ab5-a548-8a5db581be17\" data-root-id=\"3212\"></div>\n",
       "</div>\n",
       "<script type=\"application/javascript\">(function(root) {\n",
       "  function embed_document(root) {\n",
       "    var docs_json = {\"8ec51da1-47b0-47a4-b747-cde338096fa5\":{\"defs\":[{\"extends\":null,\"module\":null,\"name\":\"ReactiveHTML1\",\"overrides\":[],\"properties\":[]},{\"extends\":null,\"module\":null,\"name\":\"FlexBox1\",\"overrides\":[],\"properties\":[{\"default\":\"flex-start\",\"kind\":null,\"name\":\"align_content\"},{\"default\":\"flex-start\",\"kind\":null,\"name\":\"align_items\"},{\"default\":\"row\",\"kind\":null,\"name\":\"flex_direction\"},{\"default\":\"wrap\",\"kind\":null,\"name\":\"flex_wrap\"},{\"default\":\"flex-start\",\"kind\":null,\"name\":\"justify_content\"}]},{\"extends\":null,\"module\":null,\"name\":\"TemplateActions1\",\"overrides\":[],\"properties\":[{\"default\":0,\"kind\":null,\"name\":\"open_modal\"},{\"default\":0,\"kind\":null,\"name\":\"close_modal\"}]},{\"extends\":null,\"module\":null,\"name\":\"MaterialTemplateActions1\",\"overrides\":[],\"properties\":[{\"default\":0,\"kind\":null,\"name\":\"open_modal\"},{\"default\":0,\"kind\":null,\"name\":\"close_modal\"}]}],\"roots\":{\"references\":[{\"attributes\":{\"children\":[{\"id\":\"3213\"},{\"id\":\"3215\"}],\"margin\":[0,0,0,0],\"name\":\"Column04797\"},\"id\":\"3212\",\"type\":\"Column\"},{\"attributes\":{\"children\":[{\"id\":\"3214\"}],\"margin\":[0,0,0,0],\"name\":\"Column04802\"},\"id\":\"3213\",\"type\":\"Column\"},{\"attributes\":{\"client_comm_id\":\"94800fb30a5649f0be2263d84591f583\",\"comm_id\":\"4c56f15998f94812bb571a3d8ac4c3ee\",\"plot_id\":\"3212\"},\"id\":\"3217\",\"type\":\"panel.models.comm_manager.CommManager\"},{\"attributes\":{\"children\":[{\"id\":\"3216\"}],\"margin\":[0,0,0,0],\"name\":\"Row04801\"},\"id\":\"3215\",\"type\":\"Row\"},{\"attributes\":{\"css_classes\":[\"markdown\"],\"margin\":[5,5,5,5],\"name\":\"interactive04796\",\"text\":\"&lt;p&gt;2014&lt;/p&gt;\"},\"id\":\"3216\",\"type\":\"panel.models.markup.HTML\"},{\"attributes\":{\"margin\":[5,10,5,10],\"options\":[\"2014\",\"2013\",\"2012\",\"2011\",\"2010\"],\"title\":\"year\",\"value\":\"2014\"},\"id\":\"3214\",\"type\":\"Select\"}],\"root_ids\":[\"3212\",\"3217\"]},\"title\":\"Bokeh Application\",\"version\":\"2.4.2\"}};\n",
       "    var render_items = [{\"docid\":\"8ec51da1-47b0-47a4-b747-cde338096fa5\",\"root_ids\":[\"3212\"],\"roots\":{\"3212\":\"8d5a3136-c0e3-4ab5-a548-8a5db581be17\"}}];\n",
       "    root.Bokeh.embed.embed_items_notebook(docs_json, render_items);\n",
       "  }\n",
       "  if (root.Bokeh !== undefined && root.Bokeh.Panel !== undefined) {\n",
       "    embed_document(root);\n",
       "  } else {\n",
       "    var attempts = 0;\n",
       "    var timer = setInterval(function(root) {\n",
       "      if (root.Bokeh !== undefined && root.Bokeh.Panel !== undefined) {\n",
       "        clearInterval(timer);\n",
       "        embed_document(root);\n",
       "      } else if (document.readyState == \"complete\") {\n",
       "        attempts++;\n",
       "        if (attempts > 200) {\n",
       "          clearInterval(timer);\n",
       "          console.log(\"Bokeh: ERROR: Unable to run BokehJS code because BokehJS library is missing\");\n",
       "        }\n",
       "      }\n",
       "    }, 25, root)\n",
       "  }\n",
       "})(window);</script>"
      ],
      "text/plain": [
       "Column\n",
       "    [0] Column\n",
       "        [0] Select(name='year', options=['2014', '2013', ...], value='2014')\n",
       "    [1] Row\n",
       "        [0] Markdown(str, name='interactive04796')"
      ]
     },
     "execution_count": 13,
     "metadata": {
      "application/vnd.holoviews_exec.v0+json": {
       "id": "3212"
      }
     },
     "output_type": "execute_result"
    }
   ],
   "source": [
    "# Declare a second list of years to be used in a Panel select list\n",
    "list_of_years_2 = ['2014', '2013', '2012', '2011', '2010']\n",
    "interact(choose_year, year=list_of_years_2)"
   ]
  },
  {
   "cell_type": "markdown",
   "metadata": {},
   "source": [
    " ### Panel with Plot"
   ]
  },
  {
   "cell_type": "code",
   "execution_count": 22,
   "metadata": {},
   "outputs": [
    {
     "data": {},
     "metadata": {},
     "output_type": "display_data"
    },
    {
     "data": {},
     "metadata": {},
     "output_type": "display_data"
    },
    {
     "data": {
      "application/vnd.holoviews_exec.v0+json": "",
      "text/html": [
       "<div id='6071'>\n",
       "\n",
       "\n",
       "\n",
       "\n",
       "\n",
       "  <div class=\"bk-root\" id=\"3b6678c8-243a-494a-892e-9cfc3196bfd4\" data-root-id=\"6071\"></div>\n",
       "</div>\n",
       "<script type=\"application/javascript\">(function(root) {\n",
       "  function embed_document(root) {\n",
       "    var docs_json = {\"282bc260-d920-4edd-bf68-b9bf089759f3\":{\"defs\":[{\"extends\":null,\"module\":null,\"name\":\"ReactiveHTML1\",\"overrides\":[],\"properties\":[]},{\"extends\":null,\"module\":null,\"name\":\"FlexBox1\",\"overrides\":[],\"properties\":[{\"default\":\"flex-start\",\"kind\":null,\"name\":\"align_content\"},{\"default\":\"flex-start\",\"kind\":null,\"name\":\"align_items\"},{\"default\":\"row\",\"kind\":null,\"name\":\"flex_direction\"},{\"default\":\"wrap\",\"kind\":null,\"name\":\"flex_wrap\"},{\"default\":\"flex-start\",\"kind\":null,\"name\":\"justify_content\"}]},{\"extends\":null,\"module\":null,\"name\":\"TemplateActions1\",\"overrides\":[],\"properties\":[{\"default\":0,\"kind\":null,\"name\":\"open_modal\"},{\"default\":0,\"kind\":null,\"name\":\"close_modal\"}]},{\"extends\":null,\"module\":null,\"name\":\"MaterialTemplateActions1\",\"overrides\":[],\"properties\":[{\"default\":0,\"kind\":null,\"name\":\"open_modal\"},{\"default\":0,\"kind\":null,\"name\":\"close_modal\"}]}],\"roots\":{\"references\":[{\"attributes\":{\"fill_alpha\":{\"value\":0.1},\"fill_color\":{\"field\":\"color\",\"transform\":{\"id\":\"6108\"}},\"hatch_alpha\":{\"value\":0.1},\"hatch_color\":{\"field\":\"color\",\"transform\":{\"id\":\"6108\"}},\"line_alpha\":{\"value\":0.1},\"line_color\":{\"field\":\"color\",\"transform\":{\"id\":\"6108\"}},\"size\":{\"value\":5.477225575051661},\"x\":{\"field\":\"sales\"},\"y\":{\"field\":\"foreclosures\"}},\"id\":\"6113\",\"type\":\"Scatter\"},{\"attributes\":{},\"id\":\"6092\",\"type\":\"BasicTicker\"},{\"attributes\":{\"client_comm_id\":\"3ec034a50e7c41f7bdd7628408c15151\",\"comm_id\":\"9a474020ce8b4540a5e94b9588af995e\",\"plot_id\":\"6071\"},\"id\":\"6182\",\"type\":\"panel.models.comm_manager.CommManager\"},{\"attributes\":{\"tools\":[{\"id\":\"6077\"},{\"id\":\"6095\"},{\"id\":\"6096\"},{\"id\":\"6097\"},{\"id\":\"6098\"},{\"id\":\"6099\"}]},\"id\":\"6101\",\"type\":\"Toolbar\"},{\"attributes\":{\"fill_alpha\":{\"value\":0.2},\"fill_color\":{\"field\":\"color\",\"transform\":{\"id\":\"6108\"}},\"hatch_alpha\":{\"value\":0.2},\"hatch_color\":{\"field\":\"color\",\"transform\":{\"id\":\"6108\"}},\"line_alpha\":{\"value\":0.2},\"line_color\":{\"field\":\"color\",\"transform\":{\"id\":\"6108\"}},\"size\":{\"value\":5.477225575051661},\"x\":{\"field\":\"sales\"},\"y\":{\"field\":\"foreclosures\"}},\"id\":\"6116\",\"type\":\"Scatter\"},{\"attributes\":{},\"id\":\"6125\",\"type\":\"BasicTickFormatter\"},{\"attributes\":{},\"id\":\"6083\",\"type\":\"LinearScale\"},{\"attributes\":{\"fill_color\":{\"field\":\"color\",\"transform\":{\"id\":\"6108\"}},\"hatch_color\":{\"field\":\"color\",\"transform\":{\"id\":\"6108\"}},\"line_color\":{\"field\":\"color\",\"transform\":{\"id\":\"6108\"}},\"size\":{\"value\":5.477225575051661},\"x\":{\"field\":\"sales\"},\"y\":{\"field\":\"foreclosures\"}},\"id\":\"6115\",\"type\":\"Scatter\"},{\"attributes\":{\"coordinates\":null,\"group\":null,\"text\":\"Alleghany, PA Housing Transactions\",\"text_color\":\"black\",\"text_font_size\":\"12pt\"},\"id\":\"6079\",\"type\":\"Title\"},{\"attributes\":{},\"id\":\"6135\",\"type\":\"UnionRenderers\"},{\"attributes\":{},\"id\":\"6123\",\"type\":\"AllLabels\"},{\"attributes\":{\"children\":[{\"id\":\"6073\"}],\"margin\":[0,0,0,0],\"name\":\"Column09032\"},\"id\":\"6072\",\"type\":\"Column\"},{\"attributes\":{\"end\":510.7714285714286,\"reset_end\":510.7714285714286,\"reset_start\":35.22857142857143,\"start\":35.22857142857143,\"tags\":[[[\"sales\",\"sales\",null]]]},\"id\":\"6075\",\"type\":\"Range1d\"},{\"attributes\":{\"children\":[{\"id\":\"6078\"}],\"margin\":[0,0,0,0],\"name\":\"Row09031\"},\"id\":\"6074\",\"type\":\"Row\"},{\"attributes\":{\"axis_label\":\"foreclosures\",\"coordinates\":null,\"formatter\":{\"id\":\"6125\"},\"group\":null,\"major_label_policy\":{\"id\":\"6126\"},\"ticker\":{\"id\":\"6092\"}},\"id\":\"6091\",\"type\":\"LinearAxis\"},{\"attributes\":{\"axis_label\":\"sales\",\"coordinates\":null,\"formatter\":{\"id\":\"6122\"},\"group\":null,\"major_label_policy\":{\"id\":\"6123\"},\"ticker\":{\"id\":\"6088\"}},\"id\":\"6087\",\"type\":\"LinearAxis\"},{\"attributes\":{\"coordinates\":null,\"data_source\":{\"id\":\"6109\"},\"glyph\":{\"id\":\"6112\"},\"group\":null,\"hover_glyph\":{\"id\":\"6115\"},\"muted_glyph\":{\"id\":\"6116\"},\"nonselection_glyph\":{\"id\":\"6113\"},\"selection_glyph\":{\"id\":\"6114\"},\"view\":{\"id\":\"6118\"}},\"id\":\"6117\",\"type\":\"GlyphRenderer\"},{\"attributes\":{},\"id\":\"6126\",\"type\":\"AllLabels\"},{\"attributes\":{\"axis\":{\"id\":\"6091\"},\"coordinates\":null,\"dimension\":1,\"grid_line_color\":null,\"group\":null,\"ticker\":null},\"id\":\"6094\",\"type\":\"Grid\"},{\"attributes\":{\"callback\":null,\"renderers\":[{\"id\":\"6117\"}],\"tags\":[\"hv_created\"],\"tooltips\":[[\"sales\",\"@{sales}\"],[\"foreclosures\",\"@{foreclosures}\"],[\"years\",\"@{years}\"]]},\"id\":\"6077\",\"type\":\"HoverTool\"},{\"attributes\":{},\"id\":\"6097\",\"type\":\"WheelZoomTool\"},{\"attributes\":{\"data\":{\"color\":{\"__ndarray__\":\"2gcAANoHAADaBwAA2gcAANoHAADaBwAA2gcAANoHAADaBwAA2gcAANoHAADaBwAA2gcAANsHAADbBwAA2wcAANsHAADbBwAA2wcAANsHAADbBwAA2wcAANsHAADbBwAA3AcAANwHAADcBwAA3AcAANwHAADcBwAA3AcAANwHAADcBwAA3AcAAN0HAADdBwAA3QcAAN0HAADdBwAA3QcAAN0HAADdBwAA3QcAAN0HAADdBwAA3QcAAN0HAADdBwAA3QcAAN0HAADdBwAA3gcAAN4HAADeBwAA3gcAAN4HAADeBwAA3gcAAN4HAADeBwAA3gcAAN4HAADeBwAA3gcAAN4HAADeBwAA3gcAAN4HAADfBwAA3wcAAN8HAADfBwAA3wcAAOAHAADgBwAA4AcAAOAHAADgBwAA4AcAAOAHAADgBwAA4AcAAOAHAADhBwAA4QcAAOEHAADhBwAA4QcAAOEHAADhBwAA4gcAAOIHAADiBwAA4gcAAOIHAADiBwAA4gcAAOIHAADiBwAA4gcAAA==\",\"dtype\":\"int32\",\"order\":\"little\",\"shape\":[100]},\"foreclosures\":{\"__ndarray__\":\"TAAAAI8AAABgAAAAZgAAABsAAAArAAAAOQAAAG0AAACQAAAASQAAAI0AAABbAAAAjAAAADcAAABQAAAAMQAAAH8AAAA8AAAAbQAAAB4AAACLAAAAdwAAAIQAAAAvAAAAawAAACUAAABrAAAASAAAABIAAABXAAAAGwAAAGwAAABsAAAAJAAAAFsAAABMAAAAPwAAAGoAAAAeAAAAOwAAAIoAAACMAAAAGwAAACAAAACLAAAAGgAAAEAAAAA1AAAAigAAAAwAAABHAAAAYQAAADIAAACJAAAANQAAAIkAAACHAAAAFAAAAFgAAAB+AAAALQAAAE0AAACEAAAAOQAAAFoAAABuAAAASwAAAAsAAACGAAAAKQAAACcAAAAWAAAAegAAAHMAAAAuAAAAHgAAAIUAAAATAAAAkQAAABoAAAA8AAAANgAAAHcAAABcAAAAYQAAAEcAAAA3AAAAjQAAAB4AAABBAAAAigAAAFgAAAB7AAAAOQAAAAoAAAAsAAAAeAAAAAsAAABPAAAAjgAAAA==\",\"dtype\":\"int32\",\"order\":\"little\",\"shape\":[100]},\"sales\":{\"__ndarray__\":\"RwAAAJgAAACbAAAAnAAAAKwAAADEAAAAxQAAANQAAADhAAAA5AAAACoBAACdAQAA5AEAAHUAAAB/AAAA5AAAAAEBAAAEAQAAEwEAABsBAABaAQAAnAEAAKABAAClAQAAXgAAAIoAAACeAAAAuAAAAMAAAADRAAAA6wAAADEBAACcAQAA2QEAADYAAAB+AAAAggAAAKYAAACsAAAA3AAAACYBAAA5AQAAVAEAAFoBAAB0AQAAkgEAAJgBAACiAQAAwAEAAMEBAADXAQAAhAAAAJMAAACkAAAArwAAAMEAAADKAAAA9gAAABoBAAAnAQAAOQEAAEUBAAByAQAAkAEAAKIBAACmAQAAqwEAANMBAADhAAAABAEAABcBAAAeAQAA0wEAAEYAAAB4AAAAlAAAAPgAAAAQAQAANgEAAHUBAACBAQAAigEAANwBAABZAAAAYQAAAHgAAACzAAAAywAAADIBAACbAQAAPwAAAKcAAADHAAAA1wAAANkAAAAFAQAAGQEAAGYBAADFAQAA7AEAAA==\",\"dtype\":\"int32\",\"order\":\"little\",\"shape\":[100]},\"years\":{\"__ndarray__\":\"2gcAANoHAADaBwAA2gcAANoHAADaBwAA2gcAANoHAADaBwAA2gcAANoHAADaBwAA2gcAANsHAADbBwAA2wcAANsHAADbBwAA2wcAANsHAADbBwAA2wcAANsHAADbBwAA3AcAANwHAADcBwAA3AcAANwHAADcBwAA3AcAANwHAADcBwAA3AcAAN0HAADdBwAA3QcAAN0HAADdBwAA3QcAAN0HAADdBwAA3QcAAN0HAADdBwAA3QcAAN0HAADdBwAA3QcAAN0HAADdBwAA3gcAAN4HAADeBwAA3gcAAN4HAADeBwAA3gcAAN4HAADeBwAA3gcAAN4HAADeBwAA3gcAAN4HAADeBwAA3gcAAN4HAADfBwAA3wcAAN8HAADfBwAA3wcAAOAHAADgBwAA4AcAAOAHAADgBwAA4AcAAOAHAADgBwAA4AcAAOAHAADhBwAA4QcAAOEHAADhBwAA4QcAAOEHAADhBwAA4gcAAOIHAADiBwAA4gcAAOIHAADiBwAA4gcAAOIHAADiBwAA4gcAAA==\",\"dtype\":\"int32\",\"order\":\"little\",\"shape\":[100]}},\"selected\":{\"id\":\"6110\"},\"selection_policy\":{\"id\":\"6135\"}},\"id\":\"6109\",\"type\":\"ColumnDataSource\"},{\"attributes\":{\"fill_color\":{\"field\":\"color\",\"transform\":{\"id\":\"6108\"}},\"hatch_color\":{\"field\":\"color\",\"transform\":{\"id\":\"6108\"}},\"line_color\":{\"field\":\"color\",\"transform\":{\"id\":\"6108\"}},\"size\":{\"value\":5.477225575051661},\"x\":{\"field\":\"sales\"},\"y\":{\"field\":\"foreclosures\"}},\"id\":\"6114\",\"type\":\"Scatter\"},{\"attributes\":{},\"id\":\"6088\",\"type\":\"BasicTicker\"},{\"attributes\":{\"axis\":{\"id\":\"6087\"},\"coordinates\":null,\"grid_line_color\":null,\"group\":null,\"ticker\":null},\"id\":\"6090\",\"type\":\"Grid\"},{\"attributes\":{\"end\":300,\"margin\":[5,10,5,10],\"start\":-100,\"title\":\"number_of_sales\",\"value\":100},\"id\":\"6073\",\"type\":\"Slider\"},{\"attributes\":{},\"id\":\"6095\",\"type\":\"SaveTool\"},{\"attributes\":{},\"id\":\"6085\",\"type\":\"LinearScale\"},{\"attributes\":{\"source\":{\"id\":\"6109\"}},\"id\":\"6118\",\"type\":\"CDSView\"},{\"attributes\":{},\"id\":\"6131\",\"type\":\"NoOverlap\"},{\"attributes\":{},\"id\":\"6096\",\"type\":\"PanTool\"},{\"attributes\":{},\"id\":\"6122\",\"type\":\"BasicTickFormatter\"},{\"attributes\":{\"below\":[{\"id\":\"6087\"}],\"center\":[{\"id\":\"6090\"},{\"id\":\"6094\"}],\"height\":300,\"left\":[{\"id\":\"6091\"}],\"margin\":[5,5,5,5],\"min_border_bottom\":10,\"min_border_left\":10,\"min_border_right\":10,\"min_border_top\":10,\"renderers\":[{\"id\":\"6117\"}],\"right\":[{\"id\":\"6120\"}],\"sizing_mode\":\"fixed\",\"title\":{\"id\":\"6079\"},\"toolbar\":{\"id\":\"6101\"},\"width\":700,\"x_range\":{\"id\":\"6075\"},\"x_scale\":{\"id\":\"6083\"},\"y_range\":{\"id\":\"6076\"},\"y_scale\":{\"id\":\"6085\"}},\"id\":\"6078\",\"subtype\":\"Figure\",\"type\":\"Plot\"},{\"attributes\":{},\"id\":\"6099\",\"type\":\"ResetTool\"},{\"attributes\":{\"end\":158.5,\"reset_end\":158.5,\"reset_start\":-3.5,\"start\":-3.5,\"tags\":[[[\"foreclosures\",\"foreclosures\",null]]]},\"id\":\"6076\",\"type\":\"Range1d\"},{\"attributes\":{\"bar_line_color\":\"black\",\"color_mapper\":{\"id\":\"6108\"},\"coordinates\":null,\"group\":null,\"label_standoff\":8,\"location\":[0,0],\"major_label_policy\":{\"id\":\"6131\"},\"major_tick_line_color\":\"black\",\"ticker\":{\"id\":\"6119\"}},\"id\":\"6120\",\"type\":\"ColorBar\"},{\"attributes\":{\"children\":[{\"id\":\"6072\"},{\"id\":\"6074\"}],\"margin\":[0,0,0,0],\"name\":\"Column08948\"},\"id\":\"6071\",\"type\":\"Column\"},{\"attributes\":{},\"id\":\"6110\",\"type\":\"Selection\"},{\"attributes\":{\"fill_color\":{\"field\":\"color\",\"transform\":{\"id\":\"6108\"}},\"hatch_color\":{\"field\":\"color\",\"transform\":{\"id\":\"6108\"}},\"line_color\":{\"field\":\"color\",\"transform\":{\"id\":\"6108\"}},\"size\":{\"value\":5.477225575051661},\"x\":{\"field\":\"sales\"},\"y\":{\"field\":\"foreclosures\"}},\"id\":\"6112\",\"type\":\"Scatter\"},{\"attributes\":{\"overlay\":{\"id\":\"6100\"}},\"id\":\"6098\",\"type\":\"BoxZoomTool\"},{\"attributes\":{\"bottom_units\":\"screen\",\"coordinates\":null,\"fill_alpha\":0.5,\"fill_color\":\"lightgrey\",\"group\":null,\"left_units\":\"screen\",\"level\":\"overlay\",\"line_alpha\":1.0,\"line_color\":\"black\",\"line_dash\":[4,4],\"line_width\":2,\"right_units\":\"screen\",\"syncable\":false,\"top_units\":\"screen\"},\"id\":\"6100\",\"type\":\"BoxAnnotation\"},{\"attributes\":{},\"id\":\"6119\",\"type\":\"BasicTicker\"},{\"attributes\":{\"high\":2018,\"low\":2010,\"palette\":[\"#440154\",\"#440255\",\"#440357\",\"#450558\",\"#45065a\",\"#45085b\",\"#46095c\",\"#460b5e\",\"#460c5f\",\"#460e61\",\"#470f62\",\"#471163\",\"#471265\",\"#471466\",\"#471567\",\"#471669\",\"#47186a\",\"#48196b\",\"#481a6c\",\"#481c6e\",\"#481d6f\",\"#481e70\",\"#482071\",\"#482172\",\"#482273\",\"#482374\",\"#472575\",\"#472676\",\"#472777\",\"#472878\",\"#472a79\",\"#472b7a\",\"#472c7b\",\"#462d7c\",\"#462f7c\",\"#46307d\",\"#46317e\",\"#45327f\",\"#45347f\",\"#453580\",\"#453681\",\"#443781\",\"#443982\",\"#433a83\",\"#433b83\",\"#433c84\",\"#423d84\",\"#423e85\",\"#424085\",\"#414186\",\"#414286\",\"#404387\",\"#404487\",\"#3f4587\",\"#3f4788\",\"#3e4888\",\"#3e4989\",\"#3d4a89\",\"#3d4b89\",\"#3d4c89\",\"#3c4d8a\",\"#3c4e8a\",\"#3b508a\",\"#3b518a\",\"#3a528b\",\"#3a538b\",\"#39548b\",\"#39558b\",\"#38568b\",\"#38578c\",\"#37588c\",\"#37598c\",\"#365a8c\",\"#365b8c\",\"#355c8c\",\"#355d8c\",\"#345e8d\",\"#345f8d\",\"#33608d\",\"#33618d\",\"#32628d\",\"#32638d\",\"#31648d\",\"#31658d\",\"#31668d\",\"#30678d\",\"#30688d\",\"#2f698d\",\"#2f6a8d\",\"#2e6b8e\",\"#2e6c8e\",\"#2e6d8e\",\"#2d6e8e\",\"#2d6f8e\",\"#2c708e\",\"#2c718e\",\"#2c728e\",\"#2b738e\",\"#2b748e\",\"#2a758e\",\"#2a768e\",\"#2a778e\",\"#29788e\",\"#29798e\",\"#287a8e\",\"#287a8e\",\"#287b8e\",\"#277c8e\",\"#277d8e\",\"#277e8e\",\"#267f8e\",\"#26808e\",\"#26818e\",\"#25828e\",\"#25838d\",\"#24848d\",\"#24858d\",\"#24868d\",\"#23878d\",\"#23888d\",\"#23898d\",\"#22898d\",\"#228a8d\",\"#228b8d\",\"#218c8d\",\"#218d8c\",\"#218e8c\",\"#208f8c\",\"#20908c\",\"#20918c\",\"#1f928c\",\"#1f938b\",\"#1f948b\",\"#1f958b\",\"#1f968b\",\"#1e978a\",\"#1e988a\",\"#1e998a\",\"#1e998a\",\"#1e9a89\",\"#1e9b89\",\"#1e9c89\",\"#1e9d88\",\"#1e9e88\",\"#1e9f88\",\"#1ea087\",\"#1fa187\",\"#1fa286\",\"#1fa386\",\"#20a485\",\"#20a585\",\"#21a685\",\"#21a784\",\"#22a784\",\"#23a883\",\"#23a982\",\"#24aa82\",\"#25ab81\",\"#26ac81\",\"#27ad80\",\"#28ae7f\",\"#29af7f\",\"#2ab07e\",\"#2bb17d\",\"#2cb17d\",\"#2eb27c\",\"#2fb37b\",\"#30b47a\",\"#32b57a\",\"#33b679\",\"#35b778\",\"#36b877\",\"#38b976\",\"#39b976\",\"#3bba75\",\"#3dbb74\",\"#3ebc73\",\"#40bd72\",\"#42be71\",\"#44be70\",\"#45bf6f\",\"#47c06e\",\"#49c16d\",\"#4bc26c\",\"#4dc26b\",\"#4fc369\",\"#51c468\",\"#53c567\",\"#55c666\",\"#57c665\",\"#59c764\",\"#5bc862\",\"#5ec961\",\"#60c960\",\"#62ca5f\",\"#64cb5d\",\"#67cc5c\",\"#69cc5b\",\"#6bcd59\",\"#6dce58\",\"#70ce56\",\"#72cf55\",\"#74d054\",\"#77d052\",\"#79d151\",\"#7cd24f\",\"#7ed24e\",\"#81d34c\",\"#83d34b\",\"#86d449\",\"#88d547\",\"#8bd546\",\"#8dd644\",\"#90d643\",\"#92d741\",\"#95d73f\",\"#97d83e\",\"#9ad83c\",\"#9dd93a\",\"#9fd938\",\"#a2da37\",\"#a5da35\",\"#a7db33\",\"#aadb32\",\"#addc30\",\"#afdc2e\",\"#b2dd2c\",\"#b5dd2b\",\"#b7dd29\",\"#bade27\",\"#bdde26\",\"#bfdf24\",\"#c2df22\",\"#c5df21\",\"#c7e01f\",\"#cae01e\",\"#cde01d\",\"#cfe11c\",\"#d2e11b\",\"#d4e11a\",\"#d7e219\",\"#dae218\",\"#dce218\",\"#dfe318\",\"#e1e318\",\"#e4e318\",\"#e7e419\",\"#e9e419\",\"#ece41a\",\"#eee51b\",\"#f1e51c\",\"#f3e51e\",\"#f6e61f\",\"#f8e621\",\"#fae622\",\"#fde724\"]},\"id\":\"6108\",\"type\":\"LinearColorMapper\"}],\"root_ids\":[\"6071\",\"6182\"]},\"title\":\"Bokeh Application\",\"version\":\"2.4.2\"}};\n",
       "    var render_items = [{\"docid\":\"282bc260-d920-4edd-bf68-b9bf089759f3\",\"root_ids\":[\"6071\"],\"roots\":{\"6071\":\"3b6678c8-243a-494a-892e-9cfc3196bfd4\"}}];\n",
       "    root.Bokeh.embed.embed_items_notebook(docs_json, render_items);\n",
       "  }\n",
       "  if (root.Bokeh !== undefined && root.Bokeh.Panel !== undefined) {\n",
       "    embed_document(root);\n",
       "  } else {\n",
       "    var attempts = 0;\n",
       "    var timer = setInterval(function(root) {\n",
       "      if (root.Bokeh !== undefined && root.Bokeh.Panel !== undefined) {\n",
       "        clearInterval(timer);\n",
       "        embed_document(root);\n",
       "      } else if (document.readyState == \"complete\") {\n",
       "        attempts++;\n",
       "        if (attempts > 200) {\n",
       "          clearInterval(timer);\n",
       "          console.log(\"Bokeh: ERROR: Unable to run BokehJS code because BokehJS library is missing\");\n",
       "        }\n",
       "      }\n",
       "    }, 25, root)\n",
       "  }\n",
       "})(window);</script>"
      ],
      "text/plain": [
       "Column\n",
       "    [0] Column\n",
       "        [0] IntSlider(end=300, name='number_of_sales', start=-100, value=100)\n",
       "    [1] Row\n",
       "        [0] HoloViews(Scatter, name='interactive08947')"
      ]
     },
     "execution_count": 22,
     "metadata": {
      "application/vnd.holoviews_exec.v0+json": {
       "id": "6071"
      }
     },
     "output_type": "execute_result"
    }
   ],
   "source": [
    "# Define function to create plot\n",
    "def plot_housing_tx(number_of_sales):\n",
    "    housing_transactions = pd.DataFrame(\n",
    "        {\n",
    "            \"years\": np.random.randint(2010, 2019, number_of_sales),\n",
    "            \"sales\": np.random.randint(53, 500, number_of_sales),\n",
    "            \"foreclosures\": np.random.randint(10, 147, number_of_sales),\n",
    "        }\n",
    "    ).sort_values([\"years\", \"sales\"])\n",
    "\n",
    "    return housing_transactions.hvplot.scatter(\n",
    "        x=\"sales\",\n",
    "        y=\"foreclosures\",\n",
    "        c=\"years\",\n",
    "        colormap=\"viridis\",\n",
    "        title=\"Alleghany, PA Housing Transactions\",\n",
    "    )\n",
    "\n",
    "\n",
    "# Render plot with Panel interactive widget\n",
    "interact(plot_housing_tx, number_of_sales=100)"
   ]
  },
  {
   "cell_type": "code",
   "execution_count": null,
   "metadata": {},
   "outputs": [],
   "source": []
  }
 ],
 "metadata": {
  "file_extension": ".py",
  "kernelspec": {
   "display_name": "Python [conda env:pyvizenv] *",
   "language": "python",
   "name": "conda-env-pyvizenv-py"
  },
  "language_info": {
   "codemirror_mode": {
    "name": "ipython",
    "version": 3
   },
   "file_extension": ".py",
   "mimetype": "text/x-python",
   "name": "python",
   "nbconvert_exporter": "python",
   "pygments_lexer": "ipython3",
   "version": "3.7.11"
  },
  "mimetype": "text/x-python",
  "name": "python",
  "npconvert_exporter": "python",
  "pygments_lexer": "ipython3",
  "version": 3
 },
 "nbformat": 4,
 "nbformat_minor": 4
}
