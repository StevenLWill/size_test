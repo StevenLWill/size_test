version https://git-lfs.github.com/spec/v1
oid sha256:94eb63c770dcf1865769f3d633bad48f8eec2543c53cecd7e7e095cf487dda9e
size 2549263
