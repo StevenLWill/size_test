version https://git-lfs.github.com/spec/v1
oid sha256:b7502f9b8a170d046a61b644998905a2eec8892189b1a40bce2330cbd67a85cd
size 103125
