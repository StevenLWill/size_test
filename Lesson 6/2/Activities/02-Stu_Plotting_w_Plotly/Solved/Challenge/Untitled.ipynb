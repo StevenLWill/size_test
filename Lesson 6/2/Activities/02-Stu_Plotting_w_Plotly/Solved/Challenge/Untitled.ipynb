{
 "cells": [
  {
   "cell_type": "code",
   "execution_count": 23,
   "id": "02423218-824f-44b0-ba6a-34e2e2cf3cae",
   "metadata": {},
   "outputs": [
    {
     "data": {
      "image/png": "[encoded data removed]",
      "text/plain": [
       "<Figure size 432x216 with 1 Axes>"
      ]
     },
     "metadata": {},
     "output_type": "display_data"
    }
   ],
   "source": [
    "import matplotlib.pyplot as plt\n",
    "import numpy as np\n",
    "fig, ax = plt.subplots(figsize=(6, 3), subplot_kw=dict(aspect=\"equal\"))\n",
    "\n",
    "recipe = [\"225 g flour\",\n",
    "          \"90 g sugar\",\n",
    "          \"1 egg\",\n",
    "          \"60 g butter\",\n",
    "          \"100 ml milk\",\n",
    "          \"1/2 package of yeast\"]\n",
    "\n",
    "data = [225, 90, 50, 60, 100, 5]\n",
    "y_df = pd.Series(data)\n",
    "\n",
    "wedges, texts = ax.pie(data, wedgeprops=dict(width=0.5), startangle=-40)\n",
    "\n",
    "for i, p in enumerate(wedges):\n",
    "    ang = (p.theta2 - p.theta1)/2. + p.theta1\n",
    "    y = np.sin(np.deg2rad(ang))\n",
    "    x = np.cos(np.deg2rad(ang))\n",
    "    horizontalalignment = {-1: \"right\", 1: \"left\"}[int(np.sign(x))]\n",
    "    ax.annotate(y_df[i], xy=(x, y), xytext=(1.35*np.sign(x), 1.4*y),\n",
    "                horizontalalignment=horizontalalignment, **kw)\n",
    "\n",
    "#bbox_props = dict(boxstyle=\"square,pad=0.3\", fc=\"w\", ec=\"k\", lw=0.72)\n",
    "kw = dict(arrowprops=dict(arrowstyle=\"-\"),\n",
    "          bbox=bbox_props, zorder=0, va=\"center\")\n",
    "\n",
    "#for i, p in enumerate(wedges):\n",
    "    #ang = (p.theta2 - p.theta1)/2. + p.theta1\n",
    "    #y = np.sin(np.deg2rad(ang))\n",
    "    #x = np.cos(np.deg2rad(ang))\n",
    "    #horizontalalignment = {-1: \"right\", 1: \"left\"}[int(np.sign(x))]\n",
    "    #connectionstyle = \"angle,angleA=0,angleB={}\".format(ang)\n",
    "    #kw[\"arrowprops\"].update({\"connectionstyle\": connectionstyle})\n",
    "    #ax.annotate(recipe[i], xy=(x, y), xytext=(1.35*np.sign(x), 1.4*y),\n",
    "    #            horizontalalignment=horizontalalignment, **kw)\n",
    "\n",
    "#ax.set_title(\"Matplotlib bakery: A donut\")\n",
    "#ax.annotate(\n",
    "\n",
    "plt.show()"
   ]
  },
  {
   "cell_type": "code",
   "execution_count": null,
   "id": "e9209e18-3018-42fd-8548-5d5a4796ae25",
   "metadata": {},
   "outputs": [],
   "source": []
  }
 ],
 "metadata": {
  "kernelspec": {
   "display_name": "Python 3 (ipykernel)",
   "language": "python",
   "name": "python3"
  },
  "language_info": {
   "codemirror_mode": {
    "name": "ipython",
    "version": 3
   },
   "file_extension": ".py",
   "mimetype": "text/x-python",
   "name": "python",
   "nbconvert_exporter": "python",
   "pygments_lexer": "ipython3",
   "version": "3.9.7"
  }
 },
 "nbformat": 4,
 "nbformat_minor": 5
}
